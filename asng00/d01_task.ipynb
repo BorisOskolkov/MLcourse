{
  "nbformat": 4,
  "nbformat_minor": 0,
  "metadata": {
    "kernelspec": {
      "display_name": "Python 3",
      "language": "python",
      "name": "python3"
    },
    "language_info": {
      "codemirror_mode": {
        "name": "ipython",
        "version": 3
      },
      "file_extension": ".py",
      "mimetype": "text/x-python",
      "name": "python",
      "nbconvert_exporter": "python",
      "pygments_lexer": "ipython3",
      "version": "3.7.7"
    },
    "colab": {
      "name": "d01_task.ipynb",
      "provenance": [],
      "collapsed_sections": []
    }
  },
  "cells": [
    {
      "cell_type": "markdown",
      "metadata": {
        "id": "dn9PG9DthT25"
      },
      "source": [
        "# День 01 – Чистка данных I"
      ]
    },
    {
      "cell_type": "markdown",
      "metadata": {
        "id": "Dqx3eqmghT2-"
      },
      "source": [
        "Сегодня вы начинаете заниматься важным процессом – очистки данных. Это может быть иногда нудно и скучно, но это приходиться делать. Потому что иначе никакого анализа данных не получится. Точнее он будет максимально бесполезным, а может быть даже и вредным."
      ]
    },
    {
      "cell_type": "markdown",
      "metadata": {
        "id": "q9GUzihShT2_"
      },
      "source": [
        "## 0. Импорт библиотек"
      ]
    },
    {
      "cell_type": "code",
      "metadata": {
        "id": "zI8i4E-NhT3A"
      },
      "source": [
        "import pandas as pd\n",
        "import numpy as np "
      ],
      "execution_count": null,
      "outputs": []
    },
    {
      "cell_type": "markdown",
      "metadata": {
        "id": "BqkvhibJhT3B"
      },
      "source": [
        "## 1. Загрузка данных"
      ]
    },
    {
      "cell_type": "code",
      "metadata": {
        "colab": {
          "base_uri": "https://localhost:8080/"
        },
        "id": "FDtNWblQhfd8",
        "outputId": "71845b36-e5d4-4b22-d07a-2cc5f48358b2"
      },
      "source": [
        "from google.colab import drive\n",
        "drive.mount('/content/drive')"
      ],
      "execution_count": null,
      "outputs": [
        {
          "output_type": "stream",
          "text": [
            "Mounted at /content/drive\n"
          ],
          "name": "stdout"
        }
      ]
    },
    {
      "cell_type": "code",
      "metadata": {
        "colab": {
          "base_uri": "https://localhost:8080/",
          "height": 270
        },
        "id": "0-5o2H5phT3B",
        "outputId": "846fd9e1-1beb-4c44-fb66-27b86f7247d3"
      },
      "source": [
        "df = pd.read_csv('/content/drive/MyDrive/School21/day01/bank_data_train.csv') \n",
        "df.head() "
      ],
      "execution_count": null,
      "outputs": [
        {
          "output_type": "execute_result",
          "data": {
            "text/html": [
              "<div>\n",
              "<style scoped>\n",
              "    .dataframe tbody tr th:only-of-type {\n",
              "        vertical-align: middle;\n",
              "    }\n",
              "\n",
              "    .dataframe tbody tr th {\n",
              "        vertical-align: top;\n",
              "    }\n",
              "\n",
              "    .dataframe thead th {\n",
              "        text-align: right;\n",
              "    }\n",
              "</style>\n",
              "<table border=\"1\" class=\"dataframe\">\n",
              "  <thead>\n",
              "    <tr style=\"text-align: right;\">\n",
              "      <th></th>\n",
              "      <th>ID</th>\n",
              "      <th>CR_PROD_CNT_IL</th>\n",
              "      <th>AMOUNT_RUB_CLO_PRC</th>\n",
              "      <th>PRC_ACCEPTS_A_EMAIL_LINK</th>\n",
              "      <th>APP_REGISTR_RGN_CODE</th>\n",
              "      <th>PRC_ACCEPTS_A_POS</th>\n",
              "      <th>PRC_ACCEPTS_A_TK</th>\n",
              "      <th>TURNOVER_DYNAMIC_IL_1M</th>\n",
              "      <th>CNT_TRAN_AUT_TENDENCY1M</th>\n",
              "      <th>SUM_TRAN_AUT_TENDENCY1M</th>\n",
              "      <th>AMOUNT_RUB_SUP_PRC</th>\n",
              "      <th>PRC_ACCEPTS_A_AMOBILE</th>\n",
              "      <th>SUM_TRAN_AUT_TENDENCY3M</th>\n",
              "      <th>CLNT_TRUST_RELATION</th>\n",
              "      <th>PRC_ACCEPTS_TK</th>\n",
              "      <th>PRC_ACCEPTS_A_MTP</th>\n",
              "      <th>REST_DYNAMIC_FDEP_1M</th>\n",
              "      <th>CNT_TRAN_AUT_TENDENCY3M</th>\n",
              "      <th>CNT_ACCEPTS_TK</th>\n",
              "      <th>APP_MARITAL_STATUS</th>\n",
              "      <th>REST_DYNAMIC_SAVE_3M</th>\n",
              "      <th>CR_PROD_CNT_VCU</th>\n",
              "      <th>REST_AVG_CUR</th>\n",
              "      <th>CNT_TRAN_MED_TENDENCY1M</th>\n",
              "      <th>APP_KIND_OF_PROP_HABITATION</th>\n",
              "      <th>CLNT_JOB_POSITION_TYPE</th>\n",
              "      <th>AMOUNT_RUB_NAS_PRC</th>\n",
              "      <th>CLNT_JOB_POSITION</th>\n",
              "      <th>APP_DRIVING_LICENSE</th>\n",
              "      <th>TRANS_COUNT_SUP_PRC</th>\n",
              "      <th>APP_EDUCATION</th>\n",
              "      <th>CNT_TRAN_CLO_TENDENCY1M</th>\n",
              "      <th>SUM_TRAN_MED_TENDENCY1M</th>\n",
              "      <th>PRC_ACCEPTS_A_ATM</th>\n",
              "      <th>PRC_ACCEPTS_MTP</th>\n",
              "      <th>TRANS_COUNT_NAS_PRC</th>\n",
              "      <th>APP_TRAVEL_PASS</th>\n",
              "      <th>CNT_ACCEPTS_MTP</th>\n",
              "      <th>CR_PROD_CNT_TOVR</th>\n",
              "      <th>APP_CAR</th>\n",
              "      <th>...</th>\n",
              "      <th>TURNOVER_DYNAMIC_IL_3M</th>\n",
              "      <th>SUM_TRAN_ATM_TENDENCY3M</th>\n",
              "      <th>DEAL_GRACE_DAYS_ACC_S1X1</th>\n",
              "      <th>AVG_PCT_MONTH_TO_PCLOSE</th>\n",
              "      <th>DEAL_YWZ_IR_MIN</th>\n",
              "      <th>SUM_TRAN_SUP_TENDENCY1M</th>\n",
              "      <th>DEAL_YWZ_IR_MAX</th>\n",
              "      <th>SUM_TRAN_ATM_TENDENCY1M</th>\n",
              "      <th>REST_DYNAMIC_PAYM_1M</th>\n",
              "      <th>CNT_TRAN_SUP_TENDENCY1M</th>\n",
              "      <th>DEAL_GRACE_DAYS_ACC_AVG</th>\n",
              "      <th>TURNOVER_DYNAMIC_CUR_3M</th>\n",
              "      <th>PACK</th>\n",
              "      <th>MAX_PCLOSE_DATE</th>\n",
              "      <th>LDEAL_YQZ_PC</th>\n",
              "      <th>CLNT_SETUP_TENOR</th>\n",
              "      <th>DEAL_GRACE_DAYS_ACC_MAX</th>\n",
              "      <th>TURNOVER_DYNAMIC_PAYM_3M</th>\n",
              "      <th>LDEAL_DELINQ_PER_MAXYQZ</th>\n",
              "      <th>TURNOVER_DYNAMIC_PAYM_1M</th>\n",
              "      <th>CLNT_SALARY_VALUE</th>\n",
              "      <th>TRANS_AMOUNT_TENDENCY3M</th>\n",
              "      <th>MED_DEBT_PRC_YQZ</th>\n",
              "      <th>TRANS_CNT_TENDENCY3M</th>\n",
              "      <th>LDEAL_USED_AMT_AVG_YQZ</th>\n",
              "      <th>REST_DYNAMIC_CC_1M</th>\n",
              "      <th>LDEAL_USED_AMT_AVG_YWZ</th>\n",
              "      <th>TURNOVER_DYNAMIC_CC_1M</th>\n",
              "      <th>AVG_PCT_DEBT_TO_DEAL_AMT</th>\n",
              "      <th>LDEAL_ACT_DAYS_ACC_PCT_AVG</th>\n",
              "      <th>REST_DYNAMIC_CC_3M</th>\n",
              "      <th>MED_DEBT_PRC_YWZ</th>\n",
              "      <th>LDEAL_ACT_DAYS_PCT_TR3</th>\n",
              "      <th>LDEAL_ACT_DAYS_PCT_AAVG</th>\n",
              "      <th>LDEAL_DELINQ_PER_MAXYWZ</th>\n",
              "      <th>TURNOVER_DYNAMIC_CC_3M</th>\n",
              "      <th>LDEAL_ACT_DAYS_PCT_TR</th>\n",
              "      <th>LDEAL_ACT_DAYS_PCT_TR4</th>\n",
              "      <th>LDEAL_ACT_DAYS_PCT_CURR</th>\n",
              "      <th>TARGET</th>\n",
              "    </tr>\n",
              "  </thead>\n",
              "  <tbody>\n",
              "    <tr>\n",
              "      <th>0</th>\n",
              "      <td>146841</td>\n",
              "      <td>0</td>\n",
              "      <td>0.000000</td>\n",
              "      <td>NaN</td>\n",
              "      <td>NaN</td>\n",
              "      <td>NaN</td>\n",
              "      <td>NaN</td>\n",
              "      <td>0.0</td>\n",
              "      <td>NaN</td>\n",
              "      <td>NaN</td>\n",
              "      <td>0.000000</td>\n",
              "      <td>NaN</td>\n",
              "      <td>NaN</td>\n",
              "      <td>NaN</td>\n",
              "      <td>NaN</td>\n",
              "      <td>NaN</td>\n",
              "      <td>0.0</td>\n",
              "      <td>NaN</td>\n",
              "      <td>NaN</td>\n",
              "      <td>NaN</td>\n",
              "      <td>0.541683</td>\n",
              "      <td>0</td>\n",
              "      <td>156067.339767</td>\n",
              "      <td>NaN</td>\n",
              "      <td>NaN</td>\n",
              "      <td>NaN</td>\n",
              "      <td>0.0</td>\n",
              "      <td>начальник отдела</td>\n",
              "      <td>NaN</td>\n",
              "      <td>0.000000</td>\n",
              "      <td>NaN</td>\n",
              "      <td>NaN</td>\n",
              "      <td>NaN</td>\n",
              "      <td>NaN</td>\n",
              "      <td>NaN</td>\n",
              "      <td>0.0</td>\n",
              "      <td>NaN</td>\n",
              "      <td>NaN</td>\n",
              "      <td>0</td>\n",
              "      <td>NaN</td>\n",
              "      <td>...</td>\n",
              "      <td>0.0</td>\n",
              "      <td>0.483032</td>\n",
              "      <td>NaN</td>\n",
              "      <td>NaN</td>\n",
              "      <td>NaN</td>\n",
              "      <td>NaN</td>\n",
              "      <td>NaN</td>\n",
              "      <td>0.134634</td>\n",
              "      <td>0.0</td>\n",
              "      <td>NaN</td>\n",
              "      <td>NaN</td>\n",
              "      <td>0.442285</td>\n",
              "      <td>K01</td>\n",
              "      <td>NaN</td>\n",
              "      <td>NaN</td>\n",
              "      <td>1.593023</td>\n",
              "      <td>NaN</td>\n",
              "      <td>0.0</td>\n",
              "      <td>NaN</td>\n",
              "      <td>0.0</td>\n",
              "      <td>NaN</td>\n",
              "      <td>0.483032</td>\n",
              "      <td>NaN</td>\n",
              "      <td>0.406780</td>\n",
              "      <td>NaN</td>\n",
              "      <td>0.0</td>\n",
              "      <td>NaN</td>\n",
              "      <td>0.0</td>\n",
              "      <td>NaN</td>\n",
              "      <td>NaN</td>\n",
              "      <td>0.0</td>\n",
              "      <td>NaN</td>\n",
              "      <td>NaN</td>\n",
              "      <td>NaN</td>\n",
              "      <td>NaN</td>\n",
              "      <td>0.0</td>\n",
              "      <td>NaN</td>\n",
              "      <td>NaN</td>\n",
              "      <td>NaN</td>\n",
              "      <td>0</td>\n",
              "    </tr>\n",
              "    <tr>\n",
              "      <th>1</th>\n",
              "      <td>146842</td>\n",
              "      <td>0</td>\n",
              "      <td>0.041033</td>\n",
              "      <td>NaN</td>\n",
              "      <td>NaN</td>\n",
              "      <td>NaN</td>\n",
              "      <td>NaN</td>\n",
              "      <td>0.0</td>\n",
              "      <td>0.166667</td>\n",
              "      <td>0.186107</td>\n",
              "      <td>0.244678</td>\n",
              "      <td>NaN</td>\n",
              "      <td>0.670968</td>\n",
              "      <td>NaN</td>\n",
              "      <td>NaN</td>\n",
              "      <td>NaN</td>\n",
              "      <td>0.0</td>\n",
              "      <td>0.666667</td>\n",
              "      <td>NaN</td>\n",
              "      <td>NaN</td>\n",
              "      <td>0.000000</td>\n",
              "      <td>0</td>\n",
              "      <td>4278.845817</td>\n",
              "      <td>NaN</td>\n",
              "      <td>NaN</td>\n",
              "      <td>NaN</td>\n",
              "      <td>0.0</td>\n",
              "      <td>NaN</td>\n",
              "      <td>NaN</td>\n",
              "      <td>0.454545</td>\n",
              "      <td>NaN</td>\n",
              "      <td>NaN</td>\n",
              "      <td>NaN</td>\n",
              "      <td>NaN</td>\n",
              "      <td>NaN</td>\n",
              "      <td>0.0</td>\n",
              "      <td>NaN</td>\n",
              "      <td>NaN</td>\n",
              "      <td>0</td>\n",
              "      <td>NaN</td>\n",
              "      <td>...</td>\n",
              "      <td>0.0</td>\n",
              "      <td>0.200000</td>\n",
              "      <td>NaN</td>\n",
              "      <td>NaN</td>\n",
              "      <td>NaN</td>\n",
              "      <td>0.309799</td>\n",
              "      <td>NaN</td>\n",
              "      <td>0.133333</td>\n",
              "      <td>0.0</td>\n",
              "      <td>0.24</td>\n",
              "      <td>NaN</td>\n",
              "      <td>0.515876</td>\n",
              "      <td>102</td>\n",
              "      <td>NaN</td>\n",
              "      <td>NaN</td>\n",
              "      <td>1.587647</td>\n",
              "      <td>NaN</td>\n",
              "      <td>0.0</td>\n",
              "      <td>NaN</td>\n",
              "      <td>0.0</td>\n",
              "      <td>NaN</td>\n",
              "      <td>0.394340</td>\n",
              "      <td>NaN</td>\n",
              "      <td>0.545455</td>\n",
              "      <td>NaN</td>\n",
              "      <td>0.0</td>\n",
              "      <td>NaN</td>\n",
              "      <td>0.0</td>\n",
              "      <td>NaN</td>\n",
              "      <td>NaN</td>\n",
              "      <td>0.0</td>\n",
              "      <td>NaN</td>\n",
              "      <td>NaN</td>\n",
              "      <td>NaN</td>\n",
              "      <td>NaN</td>\n",
              "      <td>0.0</td>\n",
              "      <td>NaN</td>\n",
              "      <td>NaN</td>\n",
              "      <td>NaN</td>\n",
              "      <td>0</td>\n",
              "    </tr>\n",
              "    <tr>\n",
              "      <th>2</th>\n",
              "      <td>146843</td>\n",
              "      <td>0</td>\n",
              "      <td>0.006915</td>\n",
              "      <td>0.0</td>\n",
              "      <td>NaN</td>\n",
              "      <td>0.0</td>\n",
              "      <td>0.0</td>\n",
              "      <td>0.0</td>\n",
              "      <td>NaN</td>\n",
              "      <td>NaN</td>\n",
              "      <td>0.000000</td>\n",
              "      <td>0.0</td>\n",
              "      <td>NaN</td>\n",
              "      <td>NaN</td>\n",
              "      <td>0.0</td>\n",
              "      <td>0.0</td>\n",
              "      <td>0.0</td>\n",
              "      <td>NaN</td>\n",
              "      <td>0.0</td>\n",
              "      <td>NaN</td>\n",
              "      <td>0.000000</td>\n",
              "      <td>0</td>\n",
              "      <td>112837.062817</td>\n",
              "      <td>NaN</td>\n",
              "      <td>NaN</td>\n",
              "      <td>NaN</td>\n",
              "      <td>0.0</td>\n",
              "      <td>ГЕНЕРАЛЬНЫЙ ДИРЕКТОР</td>\n",
              "      <td>NaN</td>\n",
              "      <td>0.000000</td>\n",
              "      <td>NaN</td>\n",
              "      <td>NaN</td>\n",
              "      <td>NaN</td>\n",
              "      <td>0.0</td>\n",
              "      <td>0.0</td>\n",
              "      <td>0.0</td>\n",
              "      <td>NaN</td>\n",
              "      <td>0.0</td>\n",
              "      <td>0</td>\n",
              "      <td>NaN</td>\n",
              "      <td>...</td>\n",
              "      <td>0.0</td>\n",
              "      <td>0.431656</td>\n",
              "      <td>NaN</td>\n",
              "      <td>NaN</td>\n",
              "      <td>NaN</td>\n",
              "      <td>NaN</td>\n",
              "      <td>NaN</td>\n",
              "      <td>0.063129</td>\n",
              "      <td>0.0</td>\n",
              "      <td>NaN</td>\n",
              "      <td>NaN</td>\n",
              "      <td>0.522833</td>\n",
              "      <td>102</td>\n",
              "      <td>NaN</td>\n",
              "      <td>NaN</td>\n",
              "      <td>1.587647</td>\n",
              "      <td>NaN</td>\n",
              "      <td>0.0</td>\n",
              "      <td>NaN</td>\n",
              "      <td>0.0</td>\n",
              "      <td>NaN</td>\n",
              "      <td>0.399342</td>\n",
              "      <td>NaN</td>\n",
              "      <td>0.297297</td>\n",
              "      <td>NaN</td>\n",
              "      <td>0.0</td>\n",
              "      <td>NaN</td>\n",
              "      <td>0.0</td>\n",
              "      <td>NaN</td>\n",
              "      <td>NaN</td>\n",
              "      <td>0.0</td>\n",
              "      <td>NaN</td>\n",
              "      <td>NaN</td>\n",
              "      <td>NaN</td>\n",
              "      <td>NaN</td>\n",
              "      <td>0.0</td>\n",
              "      <td>NaN</td>\n",
              "      <td>NaN</td>\n",
              "      <td>NaN</td>\n",
              "      <td>0</td>\n",
              "    </tr>\n",
              "    <tr>\n",
              "      <th>3</th>\n",
              "      <td>146844</td>\n",
              "      <td>0</td>\n",
              "      <td>0.000000</td>\n",
              "      <td>NaN</td>\n",
              "      <td>NaN</td>\n",
              "      <td>NaN</td>\n",
              "      <td>NaN</td>\n",
              "      <td>0.0</td>\n",
              "      <td>NaN</td>\n",
              "      <td>NaN</td>\n",
              "      <td>0.000000</td>\n",
              "      <td>NaN</td>\n",
              "      <td>NaN</td>\n",
              "      <td>NaN</td>\n",
              "      <td>NaN</td>\n",
              "      <td>NaN</td>\n",
              "      <td>0.0</td>\n",
              "      <td>NaN</td>\n",
              "      <td>NaN</td>\n",
              "      <td>NaN</td>\n",
              "      <td>0.005874</td>\n",
              "      <td>0</td>\n",
              "      <td>42902.902883</td>\n",
              "      <td>NaN</td>\n",
              "      <td>NaN</td>\n",
              "      <td>NaN</td>\n",
              "      <td>0.0</td>\n",
              "      <td>МЕНЕДЖЕР ИАО</td>\n",
              "      <td>NaN</td>\n",
              "      <td>0.000000</td>\n",
              "      <td>NaN</td>\n",
              "      <td>NaN</td>\n",
              "      <td>NaN</td>\n",
              "      <td>NaN</td>\n",
              "      <td>NaN</td>\n",
              "      <td>0.0</td>\n",
              "      <td>NaN</td>\n",
              "      <td>NaN</td>\n",
              "      <td>0</td>\n",
              "      <td>NaN</td>\n",
              "      <td>...</td>\n",
              "      <td>0.0</td>\n",
              "      <td>NaN</td>\n",
              "      <td>NaN</td>\n",
              "      <td>NaN</td>\n",
              "      <td>NaN</td>\n",
              "      <td>NaN</td>\n",
              "      <td>NaN</td>\n",
              "      <td>NaN</td>\n",
              "      <td>0.0</td>\n",
              "      <td>NaN</td>\n",
              "      <td>NaN</td>\n",
              "      <td>0.000189</td>\n",
              "      <td>K01</td>\n",
              "      <td>NaN</td>\n",
              "      <td>NaN</td>\n",
              "      <td>1.583333</td>\n",
              "      <td>NaN</td>\n",
              "      <td>0.0</td>\n",
              "      <td>NaN</td>\n",
              "      <td>0.0</td>\n",
              "      <td>NaN</td>\n",
              "      <td>NaN</td>\n",
              "      <td>NaN</td>\n",
              "      <td>NaN</td>\n",
              "      <td>NaN</td>\n",
              "      <td>0.0</td>\n",
              "      <td>NaN</td>\n",
              "      <td>0.0</td>\n",
              "      <td>NaN</td>\n",
              "      <td>NaN</td>\n",
              "      <td>0.0</td>\n",
              "      <td>NaN</td>\n",
              "      <td>NaN</td>\n",
              "      <td>NaN</td>\n",
              "      <td>NaN</td>\n",
              "      <td>0.0</td>\n",
              "      <td>NaN</td>\n",
              "      <td>NaN</td>\n",
              "      <td>NaN</td>\n",
              "      <td>0</td>\n",
              "    </tr>\n",
              "    <tr>\n",
              "      <th>4</th>\n",
              "      <td>146845</td>\n",
              "      <td>0</td>\n",
              "      <td>0.000000</td>\n",
              "      <td>NaN</td>\n",
              "      <td>NaN</td>\n",
              "      <td>NaN</td>\n",
              "      <td>NaN</td>\n",
              "      <td>0.0</td>\n",
              "      <td>NaN</td>\n",
              "      <td>NaN</td>\n",
              "      <td>0.000000</td>\n",
              "      <td>NaN</td>\n",
              "      <td>NaN</td>\n",
              "      <td>NaN</td>\n",
              "      <td>NaN</td>\n",
              "      <td>NaN</td>\n",
              "      <td>0.0</td>\n",
              "      <td>NaN</td>\n",
              "      <td>NaN</td>\n",
              "      <td>NaN</td>\n",
              "      <td>0.000000</td>\n",
              "      <td>0</td>\n",
              "      <td>71906.476533</td>\n",
              "      <td>NaN</td>\n",
              "      <td>NaN</td>\n",
              "      <td>NaN</td>\n",
              "      <td>0.0</td>\n",
              "      <td>NaN</td>\n",
              "      <td>NaN</td>\n",
              "      <td>0.000000</td>\n",
              "      <td>NaN</td>\n",
              "      <td>NaN</td>\n",
              "      <td>NaN</td>\n",
              "      <td>NaN</td>\n",
              "      <td>NaN</td>\n",
              "      <td>0.0</td>\n",
              "      <td>NaN</td>\n",
              "      <td>NaN</td>\n",
              "      <td>0</td>\n",
              "      <td>NaN</td>\n",
              "      <td>...</td>\n",
              "      <td>0.0</td>\n",
              "      <td>0.611610</td>\n",
              "      <td>NaN</td>\n",
              "      <td>NaN</td>\n",
              "      <td>NaN</td>\n",
              "      <td>NaN</td>\n",
              "      <td>NaN</td>\n",
              "      <td>0.200415</td>\n",
              "      <td>0.0</td>\n",
              "      <td>NaN</td>\n",
              "      <td>NaN</td>\n",
              "      <td>0.593648</td>\n",
              "      <td>102</td>\n",
              "      <td>NaN</td>\n",
              "      <td>NaN</td>\n",
              "      <td>1.583333</td>\n",
              "      <td>NaN</td>\n",
              "      <td>0.0</td>\n",
              "      <td>NaN</td>\n",
              "      <td>0.0</td>\n",
              "      <td>NaN</td>\n",
              "      <td>0.611610</td>\n",
              "      <td>NaN</td>\n",
              "      <td>0.620690</td>\n",
              "      <td>NaN</td>\n",
              "      <td>0.0</td>\n",
              "      <td>NaN</td>\n",
              "      <td>0.0</td>\n",
              "      <td>NaN</td>\n",
              "      <td>NaN</td>\n",
              "      <td>0.0</td>\n",
              "      <td>NaN</td>\n",
              "      <td>NaN</td>\n",
              "      <td>NaN</td>\n",
              "      <td>NaN</td>\n",
              "      <td>0.0</td>\n",
              "      <td>NaN</td>\n",
              "      <td>NaN</td>\n",
              "      <td>NaN</td>\n",
              "      <td>0</td>\n",
              "    </tr>\n",
              "  </tbody>\n",
              "</table>\n",
              "<p>5 rows × 116 columns</p>\n",
              "</div>"
            ],
            "text/plain": [
              "       ID  CR_PROD_CNT_IL  ...  LDEAL_ACT_DAYS_PCT_CURR  TARGET\n",
              "0  146841               0  ...                      NaN       0\n",
              "1  146842               0  ...                      NaN       0\n",
              "2  146843               0  ...                      NaN       0\n",
              "3  146844               0  ...                      NaN       0\n",
              "4  146845               0  ...                      NaN       0\n",
              "\n",
              "[5 rows x 116 columns]"
            ]
          },
          "metadata": {},
          "execution_count": 4
        }
      ]
    },
    {
      "cell_type": "markdown",
      "metadata": {
        "id": "TbDm-_UQhT3D"
      },
      "source": [
        "## 2. Полезные команды"
      ]
    },
    {
      "cell_type": "markdown",
      "metadata": {
        "id": "F0Op2KJ5hT3D"
      },
      "source": [
        "Ниже мы покажем несколько полезных команд, которые вам могут пригодиться для выполнения сегодняшнего задания."
      ]
    },
    {
      "cell_type": "markdown",
      "metadata": {
        "id": "7uWmxEfGhT3D"
      },
      "source": [
        "Напомним, что вы находитесь на этапе очистки данных, и сегодня вам нужно значения текстовых полей привести к единообразию. То есть слова, написанные немного по-разному, привести к одному варианту их написания."
      ]
    },
    {
      "cell_type": "markdown",
      "metadata": {
        "id": "lSC43eRKhT3E"
      },
      "source": [
        "1. Ниже команда, которая поможет вам выявить, какие же поля являются текстовыми."
      ]
    },
    {
      "cell_type": "code",
      "metadata": {
        "colab": {
          "base_uri": "https://localhost:8080/"
        },
        "id": "Pp-3sgbphT3E",
        "outputId": "9e3d7f33-c47f-4ebf-8aa9-cff8c16b5e2f"
      },
      "source": [
        "df.info(verbose=True)"
      ],
      "execution_count": null,
      "outputs": [
        {
          "output_type": "stream",
          "text": [
            "<class 'pandas.core.frame.DataFrame'>\n",
            "RangeIndex: 355190 entries, 0 to 355189\n",
            "Data columns (total 116 columns):\n",
            " #   Column                       Dtype  \n",
            "---  ------                       -----  \n",
            " 0   ID                           int64  \n",
            " 1   CR_PROD_CNT_IL               int64  \n",
            " 2   AMOUNT_RUB_CLO_PRC           float64\n",
            " 3   PRC_ACCEPTS_A_EMAIL_LINK     float64\n",
            " 4   APP_REGISTR_RGN_CODE         float64\n",
            " 5   PRC_ACCEPTS_A_POS            float64\n",
            " 6   PRC_ACCEPTS_A_TK             float64\n",
            " 7   TURNOVER_DYNAMIC_IL_1M       float64\n",
            " 8   CNT_TRAN_AUT_TENDENCY1M      float64\n",
            " 9   SUM_TRAN_AUT_TENDENCY1M      float64\n",
            " 10  AMOUNT_RUB_SUP_PRC           float64\n",
            " 11  PRC_ACCEPTS_A_AMOBILE        float64\n",
            " 12  SUM_TRAN_AUT_TENDENCY3M      float64\n",
            " 13  CLNT_TRUST_RELATION          object \n",
            " 14  PRC_ACCEPTS_TK               float64\n",
            " 15  PRC_ACCEPTS_A_MTP            float64\n",
            " 16  REST_DYNAMIC_FDEP_1M         float64\n",
            " 17  CNT_TRAN_AUT_TENDENCY3M      float64\n",
            " 18  CNT_ACCEPTS_TK               float64\n",
            " 19  APP_MARITAL_STATUS           object \n",
            " 20  REST_DYNAMIC_SAVE_3M         float64\n",
            " 21  CR_PROD_CNT_VCU              int64  \n",
            " 22  REST_AVG_CUR                 float64\n",
            " 23  CNT_TRAN_MED_TENDENCY1M      float64\n",
            " 24  APP_KIND_OF_PROP_HABITATION  object \n",
            " 25  CLNT_JOB_POSITION_TYPE       object \n",
            " 26  AMOUNT_RUB_NAS_PRC           float64\n",
            " 27  CLNT_JOB_POSITION            object \n",
            " 28  APP_DRIVING_LICENSE          object \n",
            " 29  TRANS_COUNT_SUP_PRC          float64\n",
            " 30  APP_EDUCATION                object \n",
            " 31  CNT_TRAN_CLO_TENDENCY1M      float64\n",
            " 32  SUM_TRAN_MED_TENDENCY1M      float64\n",
            " 33  PRC_ACCEPTS_A_ATM            float64\n",
            " 34  PRC_ACCEPTS_MTP              float64\n",
            " 35  TRANS_COUNT_NAS_PRC          float64\n",
            " 36  APP_TRAVEL_PASS              object \n",
            " 37  CNT_ACCEPTS_MTP              float64\n",
            " 38  CR_PROD_CNT_TOVR             int64  \n",
            " 39  APP_CAR                      object \n",
            " 40  CR_PROD_CNT_PIL              int64  \n",
            " 41  SUM_TRAN_CLO_TENDENCY1M      float64\n",
            " 42  APP_POSITION_TYPE            object \n",
            " 43  TURNOVER_CC                  float64\n",
            " 44  TRANS_COUNT_ATM_PRC          float64\n",
            " 45  AMOUNT_RUB_ATM_PRC           float64\n",
            " 46  TURNOVER_PAYM                float64\n",
            " 47  AGE                          int64  \n",
            " 48  CNT_TRAN_MED_TENDENCY3M      float64\n",
            " 49  CR_PROD_CNT_CC               int64  \n",
            " 50  SUM_TRAN_MED_TENDENCY3M      float64\n",
            " 51  REST_DYNAMIC_FDEP_3M         float64\n",
            " 52  REST_DYNAMIC_IL_1M           float64\n",
            " 53  APP_EMP_TYPE                 object \n",
            " 54  SUM_TRAN_CLO_TENDENCY3M      float64\n",
            " 55  LDEAL_TENOR_MAX              float64\n",
            " 56  LDEAL_YQZ_CHRG               float64\n",
            " 57  CR_PROD_CNT_CCFP             int64  \n",
            " 58  DEAL_YQZ_IR_MAX              float64\n",
            " 59  LDEAL_YQZ_COM                float64\n",
            " 60  DEAL_YQZ_IR_MIN              float64\n",
            " 61  CNT_TRAN_CLO_TENDENCY3M      float64\n",
            " 62  REST_DYNAMIC_CUR_1M          float64\n",
            " 63  REST_AVG_PAYM                float64\n",
            " 64  LDEAL_TENOR_MIN              float64\n",
            " 65  LDEAL_AMT_MONTH              float64\n",
            " 66  APP_COMP_TYPE                object \n",
            " 67  LDEAL_GRACE_DAYS_PCT_MED     float64\n",
            " 68  REST_DYNAMIC_CUR_3M          float64\n",
            " 69  CNT_TRAN_SUP_TENDENCY3M      float64\n",
            " 70  TURNOVER_DYNAMIC_CUR_1M      float64\n",
            " 71  REST_DYNAMIC_PAYM_3M         float64\n",
            " 72  SUM_TRAN_SUP_TENDENCY3M      float64\n",
            " 73  REST_DYNAMIC_IL_3M           float64\n",
            " 74  CNT_TRAN_ATM_TENDENCY3M      float64\n",
            " 75  CNT_TRAN_ATM_TENDENCY1M      float64\n",
            " 76  TURNOVER_DYNAMIC_IL_3M       float64\n",
            " 77  SUM_TRAN_ATM_TENDENCY3M      float64\n",
            " 78  DEAL_GRACE_DAYS_ACC_S1X1     float64\n",
            " 79  AVG_PCT_MONTH_TO_PCLOSE      float64\n",
            " 80  DEAL_YWZ_IR_MIN              float64\n",
            " 81  SUM_TRAN_SUP_TENDENCY1M      float64\n",
            " 82  DEAL_YWZ_IR_MAX              float64\n",
            " 83  SUM_TRAN_ATM_TENDENCY1M      float64\n",
            " 84  REST_DYNAMIC_PAYM_1M         float64\n",
            " 85  CNT_TRAN_SUP_TENDENCY1M      float64\n",
            " 86  DEAL_GRACE_DAYS_ACC_AVG      float64\n",
            " 87  TURNOVER_DYNAMIC_CUR_3M      float64\n",
            " 88  PACK                         object \n",
            " 89  MAX_PCLOSE_DATE              float64\n",
            " 90  LDEAL_YQZ_PC                 float64\n",
            " 91  CLNT_SETUP_TENOR             float64\n",
            " 92  DEAL_GRACE_DAYS_ACC_MAX      float64\n",
            " 93  TURNOVER_DYNAMIC_PAYM_3M     float64\n",
            " 94  LDEAL_DELINQ_PER_MAXYQZ      float64\n",
            " 95  TURNOVER_DYNAMIC_PAYM_1M     float64\n",
            " 96  CLNT_SALARY_VALUE            float64\n",
            " 97  TRANS_AMOUNT_TENDENCY3M      float64\n",
            " 98  MED_DEBT_PRC_YQZ             float64\n",
            " 99  TRANS_CNT_TENDENCY3M         float64\n",
            " 100 LDEAL_USED_AMT_AVG_YQZ       float64\n",
            " 101 REST_DYNAMIC_CC_1M           float64\n",
            " 102 LDEAL_USED_AMT_AVG_YWZ       float64\n",
            " 103 TURNOVER_DYNAMIC_CC_1M       float64\n",
            " 104 AVG_PCT_DEBT_TO_DEAL_AMT     float64\n",
            " 105 LDEAL_ACT_DAYS_ACC_PCT_AVG   float64\n",
            " 106 REST_DYNAMIC_CC_3M           float64\n",
            " 107 MED_DEBT_PRC_YWZ             float64\n",
            " 108 LDEAL_ACT_DAYS_PCT_TR3       float64\n",
            " 109 LDEAL_ACT_DAYS_PCT_AAVG      float64\n",
            " 110 LDEAL_DELINQ_PER_MAXYWZ      float64\n",
            " 111 TURNOVER_DYNAMIC_CC_3M       float64\n",
            " 112 LDEAL_ACT_DAYS_PCT_TR        float64\n",
            " 113 LDEAL_ACT_DAYS_PCT_TR4       float64\n",
            " 114 LDEAL_ACT_DAYS_PCT_CURR      float64\n",
            " 115 TARGET                       int64  \n",
            "dtypes: float64(94), int64(9), object(13)\n",
            "memory usage: 314.3+ MB\n"
          ],
          "name": "stdout"
        }
      ]
    },
    {
      "cell_type": "markdown",
      "metadata": {
        "id": "Od1XlcK_hT3E"
      },
      "source": [
        "2. Команда, позволяющая посмотреть **список уникальных значений** в столбце:"
      ]
    },
    {
      "cell_type": "code",
      "metadata": {
        "colab": {
          "base_uri": "https://localhost:8080/"
        },
        "id": "KEuWeJemhT3F",
        "outputId": "f977f561-76bf-4983-b68c-891bbada8ca5"
      },
      "source": [
        "df.APP_COMP_TYPE.unique()"
      ],
      "execution_count": null,
      "outputs": [
        {
          "output_type": "execute_result",
          "data": {
            "text/plain": [
              "array([nan, 'PRIVATE', 'STATE', 'IP', 'INTER'], dtype=object)"
            ]
          },
          "metadata": {},
          "execution_count": 6
        }
      ]
    },
    {
      "cell_type": "markdown",
      "metadata": {
        "id": "edwzo-G7hT3F"
      },
      "source": [
        "Она же, только представленная **в виде списка**. Бывает полезной, когда уникальных значений слишком много и в предыдущем варианте показываются не все из них. Плюс результат не содержит всякой лишней информации."
      ]
    },
    {
      "cell_type": "code",
      "metadata": {
        "colab": {
          "base_uri": "https://localhost:8080/"
        },
        "id": "EOQzZ83HhT3F",
        "outputId": "6883eec2-e3bf-4fa3-e0a7-5263a7b51acf"
      },
      "source": [
        "list(df.APP_COMP_TYPE.unique())"
      ],
      "execution_count": null,
      "outputs": [
        {
          "output_type": "execute_result",
          "data": {
            "text/plain": [
              "[nan, 'PRIVATE', 'STATE', 'IP', 'INTER']"
            ]
          },
          "metadata": {},
          "execution_count": 7
        }
      ]
    },
    {
      "cell_type": "markdown",
      "metadata": {
        "id": "-2Rki3JzhT3G"
      },
      "source": [
        "3. Команда, которая позволяет привести все значения признака в **нижний регистр**:"
      ]
    },
    {
      "cell_type": "code",
      "metadata": {
        "id": "2jm1NVRhhT3G"
      },
      "source": [
        "df.APP_COMP_TYPE = df.APP_COMP_TYPE.str.lower() #недостаточно просто применить метод lower к столбцу, нужно как бы его перезаписать"
      ],
      "execution_count": null,
      "outputs": []
    },
    {
      "cell_type": "code",
      "metadata": {
        "colab": {
          "base_uri": "https://localhost:8080/"
        },
        "id": "oVX_gl-XhT3G",
        "outputId": "4c9680c5-aa41-4ed6-f580-d2edd008feed"
      },
      "source": [
        "list(df.APP_COMP_TYPE.unique())"
      ],
      "execution_count": null,
      "outputs": [
        {
          "output_type": "execute_result",
          "data": {
            "text/plain": [
              "[nan, 'private', 'state', 'ip', 'inter']"
            ]
          },
          "metadata": {},
          "execution_count": 9
        }
      ]
    },
    {
      "cell_type": "markdown",
      "metadata": {
        "id": "NwBT2ZFlhT3G"
      },
      "source": [
        "4. Команда, которая позволяет **заменить значения в столбце** на другие значения:"
      ]
    },
    {
      "cell_type": "code",
      "metadata": {
        "id": "aefTaqjlhT3H"
      },
      "source": [
        "df.APP_COMP_TYPE.replace('state','гос',inplace=True)"
      ],
      "execution_count": null,
      "outputs": []
    },
    {
      "cell_type": "code",
      "metadata": {
        "colab": {
          "base_uri": "https://localhost:8080/"
        },
        "id": "5oa3oNJnhT3H",
        "outputId": "3afeb601-e415-4a15-a5b8-9433fa18d51b"
      },
      "source": [
        "list(df.APP_COMP_TYPE.unique())"
      ],
      "execution_count": null,
      "outputs": [
        {
          "output_type": "execute_result",
          "data": {
            "text/plain": [
              "[nan, 'private', 'гос', 'ip', 'inter']"
            ]
          },
          "metadata": {},
          "execution_count": 11
        }
      ]
    },
    {
      "cell_type": "markdown",
      "metadata": {
        "id": "bge9t4vwhT3H"
      },
      "source": [
        "5. Команда, которая позволяет **отсортировать** значения в списке (может пригодиться, чтобы посмотреть на длинный список):"
      ]
    },
    {
      "cell_type": "code",
      "metadata": {
        "colab": {
          "base_uri": "https://localhost:8080/",
          "height": 164
        },
        "id": "X9PgGRcDhT3H",
        "outputId": "5c27ebcb-b7b6-4b73-f4b7-912c3cb4f823"
      },
      "source": [
        "list(df.APP_COMP_TYPE.unique()).sort()"
      ],
      "execution_count": null,
      "outputs": [
        {
          "output_type": "error",
          "ename": "TypeError",
          "evalue": "ignored",
          "traceback": [
            "\u001b[0;31m---------------------------------------------------------------------------\u001b[0m",
            "\u001b[0;31mTypeError\u001b[0m                                 Traceback (most recent call last)",
            "\u001b[0;32m<ipython-input-12-aa016eb2ab2e>\u001b[0m in \u001b[0;36m<module>\u001b[0;34m()\u001b[0m\n\u001b[0;32m----> 1\u001b[0;31m \u001b[0mlist\u001b[0m\u001b[0;34m(\u001b[0m\u001b[0mdf\u001b[0m\u001b[0;34m.\u001b[0m\u001b[0mAPP_COMP_TYPE\u001b[0m\u001b[0;34m.\u001b[0m\u001b[0munique\u001b[0m\u001b[0;34m(\u001b[0m\u001b[0;34m)\u001b[0m\u001b[0;34m)\u001b[0m\u001b[0;34m.\u001b[0m\u001b[0msort\u001b[0m\u001b[0;34m(\u001b[0m\u001b[0;34m)\u001b[0m\u001b[0;34m\u001b[0m\u001b[0;34m\u001b[0m\u001b[0m\n\u001b[0m",
            "\u001b[0;31mTypeError\u001b[0m: '<' not supported between instances of 'str' and 'float'"
          ]
        }
      ]
    },
    {
      "cell_type": "markdown",
      "metadata": {
        "id": "pfKrJuoAhT3I"
      },
      "source": [
        "Пишет ошибку, потому что в списке есть nan – специальный тип данных, обозначающий пустое значение. По этой причине не может отсортировать список: все значения текстовые, а одно значение nan. Нужно этот nan удалить из списка уникальных значений, чтобы не мешался. Не будем вдаваться в подробности, почему ниже команда выглядит именно так. Она приводит нас к результату."
      ]
    },
    {
      "cell_type": "code",
      "metadata": {
        "colab": {
          "base_uri": "https://localhost:8080/"
        },
        "id": "Gn3I9UuFhT3I",
        "outputId": "4ad2f9ea-55ba-47ba-955d-7dcb0121079f"
      },
      "source": [
        "spisok = [x for x in list(df.APP_COMP_TYPE.unique()) if x == x]\n",
        "spisok.sort()\n",
        "spisok"
      ],
      "execution_count": null,
      "outputs": [
        {
          "output_type": "execute_result",
          "data": {
            "text/plain": [
              "['inter', 'ip', 'private', 'гос']"
            ]
          },
          "metadata": {},
          "execution_count": 13
        }
      ]
    },
    {
      "cell_type": "markdown",
      "metadata": {
        "id": "Etq1acDHhT3I"
      },
      "source": [
        "6. Команда, которая помогает **удалить из текстового поля числовые значения**, короткие значения, значения, где есть знаки препинания."
      ]
    },
    {
      "cell_type": "code",
      "metadata": {
        "id": "b7JCq0xuhT3J"
      },
      "source": [
        "df.APP_COMP_TYPE.where(df.APP_COMP_TYPE.str.replace(' ','').str.isalpha(), np.nan, inplace=True)"
      ],
      "execution_count": null,
      "outputs": []
    },
    {
      "cell_type": "code",
      "metadata": {
        "colab": {
          "base_uri": "https://localhost:8080/"
        },
        "id": "z9_3He70hT3J",
        "outputId": "df35b94f-ca6e-4583-998d-6247c655675b"
      },
      "source": [
        "list(df.APP_COMP_TYPE.unique())"
      ],
      "execution_count": null,
      "outputs": [
        {
          "output_type": "execute_result",
          "data": {
            "text/plain": [
              "[nan, 'private', 'гос', 'ip', 'inter']"
            ]
          },
          "metadata": {},
          "execution_count": 15
        }
      ]
    },
    {
      "cell_type": "markdown",
      "metadata": {
        "id": "brgFFfizhT3J"
      },
      "source": [
        "7. Если вам не хватает команд, представленных в этом ноутбуке, то вы можете **самостоятельно воспользоваться поиском в Google**."
      ]
    },
    {
      "cell_type": "markdown",
      "metadata": {
        "id": "3CoWdvnXhT3J"
      },
      "source": [
        "\"pandas how to save a csv-file with header\"\n",
        "\n",
        "\n",
        "\"pandas how to compare values of two columns\""
      ]
    },
    {
      "cell_type": "markdown",
      "metadata": {
        "id": "OHPbsBOahT3K"
      },
      "source": [
        "## 3. Самостоятельная часть"
      ]
    },
    {
      "cell_type": "markdown",
      "metadata": {
        "id": "olcrBAaVhT3K"
      },
      "source": [
        "Ниже вам нужно самим почистить датасет в части текстовых полей."
      ]
    },
    {
      "cell_type": "code",
      "metadata": {
        "id": "_T2lQKK_hT3K"
      },
      "source": [],
      "execution_count": null,
      "outputs": []
    },
    {
      "cell_type": "code",
      "metadata": {
        "id": "3mVt0JKahT3K"
      },
      "source": [],
      "execution_count": null,
      "outputs": []
    },
    {
      "cell_type": "code",
      "metadata": {
        "id": "MPRtJZ6DhT3K"
      },
      "source": [],
      "execution_count": null,
      "outputs": []
    },
    {
      "cell_type": "code",
      "metadata": {
        "id": "fF6I5ky8hT3K"
      },
      "source": [],
      "execution_count": null,
      "outputs": []
    },
    {
      "cell_type": "code",
      "metadata": {
        "id": "BX-HSx8ehT3L"
      },
      "source": [],
      "execution_count": null,
      "outputs": []
    },
    {
      "cell_type": "code",
      "metadata": {
        "id": "v-Ue3nkJhT3L"
      },
      "source": [],
      "execution_count": null,
      "outputs": []
    },
    {
      "cell_type": "code",
      "metadata": {
        "id": "Kh-CucZohT3L"
      },
      "source": [],
      "execution_count": null,
      "outputs": []
    }
  ]
}