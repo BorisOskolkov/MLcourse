{
 "cells": [
  {
   "cell_type": "markdown",
   "metadata": {
    "colab_type": "text",
    "id": "view-in-github"
   },
   "source": [
    "<a href=\"https://colab.research.google.com/github/BorisOskolkov/MLcourse/blob/main/asng00/A00_task.ipynb\" target=\"_parent\"><img src=\"https://colab.research.google.com/assets/colab-badge.svg\" alt=\"Open In Colab\"/></a>"
   ]
  },
  {
   "cell_type": "code",
   "execution_count": null,
   "metadata": {
    "id": "zI8i4E-NhT3A"
   },
   "outputs": [],
   "source": [
    "# this Ipython script should be in the folder containing test.txt and test.png\n",
    "# Made by Boris Oskolkov for Assignment00 (CS5783)\n",
    "import numpy as np \n",
    "import matplotlib.pyplot as plt\n",
    "import string\n",
    "import cv2\n",
    "from IPython.display import Image"
   ]
  },
  {
   "cell_type": "code",
   "execution_count": null,
   "metadata": {
    "id": "Rf0EnQQ0s_uC"
   },
   "outputs": [],
   "source": [
    "# --------- start of a first problem --------------\n",
    "# read a file\n",
    "with open('test.txt') as f:\n",
    "    text = f.read()"
   ]
  },
  {
   "cell_type": "code",
   "execution_count": null,
   "metadata": {
    "id": "OClMMOSntf7k"
   },
   "outputs": [],
   "source": [
    "# initialize a dictionary with alphabet letters\n",
    "letters = dict.fromkeys(string.ascii_lowercase, 0)\n",
    "\n",
    "# iterate through every letter in the text\n",
    "for letter in text:\n",
    "# excluding non-letters\n",
    "  if letter.isalpha():\n",
    "# checking until we find letter and then break the loop\n",
    "    for value in letters:\n",
    "      if letter == value:\n",
    "        letters[value] += 1\n",
    "        break"
   ]
  },
  {
   "cell_type": "code",
   "execution_count": null,
   "metadata": {
    "id": "LGbvjFF6NgM5"
   },
   "outputs": [],
   "source": [
    "# making a np array for letters values\n",
    "letters_values=np.array(list(letters.values()))\n",
    "# sum all letters\n",
    "number_of_letters = sum(letters_values) \n",
    "# making normalized values by dividing every value by sum\n",
    "letters_n_values=letters_values/number_of_letters"
   ]
  },
  {
   "cell_type": "code",
   "execution_count": null,
   "metadata": {
    "colab": {
     "base_uri": "https://localhost:8080/",
     "height": 279
    },
    "id": "R-11b-KKstg_",
    "outputId": "eb399d4c-8bb3-4eb4-f79c-1c8d441452aa"
   },
   "outputs": [
    {
     "data": {
      "image/png": "[encoded data removed]",
      "text/plain": [
       "<Figure size 432x288 with 1 Axes>"
      ]
     },
     "metadata": {
      "needs_background": "light"
     },
     "output_type": "display_data"
    }
   ],
   "source": [
    "# making the histogramm for normalized frequences\n",
    "plt1 = plt\n",
    "plt1.bar(list(letters.keys()), letters_n_values, color='g')\n",
    "plt1.xlabel(\"Letter\")\n",
    "plt1.ylabel(\"Normalized frequences\")\n",
    "plt1.show()\n"
   ]
  },
  {
   "cell_type": "code",
   "execution_count": null,
   "metadata": {
    "colab": {
     "base_uri": "https://localhost:8080/",
     "height": 279
    },
    "id": "ceVpxAP6iOz5",
    "outputId": "1303b532-069b-4dab-c227-591b4ed8ed99"
   },
   "outputs": [
    {
     "data": {
      "image/png": "[encoded data removed]",
      "text/plain": [
       "<Figure size 432x288 with 1 Axes>"
      ]
     },
     "metadata": {
      "needs_background": "light"
     },
     "output_type": "display_data"
    }
   ],
   "source": [
    "# making the histogramm for unnormalized frequences\n",
    "plt2 = plt\n",
    "plt2.bar(list(letters.keys()), letters_values, color='r')\n",
    "plt2.xlabel(\"Letter\")\n",
    "plt2.ylabel(\"Unnormalized frequences\")\n",
    "plt2.show()"
   ]
  },
  {
   "cell_type": "code",
   "execution_count": null,
   "metadata": {
    "id": "Ze5QWexsos7i"
   },
   "outputs": [],
   "source": [
    "# --------- end of a first problem --------------"
   ]
  },
  {
   "cell_type": "code",
   "execution_count": null,
   "metadata": {
    "colab": {
     "base_uri": "https://localhost:8080/",
     "height": 162
    },
    "id": "gkiPfQq-zqex",
    "outputId": "b60830c5-f646-4334-87f5-ea787e81ef05"
   },
   "outputs": [
    {
     "name": "stdout",
     "output_type": "stream",
     "text": [
      "Picture \"output1.png\" succesfully saved in the directory\n"
     ]
    },
    {
     "data": {
      "image/png": "[encoded data removed]",
      "text/plain": [
       "<IPython.core.display.Image object>"
      ]
     },
     "metadata": {},
     "output_type": "display_data"
    }
   ],
   "source": [
    "# --------- start of a second problem --------------\n",
    "# initialise problem conditions\n",
    "# load image into img variable\n",
    "img = cv2.imread(\"test.png\")\n",
    "# defining R,G,B pixels\n",
    "rgb_pixels = np.array([[255,0,0],[0,255,0],[0,0,255]])\n",
    "\n",
    "# finding out the dimensions of the image\n",
    "rows,columns,_ = img.shape\n",
    "\n",
    "# iterate over every pixel\n",
    "for i in range(rows):\n",
    "    for j in range(columns):\n",
    "      # reset distance variable to R,G,B pixels\n",
    "      result_distance = np.array([0,0,0])\n",
    "      for p in range(3):\n",
    "        #finding Euclidean distance to R,G,B pixels\n",
    "        result_distance[p] = np.linalg.norm(rgb_pixels[p]-img[i,j])\n",
    "      # choosing the smallest one and replace the initial pixel with the nearest R,G or B\n",
    "      img[i,j] = rgb_pixels[result_distance.argmin()] \n",
    "\n",
    "# Saving the image\n",
    "if cv2.imwrite('output1.png', img):\n",
    "  print(f'Picture \"output1.png\" succesfully saved in the directory' )\n",
    "  display(Image(filename='output1.png'))\n"
   ]
  },
  {
   "cell_type": "code",
   "execution_count": null,
   "metadata": {
    "colab": {
     "base_uri": "https://localhost:8080/",
     "height": 162
    },
    "id": "As88ozPrkFLo",
    "outputId": "7ee851ee-348f-4aed-cbc8-9e0ca5e65df7"
   },
   "outputs": [
    {
     "name": "stdout",
     "output_type": "stream",
     "text": [
      "Picture \"output2.png\" succesfully saved in the directory\n"
     ]
    },
    {
     "data": {
      "image/png": "[encoded data removed]",
      "text/plain": [
       "<IPython.core.display.Image object>"
      ]
     },
     "metadata": {},
     "output_type": "display_data"
    }
   ],
   "source": [
    "# Start cutting a square from the center\n",
    "square_side = 50\n",
    "# preparing variables for rows \n",
    "start_point = (rows-square_side)/2\n",
    "end_point = (rows+square_side)/2\n",
    "cut_rows = np.linspace(start_point, end_point , square_side, endpoint=False).astype(int)\n",
    "\n",
    "# preparing variables for columns \n",
    "start_point = (columns-square_side)/2\n",
    "end_point = (columns+square_side)/2\n",
    "cut_columns = np.linspace(start_point, end_point , square_side, endpoint=False).astype(int)\n",
    "\n",
    "# cutting a square\n",
    "for i in cut_rows:\n",
    "    for j in cut_columns:\n",
    "      img[i,j] = [0,0,0]\n",
    "# Saving the image\n",
    "if cv2.imwrite('output2.png', img):\n",
    "  print(f'Picture \"output2.png\" succesfully saved in the directory' )\n",
    "  display(Image(filename='output2.png'))\n",
    "  \n",
    "\n",
    "# --------- end of a second problem --------------"
   ]
  },
  {
   "cell_type": "code",
   "execution_count": null,
   "metadata": {
    "colab": {
     "base_uri": "https://localhost:8080/"
    },
    "id": "1WnDotIYpDZ9",
    "outputId": "27829493-8e63-4a00-9529-1352ac0d2a7b"
   },
   "outputs": [
    {
     "name": "stdout",
     "output_type": "stream",
     "text": [
      "Price of soft taco: 1.25\n",
      "Price of burrito: 2.5\n"
     ]
    }
   ],
   "source": [
    "# --------- start of a third problem --------------\n",
    "# You and a friend go to buy tacos. You get three soft tacos \n",
    "# and  three  burritos  and  your  total  bill  is  $11.25.  Your \n",
    "# friend's  bill  is  $10.00  for  four  soft  tacos  and  two \n",
    "# burritos. How much do soft tacos cost? How much do burritos \n",
    "# cost? \n",
    "# So, we have the folowing equations\n",
    "# x0*3+x1*3=11.25\n",
    "# x0*4+x1*2=10\n",
    "c = np.array([[3, 3], [4, 2]]) # Coefficient matrix.\n",
    "o = np.array([11.25, 10])      # Ordinate or “dependent variable” values\n",
    "x = np.linalg.solve(c, o)\n",
    "print(f\"Price of soft taco: {x[0]}\")\n",
    "print(f\"Price of burrito: {x[1]}\")\n",
    "# --------- end of a third problem --------------"
   ]
  }
 ],
 "metadata": {
  "colab": {
   "collapsed_sections": [],
   "include_colab_link": true,
   "name": "A00_task.ipynb",
   "provenance": []
  },
  "kernelspec": {
   "display_name": "Python 3 (ipykernel)",
   "language": "python",
   "name": "python3"
  },
  "language_info": {
   "codemirror_mode": {
    "name": "ipython",
    "version": 3
   },
   "file_extension": ".py",
   "mimetype": "text/x-python",
   "name": "python",
   "nbconvert_exporter": "python",
   "pygments_lexer": "ipython3",
   "version": "3.9.13"
  }
 },
 "nbformat": 4,
 "nbformat_minor": 1
}
