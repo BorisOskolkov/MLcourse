{
  "nbformat": 4,
  "nbformat_minor": 0,
  "metadata": {
    "kernelspec": {
      "display_name": "Python 3",
      "language": "python",
      "name": "python3"
    },
    "language_info": {
      "codemirror_mode": {
        "name": "ipython",
        "version": 3
      },
      "file_extension": ".py",
      "mimetype": "text/x-python",
      "name": "python",
      "nbconvert_exporter": "python",
      "pygments_lexer": "ipython3",
      "version": "3.7.7"
    },
    "colab": {
      "name": "d01_task.ipynb",
      "provenance": [],
      "collapsed_sections": [],
      "include_colab_link": true
    }
  },
  "cells": [
    {
      "cell_type": "markdown",
      "metadata": {
        "id": "view-in-github",
        "colab_type": "text"
      },
      "source": [
        "<a href=\"https://colab.research.google.com/github/BorisOskolkov/MLcourse/blob/main/asng00/A00_task.ipynb\" target=\"_parent\"><img src=\"https://colab.research.google.com/assets/colab-badge.svg\" alt=\"Open In Colab\"/></a>"
      ]
    },
    {
      "cell_type": "code",
      "metadata": {
        "id": "zI8i4E-NhT3A"
      },
      "source": [
        "#import pandas as pd\n",
        "import numpy as np \n",
        "import matplotlib.pyplot as plt\n",
        "import string"
      ],
      "execution_count": 21,
      "outputs": []
    },
    {
      "cell_type": "code",
      "source": [
        "# read a file\n",
        "with open('test.txt') as f:\n",
        "    text = f.read()"
      ],
      "metadata": {
        "id": "Rf0EnQQ0s_uC"
      },
      "execution_count": 22,
      "outputs": []
    },
    {
      "cell_type": "code",
      "source": [
        "# initialize a dictionary with alphabet letters\n",
        "\n",
        "letters = dict.fromkeys(string.ascii_lowercase, 0)\n",
        "\n",
        "# iterate through every letter in the text\n",
        "for letter in text:\n",
        "# excluding non-letters\n",
        "  if letter.isalpha():\n",
        "# checking until we find letter and then break the loop\n",
        "    for value in letters:\n",
        "      if letter == value:\n",
        "        letters[value] += 1\n",
        "        break\n",
        "\n",
        "# now we are drawing the histogramm\n",
        "plt.bar(list(letters.keys()), letters.values(), color='g')\n",
        "plt.show()"
      ],
      "metadata": {
        "id": "OClMMOSntf7k",
        "outputId": "73e6a8e0-257e-434d-b8b9-3d95f6b1e16c",
        "colab": {
          "base_uri": "https://localhost:8080/",
          "height": 265
        }
      },
      "execution_count": 23,
      "outputs": [
        {
          "output_type": "display_data",
          "data": {
            "text/plain": [
              "<Figure size 432x288 with 1 Axes>"
            ],
            "image/png": "[encoded data removed]"
          },
          "metadata": {
            "needs_background": "light"
          }
        }
      ]
    }
  ]
}