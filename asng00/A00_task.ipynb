{
  "nbformat": 4,
  "nbformat_minor": 0,
  "metadata": {
    "kernelspec": {
      "display_name": "Python 3",
      "language": "python",
      "name": "python3"
    },
    "language_info": {
      "codemirror_mode": {
        "name": "ipython",
        "version": 3
      },
      "file_extension": ".py",
      "mimetype": "text/x-python",
      "name": "python",
      "nbconvert_exporter": "python",
      "pygments_lexer": "ipython3",
      "version": "3.7.7"
    },
    "colab": {
      "name": "d01_task.ipynb",
      "provenance": [],
      "collapsed_sections": [],
      "include_colab_link": true
    }
  },
  "cells": [
    {
      "cell_type": "markdown",
      "metadata": {
        "id": "view-in-github",
        "colab_type": "text"
      },
      "source": [
        "<a href=\"https://colab.research.google.com/github/BorisOskolkov/MLcourse/blob/main/asng00/A00_task.ipynb\" target=\"_parent\"><img src=\"https://colab.research.google.com/assets/colab-badge.svg\" alt=\"Open In Colab\"/></a>"
      ]
    },
    {
      "cell_type": "code",
      "metadata": {
        "id": "zI8i4E-NhT3A"
      },
      "source": [
        "#import pandas as pd\n",
        "import numpy as np \n",
        "import matplotlib.pyplot as plt\n",
        "import string\n",
        "import cv2"
      ],
      "execution_count": 10,
      "outputs": []
    },
    {
      "cell_type": "code",
      "source": [
        "# --------- start a first problem --------------\n",
        "\n",
        "# read a file\n",
        "with open('test.txt') as f:\n",
        "    text = f.read()"
      ],
      "metadata": {
        "id": "Rf0EnQQ0s_uC"
      },
      "execution_count": 2,
      "outputs": []
    },
    {
      "cell_type": "code",
      "source": [
        "# initialize a dictionary with alphabet letters\n",
        "\n",
        "letters = dict.fromkeys(string.ascii_lowercase, 0)\n",
        "\n",
        "# iterate through every letter in the text\n",
        "for letter in text:\n",
        "# excluding non-letters\n",
        "  if letter.isalpha():\n",
        "# checking until we find letter and then break the loop\n",
        "    for value in letters:\n",
        "      if letter == value:\n",
        "        letters[value] += 1\n",
        "        break"
      ],
      "metadata": {
        "id": "OClMMOSntf7k"
      },
      "execution_count": 3,
      "outputs": []
    },
    {
      "cell_type": "code",
      "source": [
        "np_letters = np.array(letters) #creating NumPy array "
      ],
      "metadata": {
        "id": "22eT16N_yS-g"
      },
      "execution_count": 7,
      "outputs": []
    },
    {
      "cell_type": "code",
      "source": [
        "# making the histogramm for unnormalized frequences\n",
        "plt2 = plt\n",
        "plt2.bar(list(letters.keys()), letters.values(), color='r')\n",
        "plt2.xlabel(\"Letter\")\n",
        "plt2.ylabel(\"Unnormalized frequences\")\n",
        "plt2.show()"
      ],
      "metadata": {
        "id": "ceVpxAP6iOz5",
        "outputId": "deabd76b-5af6-48ed-d9b7-9d1b15c807b1",
        "colab": {
          "base_uri": "https://localhost:8080/",
          "height": 279
        }
      },
      "execution_count": 26,
      "outputs": [
        {
          "output_type": "display_data",
          "data": {
            "text/plain": [
              "<Figure size 432x288 with 1 Axes>"
            ],
            "image/png": "[encoded data removed]"
          },
          "metadata": {
            "needs_background": "light"
          }
        }
      ]
    },
    {
      "cell_type": "code",
      "source": [
        "letters_n = letters # making a copy for the dictionary with normalized values\n",
        "number_of_letters = sum(list(letters_n.values()))\n",
        "for value in letters_n:\n",
        "  letters_n[value] = letters_n[value]/number_of_letters\n",
        "plt1 = plt\n",
        "# making the histogramm for normalized frequences\n",
        "plt1.bar(list(letters_n.keys()), letters_n.values(), color='g')\n",
        "plt1.xlabel(\"Letter\")\n",
        "plt1.ylabel(\"Normalized frequences\")\n",
        "plt1.show()\n",
        "# --------- end a first problem --------------"
      ],
      "metadata": {
        "id": "R-11b-KKstg_",
        "outputId": "7df2bf5d-8a0d-430a-a8f9-858c1f533aa4",
        "colab": {
          "base_uri": "https://localhost:8080/",
          "height": 279
        }
      },
      "execution_count": 9,
      "outputs": [
        {
          "output_type": "display_data",
          "data": {
            "text/plain": [
              "<Figure size 432x288 with 1 Axes>"
            ],
            "image/png": "[encoded data removed]"
          },
          "metadata": {
            "needs_background": "light"
          }
        }
      ]
    },
    {
      "cell_type": "code",
      "source": [
        "# --------- start a second problem --------------\n",
        "img = cv2.imread(\"test.png\")\n",
        "border_pixels = np.array([[255,0,0],[0,255,0],[0,0,255]])\n",
        "print(border_pixels[0])\n",
        "print(img[0[0]])\n",
        "# for pixel in img:\n",
        "#   result_distance = np.array([0,0,0])\n",
        "#   for bp in range(3):\n",
        "#     result_distance[bp] = np.linalg.norm(border_pixels[bp]-img[pixel])\n",
        "#   img[pixel] = border_pixels[result_distance.argmin()] \n"
      ],
      "metadata": {
        "id": "gkiPfQq-zqex",
        "outputId": "3020a2ed-6be7-42e7-e9e4-312c3d240214",
        "colab": {
          "base_uri": "https://localhost:8080/",
          "height": 253
        }
      },
      "execution_count": 35,
      "outputs": [
        {
          "output_type": "stream",
          "name": "stdout",
          "text": [
            "[255   0   0]\n"
          ]
        },
        {
          "output_type": "error",
          "ename": "TypeError",
          "evalue": "ignored",
          "traceback": [
            "\u001b[0;31m---------------------------------------------------------------------------\u001b[0m",
            "\u001b[0;31mTypeError\u001b[0m                                 Traceback (most recent call last)",
            "\u001b[0;32m<ipython-input-35-0df8ac2b8b45>\u001b[0m in \u001b[0;36m<module>\u001b[0;34m\u001b[0m\n\u001b[1;32m      3\u001b[0m \u001b[0mborder_pixels\u001b[0m \u001b[0;34m=\u001b[0m \u001b[0mnp\u001b[0m\u001b[0;34m.\u001b[0m\u001b[0marray\u001b[0m\u001b[0;34m(\u001b[0m\u001b[0;34m[\u001b[0m\u001b[0;34m[\u001b[0m\u001b[0;36m255\u001b[0m\u001b[0;34m,\u001b[0m\u001b[0;36m0\u001b[0m\u001b[0;34m,\u001b[0m\u001b[0;36m0\u001b[0m\u001b[0;34m]\u001b[0m\u001b[0;34m,\u001b[0m\u001b[0;34m[\u001b[0m\u001b[0;36m0\u001b[0m\u001b[0;34m,\u001b[0m\u001b[0;36m255\u001b[0m\u001b[0;34m,\u001b[0m\u001b[0;36m0\u001b[0m\u001b[0;34m]\u001b[0m\u001b[0;34m,\u001b[0m\u001b[0;34m[\u001b[0m\u001b[0;36m0\u001b[0m\u001b[0;34m,\u001b[0m\u001b[0;36m0\u001b[0m\u001b[0;34m,\u001b[0m\u001b[0;36m255\u001b[0m\u001b[0;34m]\u001b[0m\u001b[0;34m]\u001b[0m\u001b[0;34m)\u001b[0m\u001b[0;34m\u001b[0m\u001b[0;34m\u001b[0m\u001b[0m\n\u001b[1;32m      4\u001b[0m \u001b[0mprint\u001b[0m\u001b[0;34m(\u001b[0m\u001b[0mborder_pixels\u001b[0m\u001b[0;34m[\u001b[0m\u001b[0;36m0\u001b[0m\u001b[0;34m]\u001b[0m\u001b[0;34m)\u001b[0m\u001b[0;34m\u001b[0m\u001b[0;34m\u001b[0m\u001b[0m\n\u001b[0;32m----> 5\u001b[0;31m \u001b[0mprint\u001b[0m\u001b[0;34m(\u001b[0m\u001b[0mimg\u001b[0m\u001b[0;34m[\u001b[0m\u001b[0;36m0\u001b[0m\u001b[0;34m[\u001b[0m\u001b[0;36m0\u001b[0m\u001b[0;34m]\u001b[0m\u001b[0;34m]\u001b[0m\u001b[0;34m)\u001b[0m\u001b[0;34m\u001b[0m\u001b[0;34m\u001b[0m\u001b[0m\n\u001b[0m\u001b[1;32m      6\u001b[0m \u001b[0;31m# for pixel in img:\u001b[0m\u001b[0;34m\u001b[0m\u001b[0;34m\u001b[0m\u001b[0;34m\u001b[0m\u001b[0m\n\u001b[1;32m      7\u001b[0m \u001b[0;31m#   result_distance = np.array([0,0,0])\u001b[0m\u001b[0;34m\u001b[0m\u001b[0;34m\u001b[0m\u001b[0;34m\u001b[0m\u001b[0m\n",
            "\u001b[0;31mTypeError\u001b[0m: 'int' object is not subscriptable"
          ]
        }
      ]
    }
  ]
}