{
  "nbformat": 4,
  "nbformat_minor": 0,
  "metadata": {
    "colab": {
      "provenance": [],
      "authorship_tag": "ABX9TyM6Oo8XUX9s1rllk/Verr/g",
      "include_colab_link": true
    },
    "kernelspec": {
      "name": "python3",
      "display_name": "Python 3"
    },
    "language_info": {
      "name": "python"
    }
  },
  "cells": [
    {
      "cell_type": "markdown",
      "metadata": {
        "id": "view-in-github",
        "colab_type": "text"
      },
      "source": [
        "<a href=\"https://colab.research.google.com/github/BorisOskolkov/MLcourse/blob/main/asng05/A05_task.ipynb\" target=\"_parent\"><img src=\"https://colab.research.google.com/assets/colab-badge.svg\" alt=\"Open In Colab\"/></a>"
      ]
    },
    {
      "cell_type": "markdown",
      "source": [
        "Made by Boris Oskolkov for Assignment05 (CS5783)"
      ],
      "metadata": {
        "id": "G43FcCO06xRp"
      }
    },
    {
      "cell_type": "code",
      "execution_count": 14,
      "metadata": {
        "id": "qsCot3QinSFF",
        "colab": {
          "base_uri": "https://localhost:8080/"
        },
        "outputId": "e36ff50e-937f-4ff8-9a52-8e77e28b390f"
      },
      "outputs": [
        {
          "output_type": "stream",
          "name": "stdout",
          "text": [
            "Mounted at /content/drive\n"
          ]
        }
      ],
      "source": [
        "from io import StringIO\n",
        "import pandas as pd\n",
        "import math\n",
        "import numpy as np\n",
        "from IPython.display import Image\n",
        "from google.colab import drive\n",
        "drive.mount('/content/drive', force_remount=True)"
      ]
    },
    {
      "cell_type": "markdown",
      "source": [
        "Let's hardcode our data\n"
      ],
      "metadata": {
        "id": "jZMXwFNrnTXU"
      }
    },
    {
      "cell_type": "code",
      "source": [
        "FRUITDATA = \"\"\"\n",
        "Taste,Farm climate,Visual defects,Size\n",
        "Meh,Warm,Some,Small\n",
        "Meh,Cold,None,Large\n",
        "Meh,Cold,None,Large\n",
        "Yummy,Cold,Many,Small\n",
        "Yummy,Warm,Many,Small\n",
        "Meh,Warm,Some,Large\n",
        "Yummy,Warm,Many,Large\n",
        "Yummy,Cold,None,Small\n",
        "Yummy,Cold,None,Small\n",
        "Meh,Warm,Some,Large\n",
        "\"\"\"\n",
        "fruit_data = pd.read_csv(StringIO(FRUITDATA))\n",
        "fruit_data"
      ],
      "metadata": {
        "colab": {
          "base_uri": "https://localhost:8080/",
          "height": 363
        },
        "id": "3KBde_x2nacx",
        "outputId": "f8fb7a02-a0c3-42c8-e6c4-d7011541faf7"
      },
      "execution_count": 3,
      "outputs": [
        {
          "output_type": "execute_result",
          "data": {
            "text/plain": [
              "   Taste Farm climate Visual defects   Size\n",
              "0    Meh         Warm           Some  Small\n",
              "1    Meh         Cold           None  Large\n",
              "2    Meh         Cold           None  Large\n",
              "3  Yummy         Cold           Many  Small\n",
              "4  Yummy         Warm           Many  Small\n",
              "5    Meh         Warm           Some  Large\n",
              "6  Yummy         Warm           Many  Large\n",
              "7  Yummy         Cold           None  Small\n",
              "8  Yummy         Cold           None  Small\n",
              "9    Meh         Warm           Some  Large"
            ],
            "text/html": [
              "\n",
              "  <div id=\"df-cbe32ca7-b8d4-4331-b202-f69d6bdc5d32\">\n",
              "    <div class=\"colab-df-container\">\n",
              "      <div>\n",
              "<style scoped>\n",
              "    .dataframe tbody tr th:only-of-type {\n",
              "        vertical-align: middle;\n",
              "    }\n",
              "\n",
              "    .dataframe tbody tr th {\n",
              "        vertical-align: top;\n",
              "    }\n",
              "\n",
              "    .dataframe thead th {\n",
              "        text-align: right;\n",
              "    }\n",
              "</style>\n",
              "<table border=\"1\" class=\"dataframe\">\n",
              "  <thead>\n",
              "    <tr style=\"text-align: right;\">\n",
              "      <th></th>\n",
              "      <th>Taste</th>\n",
              "      <th>Farm climate</th>\n",
              "      <th>Visual defects</th>\n",
              "      <th>Size</th>\n",
              "    </tr>\n",
              "  </thead>\n",
              "  <tbody>\n",
              "    <tr>\n",
              "      <th>0</th>\n",
              "      <td>Meh</td>\n",
              "      <td>Warm</td>\n",
              "      <td>Some</td>\n",
              "      <td>Small</td>\n",
              "    </tr>\n",
              "    <tr>\n",
              "      <th>1</th>\n",
              "      <td>Meh</td>\n",
              "      <td>Cold</td>\n",
              "      <td>None</td>\n",
              "      <td>Large</td>\n",
              "    </tr>\n",
              "    <tr>\n",
              "      <th>2</th>\n",
              "      <td>Meh</td>\n",
              "      <td>Cold</td>\n",
              "      <td>None</td>\n",
              "      <td>Large</td>\n",
              "    </tr>\n",
              "    <tr>\n",
              "      <th>3</th>\n",
              "      <td>Yummy</td>\n",
              "      <td>Cold</td>\n",
              "      <td>Many</td>\n",
              "      <td>Small</td>\n",
              "    </tr>\n",
              "    <tr>\n",
              "      <th>4</th>\n",
              "      <td>Yummy</td>\n",
              "      <td>Warm</td>\n",
              "      <td>Many</td>\n",
              "      <td>Small</td>\n",
              "    </tr>\n",
              "    <tr>\n",
              "      <th>5</th>\n",
              "      <td>Meh</td>\n",
              "      <td>Warm</td>\n",
              "      <td>Some</td>\n",
              "      <td>Large</td>\n",
              "    </tr>\n",
              "    <tr>\n",
              "      <th>6</th>\n",
              "      <td>Yummy</td>\n",
              "      <td>Warm</td>\n",
              "      <td>Many</td>\n",
              "      <td>Large</td>\n",
              "    </tr>\n",
              "    <tr>\n",
              "      <th>7</th>\n",
              "      <td>Yummy</td>\n",
              "      <td>Cold</td>\n",
              "      <td>None</td>\n",
              "      <td>Small</td>\n",
              "    </tr>\n",
              "    <tr>\n",
              "      <th>8</th>\n",
              "      <td>Yummy</td>\n",
              "      <td>Cold</td>\n",
              "      <td>None</td>\n",
              "      <td>Small</td>\n",
              "    </tr>\n",
              "    <tr>\n",
              "      <th>9</th>\n",
              "      <td>Meh</td>\n",
              "      <td>Warm</td>\n",
              "      <td>Some</td>\n",
              "      <td>Large</td>\n",
              "    </tr>\n",
              "  </tbody>\n",
              "</table>\n",
              "</div>\n",
              "      <button class=\"colab-df-convert\" onclick=\"convertToInteractive('df-cbe32ca7-b8d4-4331-b202-f69d6bdc5d32')\"\n",
              "              title=\"Convert this dataframe to an interactive table.\"\n",
              "              style=\"display:none;\">\n",
              "        \n",
              "  <svg xmlns=\"http://www.w3.org/2000/svg\" height=\"24px\"viewBox=\"0 0 24 24\"\n",
              "       width=\"24px\">\n",
              "    <path d=\"M0 0h24v24H0V0z\" fill=\"none\"/>\n",
              "    <path d=\"M18.56 5.44l.94 2.06.94-2.06 2.06-.94-2.06-.94-.94-2.06-.94 2.06-2.06.94zm-11 1L8.5 8.5l.94-2.06 2.06-.94-2.06-.94L8.5 2.5l-.94 2.06-2.06.94zm10 10l.94 2.06.94-2.06 2.06-.94-2.06-.94-.94-2.06-.94 2.06-2.06.94z\"/><path d=\"M17.41 7.96l-1.37-1.37c-.4-.4-.92-.59-1.43-.59-.52 0-1.04.2-1.43.59L10.3 9.45l-7.72 7.72c-.78.78-.78 2.05 0 2.83L4 21.41c.39.39.9.59 1.41.59.51 0 1.02-.2 1.41-.59l7.78-7.78 2.81-2.81c.8-.78.8-2.07 0-2.86zM5.41 20L4 18.59l7.72-7.72 1.47 1.35L5.41 20z\"/>\n",
              "  </svg>\n",
              "      </button>\n",
              "      \n",
              "  <style>\n",
              "    .colab-df-container {\n",
              "      display:flex;\n",
              "      flex-wrap:wrap;\n",
              "      gap: 12px;\n",
              "    }\n",
              "\n",
              "    .colab-df-convert {\n",
              "      background-color: #E8F0FE;\n",
              "      border: none;\n",
              "      border-radius: 50%;\n",
              "      cursor: pointer;\n",
              "      display: none;\n",
              "      fill: #1967D2;\n",
              "      height: 32px;\n",
              "      padding: 0 0 0 0;\n",
              "      width: 32px;\n",
              "    }\n",
              "\n",
              "    .colab-df-convert:hover {\n",
              "      background-color: #E2EBFA;\n",
              "      box-shadow: 0px 1px 2px rgba(60, 64, 67, 0.3), 0px 1px 3px 1px rgba(60, 64, 67, 0.15);\n",
              "      fill: #174EA6;\n",
              "    }\n",
              "\n",
              "    [theme=dark] .colab-df-convert {\n",
              "      background-color: #3B4455;\n",
              "      fill: #D2E3FC;\n",
              "    }\n",
              "\n",
              "    [theme=dark] .colab-df-convert:hover {\n",
              "      background-color: #434B5C;\n",
              "      box-shadow: 0px 1px 3px 1px rgba(0, 0, 0, 0.15);\n",
              "      filter: drop-shadow(0px 1px 2px rgba(0, 0, 0, 0.3));\n",
              "      fill: #FFFFFF;\n",
              "    }\n",
              "  </style>\n",
              "\n",
              "      <script>\n",
              "        const buttonEl =\n",
              "          document.querySelector('#df-cbe32ca7-b8d4-4331-b202-f69d6bdc5d32 button.colab-df-convert');\n",
              "        buttonEl.style.display =\n",
              "          google.colab.kernel.accessAllowed ? 'block' : 'none';\n",
              "\n",
              "        async function convertToInteractive(key) {\n",
              "          const element = document.querySelector('#df-cbe32ca7-b8d4-4331-b202-f69d6bdc5d32');\n",
              "          const dataTable =\n",
              "            await google.colab.kernel.invokeFunction('convertToInteractive',\n",
              "                                                     [key], {});\n",
              "          if (!dataTable) return;\n",
              "\n",
              "          const docLinkHtml = 'Like what you see? Visit the ' +\n",
              "            '<a target=\"_blank\" href=https://colab.research.google.com/notebooks/data_table.ipynb>data table notebook</a>'\n",
              "            + ' to learn more about interactive tables.';\n",
              "          element.innerHTML = '';\n",
              "          dataTable['output_type'] = 'display_data';\n",
              "          await google.colab.output.renderOutput(dataTable, element);\n",
              "          const docLink = document.createElement('div');\n",
              "          docLink.innerHTML = docLinkHtml;\n",
              "          element.appendChild(docLink);\n",
              "        }\n",
              "      </script>\n",
              "    </div>\n",
              "  </div>\n",
              "  "
            ]
          },
          "metadata": {},
          "execution_count": 3
        }
      ]
    },
    {
      "cell_type": "markdown",
      "source": [
        "--------------[Question 1]-------------\n",
        "\n",
        "To calculate initial entropy of the target variable *taste* I will use following formula:"
      ],
      "metadata": {
        "id": "-RFyxjqSo_mg"
      }
    },
    {
      "cell_type": "markdown",
      "source": [
        "![image.png](data:image/png;base64,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)"
      ],
      "metadata": {
        "id": "aYje66-GpN8f"
      }
    },
    {
      "cell_type": "code",
      "source": [
        "# to calculate pi for every class I will count it:\n",
        "fruit_data.Taste.value_counts()"
      ],
      "metadata": {
        "colab": {
          "base_uri": "https://localhost:8080/"
        },
        "id": "b_6QUr0IpC54",
        "outputId": "b29de4fc-3ffc-43f8-aa7f-8cea0db364fd"
      },
      "execution_count": 4,
      "outputs": [
        {
          "output_type": "execute_result",
          "data": {
            "text/plain": [
              "Meh      5\n",
              "Yummy    5\n",
              "Name: Taste, dtype: int64"
            ]
          },
          "metadata": {},
          "execution_count": 4
        }
      ]
    },
    {
      "cell_type": "markdown",
      "source": [
        "![image.png](data:image/png;base64,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)"
      ],
      "metadata": {
        "id": "N5RSE1BG70pB"
      }
    },
    {
      "cell_type": "code",
      "source": [
        "e = -5/10*math.log(0.5,2)-5/10*math.log(0.5,2)\n",
        "e"
      ],
      "metadata": {
        "colab": {
          "base_uri": "https://localhost:8080/"
        },
        "id": "w1xiwIFfvBQ2",
        "outputId": "05ce1648-fc3e-48ab-ce17-37d29133abde"
      },
      "execution_count": 15,
      "outputs": [
        {
          "output_type": "execute_result",
          "data": {
            "text/plain": [
              "1.0"
            ]
          },
          "metadata": {},
          "execution_count": 15
        }
      ]
    },
    {
      "cell_type": "markdown",
      "source": [
        "Here is perfect entropy: 1\n",
        "\n",
        "--------------end of [Question 1]-------------"
      ],
      "metadata": {
        "id": "ymCnLMKyttfx"
      }
    },
    {
      "cell_type": "markdown",
      "source": [
        "--------------[Question 2]-------------\n",
        "\n",
        "To calculate *Visual defects* information gain I will subtract weightet conditious feature entropy from target entropy:"
      ],
      "metadata": {
        "id": "Q8Agh5EkvoC6"
      }
    },
    {
      "cell_type": "code",
      "source": [
        "pd.pivot_table(fruit_data.drop(columns=['Farm climate', 'Size']), index=\"Taste\",\n",
        "                    columns=['Visual defects'], aggfunc=\"size\")"
      ],
      "metadata": {
        "colab": {
          "base_uri": "https://localhost:8080/",
          "height": 143
        },
        "id": "H2Ez5Yd3wGyt",
        "outputId": "232d5449-fc20-4697-d0de-ca692c9e2402"
      },
      "execution_count": 6,
      "outputs": [
        {
          "output_type": "execute_result",
          "data": {
            "text/plain": [
              "Visual defects  Many  None  Some\n",
              "Taste                           \n",
              "Meh              NaN   2.0   3.0\n",
              "Yummy            3.0   2.0   NaN"
            ],
            "text/html": [
              "\n",
              "  <div id=\"df-0fabd0ed-5878-4295-96f7-8226989516e3\">\n",
              "    <div class=\"colab-df-container\">\n",
              "      <div>\n",
              "<style scoped>\n",
              "    .dataframe tbody tr th:only-of-type {\n",
              "        vertical-align: middle;\n",
              "    }\n",
              "\n",
              "    .dataframe tbody tr th {\n",
              "        vertical-align: top;\n",
              "    }\n",
              "\n",
              "    .dataframe thead th {\n",
              "        text-align: right;\n",
              "    }\n",
              "</style>\n",
              "<table border=\"1\" class=\"dataframe\">\n",
              "  <thead>\n",
              "    <tr style=\"text-align: right;\">\n",
              "      <th>Visual defects</th>\n",
              "      <th>Many</th>\n",
              "      <th>None</th>\n",
              "      <th>Some</th>\n",
              "    </tr>\n",
              "    <tr>\n",
              "      <th>Taste</th>\n",
              "      <th></th>\n",
              "      <th></th>\n",
              "      <th></th>\n",
              "    </tr>\n",
              "  </thead>\n",
              "  <tbody>\n",
              "    <tr>\n",
              "      <th>Meh</th>\n",
              "      <td>NaN</td>\n",
              "      <td>2.0</td>\n",
              "      <td>3.0</td>\n",
              "    </tr>\n",
              "    <tr>\n",
              "      <th>Yummy</th>\n",
              "      <td>3.0</td>\n",
              "      <td>2.0</td>\n",
              "      <td>NaN</td>\n",
              "    </tr>\n",
              "  </tbody>\n",
              "</table>\n",
              "</div>\n",
              "      <button class=\"colab-df-convert\" onclick=\"convertToInteractive('df-0fabd0ed-5878-4295-96f7-8226989516e3')\"\n",
              "              title=\"Convert this dataframe to an interactive table.\"\n",
              "              style=\"display:none;\">\n",
              "        \n",
              "  <svg xmlns=\"http://www.w3.org/2000/svg\" height=\"24px\"viewBox=\"0 0 24 24\"\n",
              "       width=\"24px\">\n",
              "    <path d=\"M0 0h24v24H0V0z\" fill=\"none\"/>\n",
              "    <path d=\"M18.56 5.44l.94 2.06.94-2.06 2.06-.94-2.06-.94-.94-2.06-.94 2.06-2.06.94zm-11 1L8.5 8.5l.94-2.06 2.06-.94-2.06-.94L8.5 2.5l-.94 2.06-2.06.94zm10 10l.94 2.06.94-2.06 2.06-.94-2.06-.94-.94-2.06-.94 2.06-2.06.94z\"/><path d=\"M17.41 7.96l-1.37-1.37c-.4-.4-.92-.59-1.43-.59-.52 0-1.04.2-1.43.59L10.3 9.45l-7.72 7.72c-.78.78-.78 2.05 0 2.83L4 21.41c.39.39.9.59 1.41.59.51 0 1.02-.2 1.41-.59l7.78-7.78 2.81-2.81c.8-.78.8-2.07 0-2.86zM5.41 20L4 18.59l7.72-7.72 1.47 1.35L5.41 20z\"/>\n",
              "  </svg>\n",
              "      </button>\n",
              "      \n",
              "  <style>\n",
              "    .colab-df-container {\n",
              "      display:flex;\n",
              "      flex-wrap:wrap;\n",
              "      gap: 12px;\n",
              "    }\n",
              "\n",
              "    .colab-df-convert {\n",
              "      background-color: #E8F0FE;\n",
              "      border: none;\n",
              "      border-radius: 50%;\n",
              "      cursor: pointer;\n",
              "      display: none;\n",
              "      fill: #1967D2;\n",
              "      height: 32px;\n",
              "      padding: 0 0 0 0;\n",
              "      width: 32px;\n",
              "    }\n",
              "\n",
              "    .colab-df-convert:hover {\n",
              "      background-color: #E2EBFA;\n",
              "      box-shadow: 0px 1px 2px rgba(60, 64, 67, 0.3), 0px 1px 3px 1px rgba(60, 64, 67, 0.15);\n",
              "      fill: #174EA6;\n",
              "    }\n",
              "\n",
              "    [theme=dark] .colab-df-convert {\n",
              "      background-color: #3B4455;\n",
              "      fill: #D2E3FC;\n",
              "    }\n",
              "\n",
              "    [theme=dark] .colab-df-convert:hover {\n",
              "      background-color: #434B5C;\n",
              "      box-shadow: 0px 1px 3px 1px rgba(0, 0, 0, 0.15);\n",
              "      filter: drop-shadow(0px 1px 2px rgba(0, 0, 0, 0.3));\n",
              "      fill: #FFFFFF;\n",
              "    }\n",
              "  </style>\n",
              "\n",
              "      <script>\n",
              "        const buttonEl =\n",
              "          document.querySelector('#df-0fabd0ed-5878-4295-96f7-8226989516e3 button.colab-df-convert');\n",
              "        buttonEl.style.display =\n",
              "          google.colab.kernel.accessAllowed ? 'block' : 'none';\n",
              "\n",
              "        async function convertToInteractive(key) {\n",
              "          const element = document.querySelector('#df-0fabd0ed-5878-4295-96f7-8226989516e3');\n",
              "          const dataTable =\n",
              "            await google.colab.kernel.invokeFunction('convertToInteractive',\n",
              "                                                     [key], {});\n",
              "          if (!dataTable) return;\n",
              "\n",
              "          const docLinkHtml = 'Like what you see? Visit the ' +\n",
              "            '<a target=\"_blank\" href=https://colab.research.google.com/notebooks/data_table.ipynb>data table notebook</a>'\n",
              "            + ' to learn more about interactive tables.';\n",
              "          element.innerHTML = '';\n",
              "          dataTable['output_type'] = 'display_data';\n",
              "          await google.colab.output.renderOutput(dataTable, element);\n",
              "          const docLink = document.createElement('div');\n",
              "          docLink.innerHTML = docLinkHtml;\n",
              "          element.appendChild(docLink);\n",
              "        }\n",
              "      </script>\n",
              "    </div>\n",
              "  </div>\n",
              "  "
            ]
          },
          "metadata": {},
          "execution_count": 6
        }
      ]
    },
    {
      "cell_type": "code",
      "source": [
        "e_taste_many = 0-3/3*math.log(1,2)\n",
        "e_taste_none = -2/4*math.log(0.5,2)-2/4*math.log(0.5,2)\n",
        "e_taste_some = 0-3/3*math.log(1,2)"
      ],
      "metadata": {
        "id": "AMPPaQBVvmkB"
      },
      "execution_count": 7,
      "outputs": []
    },
    {
      "cell_type": "code",
      "source": [
        "ig = 1 - (3/12)*e_taste_many - (4/12)*e_taste_none - (3/12)*e_taste_some\n",
        "print(f'Information gain is {ig}')"
      ],
      "metadata": {
        "colab": {
          "base_uri": "https://localhost:8080/"
        },
        "id": "Zc8CuFMnwfb8",
        "outputId": "96c860b0-d885-4ce8-8bc2-13a15143f0a5"
      },
      "execution_count": 8,
      "outputs": [
        {
          "output_type": "stream",
          "name": "stdout",
          "text": [
            "Information gain is 0.6666666666666667\n"
          ]
        }
      ]
    },
    {
      "cell_type": "markdown",
      "source": [
        "--------------end of [Question 2]-------------"
      ],
      "metadata": {
        "id": "xJnPSIbM4MuQ"
      }
    },
    {
      "cell_type": "markdown",
      "source": [
        "--------------[Question 3]-------------"
      ],
      "metadata": {
        "id": "x8ulcEL74PxP"
      }
    },
    {
      "cell_type": "code",
      "source": [
        "e_taste_some"
      ],
      "metadata": {
        "colab": {
          "base_uri": "https://localhost:8080/"
        },
        "id": "rfITvC3o3qt6",
        "outputId": "fbb3bf1f-9258-4396-93ab-b20aee6c02b6"
      },
      "execution_count": 9,
      "outputs": [
        {
          "output_type": "execute_result",
          "data": {
            "text/plain": [
              "0.0"
            ]
          },
          "metadata": {},
          "execution_count": 9
        }
      ]
    },
    {
      "cell_type": "code",
      "source": [
        "e_taste_none"
      ],
      "metadata": {
        "colab": {
          "base_uri": "https://localhost:8080/"
        },
        "id": "xF7nilBr4Uwr",
        "outputId": "75a8fbeb-846c-4738-8060-8d39d2ac10ce"
      },
      "execution_count": 10,
      "outputs": [
        {
          "output_type": "execute_result",
          "data": {
            "text/plain": [
              "1.0"
            ]
          },
          "metadata": {},
          "execution_count": 10
        }
      ]
    },
    {
      "cell_type": "markdown",
      "source": [
        "--------------end of [Question 3]-------------"
      ],
      "metadata": {
        "id": "JGkrB3uI4puY"
      }
    },
    {
      "cell_type": "code",
      "source": [],
      "metadata": {
        "id": "SLjm0vJXsUv5"
      },
      "execution_count": 10,
      "outputs": []
    },
    {
      "cell_type": "markdown",
      "source": [
        "--------------[Question 4]-------------"
      ],
      "metadata": {
        "id": "WFDhAsRssU9u"
      }
    },
    {
      "cell_type": "markdown",
      "source": [
        "**TASK**: Implement a naïve version of \n",
        "the k-means algorithm based on your understanding. Your code must take the number of clusters k as input \n",
        "and  perform  k-means  clustering  on  the  given  image.  Once  the  algorithm  finishes  running,  the  cluster \n",
        "centroids represent the top-k common colors in the image. "
      ],
      "metadata": {
        "id": "w3ksRalH5Vpc"
      }
    },
    {
      "cell_type": "code",
      "source": [
        "import cv2  \n",
        "img = cv2.imread('/content/drive/MyDrive/input.png') "
      ],
      "metadata": {
        "id": "9DiZ3els4l4m"
      },
      "execution_count": 11,
      "outputs": []
    },
    {
      "cell_type": "markdown",
      "source": [
        "Below my own implementation of required function. Main idea is following: I am making random centroids, compute distance to every pixel for every centroid, then assign every pixel to each centroid based on smallest distance (distance here is color). Then I calculate color mean among assingned pixels for every centroid. After that I \"move\" each centroid to that \"average\" color. The process is repeating until centroids stop moving significantly (based on my experience after debugging it is enough to stop after 5 iterations, but it can stop early (based on moving distance)). My function shows picture after every such iteration."
      ],
      "metadata": {
        "id": "Ios9Qxqqsf3f"
      }
    },
    {
      "cell_type": "code",
      "source": [
        "def k_means(img, k):\n",
        "  #init iterations, dimensions, and random centroids (colors)\n",
        "  iterations = 5\n",
        "  height, width, channels = np.shape(img)\n",
        "  centroids = np.random.randint(np.amax(img), size=(k, channels))\n",
        "\n",
        "  # start iterations\n",
        "  for it in range(iterations):\n",
        "\n",
        "    # init null matrices for distance and assigning for every centroid\n",
        "    centroid_distance = np.zeros((k,width,height,1))\n",
        "    centroid_assign = np.zeros((k,width,height,1), dtype=int)\n",
        "\n",
        "    # calculating distances for each centroid\n",
        "    for i in range(k):\n",
        "      centroid_distance[i] = np.linalg.norm(centroids[i]-img, axis=2, keepdims = True)\n",
        "\n",
        "    # assigning each pixel to each centorid by filling assignment matrix\n",
        "    for i in range(width):  \n",
        "      for j in range(height):\n",
        "        distances_to_centroid = np.zeros(k)\n",
        "        distances_to_centroid = np.array([centroid_distance[n][i][j] for n in range(k)])\n",
        "        n_of_centroid = np.argmin(distances_to_centroid)\n",
        "        centroid_assign[n_of_centroid][i][j] = 1\n",
        "\n",
        "    # init value for new cluster's centroids\n",
        "    new_place = np.zeros_like(centroids, dtype=int)\n",
        "    for i in range(k):\n",
        "\n",
        "      #summing up all pixels in one cluster by color\n",
        "      mean = np.sum(np.sum(centroid_assign[i]*img, axis=0), axis=0)\n",
        "\n",
        "      #check if we assign any pixel to cluster\n",
        "      if np.sum(centroid_assign[i]) != 0:\n",
        "        # then calculating mean color\n",
        "        new_place[i] = np.around(mean/np.sum(centroid_assign[i])).astype(int)\n",
        "      #print(f'assigning {i} centroid {centroids[i]} to {new_place[i]}')\n",
        "\n",
        "    # storing overall moving distance for th future decision about stopping the function \n",
        "    moving_distance =  np.linalg.norm(centroids-new_place) \n",
        "    centroids = new_place\n",
        "    new_picture = np.zeros_like(img, dtype=int)\n",
        "    for i in range(k):\n",
        "      new_picture += centroid_assign[i]*centroids[i]\n",
        "\n",
        "    # Saving the image\n",
        "    if cv2.imwrite('output.png', new_picture):\n",
        "      display(Image(filename='output.png'))\n",
        "\n",
        "    # stop moving centroids since we won't see significant improvement\n",
        "    if moving_distance <= k*4:\n",
        "      print(f'Picture \"output.png\" succesfully saved in the directory' )\n",
        "      return new_picture\n",
        "  print(f'Picture \"output.png\" succesfully saved in the directory' )\n",
        "  return new_picture\n"
      ],
      "metadata": {
        "id": "DTTS4d9n5heY"
      },
      "execution_count": 16,
      "outputs": []
    },
    {
      "cell_type": "markdown",
      "source": [
        "Here you can see exapmle output of my function."
      ],
      "metadata": {
        "id": "7ctk05mU5zdq"
      }
    },
    {
      "cell_type": "code",
      "source": [
        "k_means(img, 4);"
      ],
      "metadata": {
        "colab": {
          "base_uri": "https://localhost:8080/",
          "height": 674
        },
        "id": "5h84TRwfyuMo",
        "outputId": "8eb27a16-4890-4881-9bd3-915d80b70e6c"
      },
      "execution_count": 17,
      "outputs": [
        {
          "output_type": "display_data",
          "data": {
            "image/png": "[encoded data removed]",
            "text/plain": [
              "<IPython.core.display.Image object>"
            ]
          },
          "metadata": {}
        },
        {
          "output_type": "display_data",
          "data": {
            "image/png": "[encoded data removed]",
            "text/plain": [
              "<IPython.core.display.Image object>"
            ]
          },
          "metadata": {}
        },
        {
          "output_type": "display_data",
          "data": {
            "image/png": "[encoded data removed]",
            "text/plain": [
              "<IPython.core.display.Image object>"
            ]
          },
          "metadata": {}
        },
        {
          "output_type": "display_data",
          "data": {
            "image/png": "[encoded data removed]",
            "text/plain": [
              "<IPython.core.display.Image object>"
            ]
          },
          "metadata": {}
        },
        {
          "output_type": "display_data",
          "data": {
            "image/png": "[encoded data removed]",
            "text/plain": [
              "<IPython.core.display.Image object>"
            ]
          },
          "metadata": {}
        },
        {
          "output_type": "stream",
          "name": "stdout",
          "text": [
            "Picture \"output.png\" succesfully saved in the directory\n"
          ]
        }
      ]
    },
    {
      "cell_type": "markdown",
      "source": [
        "--------------end of [Question 4]-------------"
      ],
      "metadata": {
        "id": "D8rupMgG5-9S"
      }
    }
  ]
}