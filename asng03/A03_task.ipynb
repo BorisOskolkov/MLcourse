{
 "cells": [
  {
   "cell_type": "markdown",
   "metadata": {
    "colab_type": "text",
    "id": "view-in-github"
   },
   "source": [
    "<a href=\"https://colab.research.google.com/github/BorisOskolkov/MLcourse/blob/main/asng03/A03_task.ipynb\" target=\"_parent\"><img src=\"https://colab.research.google.com/assets/colab-badge.svg\" alt=\"Open In Colab\"/></a>"
   ]
  },
  {
   "cell_type": "markdown",
   "metadata": {
    "id": "btdR6_VJxLlY"
   },
   "source": [
    "\n",
    "Made by Boris Oskolkov for Assignment03 (CS5783)"
   ]
  },
  {
   "cell_type": "code",
   "execution_count": 1,
   "metadata": {},
   "outputs": [],
   "source": [
    "import tensorflow as tf\n",
    "import numpy as np\n",
    "from tensorflow import keras\n",
    "from tensorflow.keras import optimizers\n",
    "from tensorflow.keras.datasets import mnist\n",
    "from tensorflow.keras import layers\n",
    "from sklearn.metrics import accuracy_score\n",
    "import matplotlib.pyplot as plt"
   ]
  },
  {
   "cell_type": "code",
   "execution_count": 2,
   "metadata": {},
   "outputs": [
    {
     "name": "stdout",
     "output_type": "stream",
     "text": [
      "x_train shape: (60000, 28, 28, 1)\n",
      "60000 train samples\n",
      "10000 test samples\n"
     ]
    }
   ],
   "source": [
    "# Load the data and split it between train and test sets\n",
    "(x_train, y_train), (x_test, y_test) = mnist.load_data()\n",
    "# Scale images to the [0, 1] range\n",
    "x_train, x_test = x_train / 255.0, x_test / 255.0\n",
    "\n",
    "# Make sure images have shape (28, 28, 1)\n",
    "x_train = np.expand_dims(x_train, -1)\n",
    "x_test = np.expand_dims(x_test, -1)\n"
   ]
  },
  {
   "cell_type": "code",
   "execution_count": 3,
   "metadata": {},
   "outputs": [],
   "source": [
    "y_train=tf.keras.utils.to_categorical(y_train,10)\n",
    "y_test=tf.keras.utils.to_categorical(y_test,10)"
   ]
  },
  {
   "cell_type": "code",
   "execution_count": 4,
   "metadata": {},
   "outputs": [],
   "source": [
    "input_shape = (28, 28, 1)"
   ]
  },
  {
   "cell_type": "code",
   "execution_count": 42,
   "metadata": {},
   "outputs": [
    {
     "name": "stdout",
     "output_type": "stream",
     "text": [
      "Model: \"sequential_36\"\n",
      "_________________________________________________________________\n",
      " Layer (type)                Output Shape              Param #   \n",
      "=================================================================\n",
      " conv2d_244 (Conv2D)         (None, 28, 28, 8)         80        \n",
      "                                                                 \n",
      " conv2d_245 (Conv2D)         (None, 28, 28, 16)        1168      \n",
      "                                                                 \n",
      " conv2d_246 (Conv2D)         (None, 28, 28, 32)        4640      \n",
      "                                                                 \n",
      " conv2d_247 (Conv2D)         (None, 28, 28, 48)        13872     \n",
      "                                                                 \n",
      " conv2d_248 (Conv2D)         (None, 28, 28, 64)        27712     \n",
      "                                                                 \n",
      " conv2d_249 (Conv2D)         (None, 28, 28, 80)        46160     \n",
      "                                                                 \n",
      " conv2d_250 (Conv2D)         (None, 28, 28, 96)        69216     \n",
      "                                                                 \n",
      " conv2d_251 (Conv2D)         (None, 28, 28, 112)       96880     \n",
      "                                                                 \n",
      " conv2d_252 (Conv2D)         (None, 28, 28, 128)       129152    \n",
      "                                                                 \n",
      " max_pooling2d_109 (MaxPooli  (None, 14, 14, 128)      0         \n",
      " ng2D)                                                           \n",
      "                                                                 \n",
      " conv2d_253 (Conv2D)         (None, 14, 14, 144)       166032    \n",
      "                                                                 \n",
      " max_pooling2d_110 (MaxPooli  (None, 7, 7, 144)        0         \n",
      " ng2D)                                                           \n",
      "                                                                 \n",
      " conv2d_254 (Conv2D)         (None, 7, 7, 160)         207520    \n",
      "                                                                 \n",
      " max_pooling2d_111 (MaxPooli  (None, 3, 3, 160)        0         \n",
      " ng2D)                                                           \n",
      "                                                                 \n",
      " flatten_36 (Flatten)        (None, 1440)              0         \n",
      "                                                                 \n",
      " dropout_36 (Dropout)        (None, 1440)              0         \n",
      "                                                                 \n",
      " dense_36 (Dense)            (None, 10)                14410     \n",
      "                                                                 \n",
      "=================================================================\n",
      "Total params: 776,842\n",
      "Trainable params: 776,842\n",
      "Non-trainable params: 0\n",
      "_________________________________________________________________\n"
     ]
    }
   ],
   "source": [
    "model1 = keras.Sequential(\n",
    "    [\n",
    "        keras.Input(shape=input_shape),\n",
    "\n",
    "        layers.Conv2D(8, kernel_size=(3, 3), activation=\"relu\", padding=\"same\", strides=1),\n",
    "        layers.Conv2D(16, kernel_size=(3, 3), activation=\"relu\", padding=\"same\", strides=1),\n",
    "        layers.Conv2D(32, kernel_size=(3, 3), activation=\"relu\", padding=\"same\", strides=1),\n",
    "        layers.Conv2D(48, kernel_size=(3, 3), activation=\"relu\", padding=\"same\", strides=1),\n",
    "        layers.Conv2D(64, kernel_size=(3, 3), activation=\"relu\", padding=\"same\", strides=1),\n",
    "        layers.Conv2D(80, kernel_size=(3, 3), activation=\"relu\", padding=\"same\", strides=1),\n",
    "        layers.Conv2D(96, kernel_size=(3, 3), activation=\"relu\", padding=\"same\", strides=1),\n",
    "        layers.Conv2D(112, kernel_size=(3, 3), activation=\"relu\", padding=\"same\", strides=1),\n",
    "        layers.Conv2D(128, kernel_size=(3, 3), activation=\"relu\", padding=\"same\", strides=1),\n",
    "        layers.MaxPooling2D(pool_size=(2, 2)),\n",
    "        layers.Conv2D(144, kernel_size=(3, 3), activation=\"relu\", padding=\"same\", strides=1),\n",
    "        layers.MaxPooling2D(pool_size=(2, 2)),\n",
    "        layers.Conv2D(160, kernel_size=(3, 3), activation=\"relu\", padding=\"same\", strides=1),\n",
    "        layers.MaxPooling2D(pool_size=(2, 2)),\n",
    "        \n",
    "        \n",
    "        layers.Flatten(),\n",
    "        layers.Dropout(0.5),\n",
    "        layers.Dense(10, activation=\"softmax\"),\n",
    "    ]\n",
    ")\n",
    "\n",
    "model1.summary()"
   ]
  },
  {
   "cell_type": "code",
   "execution_count": 10,
   "metadata": {},
   "outputs": [
    {
     "name": "stdout",
     "output_type": "stream",
     "text": [
      "Epoch 1/15\n",
      "422/422 [==============================] - 24s 55ms/step - loss: 0.3990 - accuracy: 0.8752 - val_loss: 0.0697 - val_accuracy: 0.9807\n",
      "Epoch 2/15\n",
      "422/422 [==============================] - 23s 55ms/step - loss: 0.1225 - accuracy: 0.9638 - val_loss: 0.0473 - val_accuracy: 0.9857\n",
      "Epoch 3/15\n",
      "422/422 [==============================] - 24s 56ms/step - loss: 0.0917 - accuracy: 0.9730 - val_loss: 0.0385 - val_accuracy: 0.9895\n",
      "Epoch 4/15\n",
      "422/422 [==============================] - 28s 66ms/step - loss: 0.0734 - accuracy: 0.9778 - val_loss: 0.0355 - val_accuracy: 0.9908\n",
      "Epoch 5/15\n",
      "422/422 [==============================] - 30s 72ms/step - loss: 0.0622 - accuracy: 0.9810 - val_loss: 0.0386 - val_accuracy: 0.9887\n",
      "Epoch 6/15\n",
      "422/422 [==============================] - 30s 72ms/step - loss: 0.0560 - accuracy: 0.9834 - val_loss: 0.0327 - val_accuracy: 0.9912\n",
      "Epoch 7/15\n",
      "422/422 [==============================] - 30s 72ms/step - loss: 0.0471 - accuracy: 0.9856 - val_loss: 0.0334 - val_accuracy: 0.9913\n",
      "Epoch 8/15\n",
      "422/422 [==============================] - 30s 72ms/step - loss: 0.0428 - accuracy: 0.9874 - val_loss: 0.0310 - val_accuracy: 0.9915\n",
      "Epoch 9/15\n",
      "422/422 [==============================] - 30s 72ms/step - loss: 0.0389 - accuracy: 0.9883 - val_loss: 0.0311 - val_accuracy: 0.9923\n",
      "Epoch 10/15\n",
      "422/422 [==============================] - 30s 72ms/step - loss: 0.0343 - accuracy: 0.9892 - val_loss: 0.0277 - val_accuracy: 0.9928\n",
      "Epoch 11/15\n",
      "422/422 [==============================] - 31s 72ms/step - loss: 0.0338 - accuracy: 0.9895 - val_loss: 0.0317 - val_accuracy: 0.9923\n",
      "Epoch 12/15\n",
      "422/422 [==============================] - 30s 72ms/step - loss: 0.0298 - accuracy: 0.9905 - val_loss: 0.0299 - val_accuracy: 0.9920\n",
      "Epoch 13/15\n",
      "422/422 [==============================] - 30s 71ms/step - loss: 0.0259 - accuracy: 0.9920 - val_loss: 0.0296 - val_accuracy: 0.9928\n",
      "Epoch 14/15\n",
      "422/422 [==============================] - 32s 76ms/step - loss: 0.0244 - accuracy: 0.9918 - val_loss: 0.0308 - val_accuracy: 0.9927\n",
      "Epoch 15/15\n",
      "422/422 [==============================] - 31s 75ms/step - loss: 0.0230 - accuracy: 0.9924 - val_loss: 0.0325 - val_accuracy: 0.9922\n"
     ]
    },
    {
     "data": {
      "text/plain": [
       "<keras.callbacks.History at 0x1d8dcc3ad90>"
      ]
     },
     "execution_count": 10,
     "metadata": {},
     "output_type": "execute_result"
    }
   ],
   "source": [
    "batch_size = 32\n",
    "epochs = 5\n",
    "\n",
    "model.compile(loss=\"categorical_crossentropy\", optimizer=\"adam\", metrics=[\"accuracy\"])\n",
    "\n",
    "model.fit(x_train, y_train, batch_size=batch_size, epochs=epochs, validation_split=0.1)"
   ]
  },
  {
   "cell_type": "code",
   "execution_count": null,
   "metadata": {},
   "outputs": [],
   "source": []
  }
 ],
 "metadata": {
  "colab": {
   "collapsed_sections": [],
   "include_colab_link": true,
   "name": "A03_task.ipynb",
   "provenance": []
  },
  "kernelspec": {
   "display_name": "Python 3 (ipykernel)",
   "language": "python",
   "name": "python3"
  },
  "language_info": {
   "codemirror_mode": {
    "name": "ipython",
    "version": 3
   },
   "file_extension": ".py",
   "mimetype": "text/x-python",
   "name": "python",
   "nbconvert_exporter": "python",
   "pygments_lexer": "ipython3",
   "version": "3.9.12"
  }
 },
 "nbformat": 4,
 "nbformat_minor": 1
}
