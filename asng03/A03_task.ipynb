{
  "cells": [
    {
      "cell_type": "markdown",
      "metadata": {
        "id": "view-in-github",
        "colab_type": "text"
      },
      "source": [
        "<a href=\"https://colab.research.google.com/github/BorisOskolkov/MLcourse/blob/main/asng03/A03_task.ipynb\" target=\"_parent\"><img src=\"https://colab.research.google.com/assets/colab-badge.svg\" alt=\"Open In Colab\"/></a>"
      ]
    },
    {
      "cell_type": "markdown",
      "metadata": {
        "id": "btdR6_VJxLlY"
      },
      "source": [
        "\n",
        "Made by Boris Oskolkov for Assignment03 (CS5783)"
      ]
    },
    {
      "cell_type": "code",
      "execution_count": 1,
      "metadata": {
        "id": "U5bDAG8aMS6s"
      },
      "outputs": [],
      "source": [
        "import tensorflow as tf\n",
        "import numpy as np\n",
        "from tensorflow import keras\n",
        "from tensorflow.keras import optimizers\n",
        "from tensorflow.keras.datasets import mnist\n",
        "from tensorflow.keras import layers\n",
        "from sklearn.metrics import accuracy_score\n",
        "import matplotlib.pyplot as plt"
      ]
    },
    {
      "cell_type": "code",
      "execution_count": 2,
      "metadata": {
        "colab": {
          "base_uri": "https://localhost:8080/"
        },
        "id": "IoKQTDXmMS6u",
        "outputId": "48886848-54d2-426f-a2e3-c9f845122c4e"
      },
      "outputs": [
        {
          "output_type": "stream",
          "name": "stdout",
          "text": [
            "Downloading data from https://storage.googleapis.com/tensorflow/tf-keras-datasets/mnist.npz\n",
            "11490434/11490434 [==============================] - 0s 0us/step\n"
          ]
        }
      ],
      "source": [
        "# Load the data and split it between train and test sets\n",
        "(x_train, y_train), (x_test, y_test) = mnist.load_data()\n",
        "# Scale images to the [0, 1] range\n",
        "x_train, x_test = x_train / 255.0, x_test / 255.0\n",
        "\n",
        "# Make sure images have shape (28, 28, 1)\n",
        "x_train = np.expand_dims(x_train, -1)\n",
        "x_test = np.expand_dims(x_test, -1)\n"
      ]
    },
    {
      "cell_type": "code",
      "execution_count": 3,
      "metadata": {
        "id": "VnvUc_ijMS6v"
      },
      "outputs": [],
      "source": [
        "y_train=tf.keras.utils.to_categorical(y_train,10)\n",
        "y_test=tf.keras.utils.to_categorical(y_test,10)"
      ]
    },
    {
      "cell_type": "code",
      "execution_count": 4,
      "metadata": {
        "id": "tkUT9W5wMS6v"
      },
      "outputs": [],
      "source": [
        "input_shape = (28, 28, 1)"
      ]
    },
    {
      "cell_type": "code",
      "execution_count": 5,
      "metadata": {
        "colab": {
          "base_uri": "https://localhost:8080/"
        },
        "id": "nAJF5VvqMS6v",
        "outputId": "e6087bdf-43e2-446b-87fe-498acade2a63"
      },
      "outputs": [
        {
          "output_type": "stream",
          "name": "stdout",
          "text": [
            "Model: \"sequential\"\n",
            "_________________________________________________________________\n",
            " Layer (type)                Output Shape              Param #   \n",
            "=================================================================\n",
            " conv2d (Conv2D)             (None, 28, 28, 8)         80        \n",
            "                                                                 \n",
            " conv2d_1 (Conv2D)           (None, 28, 28, 16)        1168      \n",
            "                                                                 \n",
            " conv2d_2 (Conv2D)           (None, 28, 28, 32)        4640      \n",
            "                                                                 \n",
            " conv2d_3 (Conv2D)           (None, 28, 28, 48)        13872     \n",
            "                                                                 \n",
            " conv2d_4 (Conv2D)           (None, 28, 28, 64)        27712     \n",
            "                                                                 \n",
            " conv2d_5 (Conv2D)           (None, 28, 28, 80)        46160     \n",
            "                                                                 \n",
            " conv2d_6 (Conv2D)           (None, 28, 28, 96)        69216     \n",
            "                                                                 \n",
            " conv2d_7 (Conv2D)           (None, 28, 28, 112)       96880     \n",
            "                                                                 \n",
            " conv2d_8 (Conv2D)           (None, 28, 28, 128)       129152    \n",
            "                                                                 \n",
            " max_pooling2d (MaxPooling2D  (None, 14, 14, 128)      0         \n",
            " )                                                               \n",
            "                                                                 \n",
            " conv2d_9 (Conv2D)           (None, 14, 14, 144)       166032    \n",
            "                                                                 \n",
            " max_pooling2d_1 (MaxPooling  (None, 7, 7, 144)        0         \n",
            " 2D)                                                             \n",
            "                                                                 \n",
            " conv2d_10 (Conv2D)          (None, 7, 7, 160)         207520    \n",
            "                                                                 \n",
            " max_pooling2d_2 (MaxPooling  (None, 3, 3, 160)        0         \n",
            " 2D)                                                             \n",
            "                                                                 \n",
            " flatten (Flatten)           (None, 1440)              0         \n",
            "                                                                 \n",
            " dropout (Dropout)           (None, 1440)              0         \n",
            "                                                                 \n",
            " dense (Dense)               (None, 10)                14410     \n",
            "                                                                 \n",
            "=================================================================\n",
            "Total params: 776,842\n",
            "Trainable params: 776,842\n",
            "Non-trainable params: 0\n",
            "_________________________________________________________________\n"
          ]
        }
      ],
      "source": [
        "model1 = keras.Sequential(\n",
        "    [\n",
        "        keras.Input(shape=input_shape),\n",
        "\n",
        "        layers.Conv2D(8, kernel_size=(3, 3), activation=\"relu\", padding=\"same\", strides=1),\n",
        "        layers.Conv2D(16, kernel_size=(3, 3), activation=\"relu\", padding=\"same\", strides=1),\n",
        "        layers.Conv2D(32, kernel_size=(3, 3), activation=\"relu\", padding=\"same\", strides=1),\n",
        "        layers.Conv2D(48, kernel_size=(3, 3), activation=\"relu\", padding=\"same\", strides=1),\n",
        "        layers.Conv2D(64, kernel_size=(3, 3), activation=\"relu\", padding=\"same\", strides=1),\n",
        "        layers.Conv2D(80, kernel_size=(3, 3), activation=\"relu\", padding=\"same\", strides=1),\n",
        "        layers.Conv2D(96, kernel_size=(3, 3), activation=\"relu\", padding=\"same\", strides=1),\n",
        "        layers.Conv2D(112, kernel_size=(3, 3), activation=\"relu\", padding=\"same\", strides=1),\n",
        "        layers.Conv2D(128, kernel_size=(3, 3), activation=\"relu\", padding=\"same\", strides=1),\n",
        "        layers.MaxPooling2D(pool_size=(2, 2)),\n",
        "        layers.Conv2D(144, kernel_size=(3, 3), activation=\"relu\", padding=\"same\", strides=1),\n",
        "        layers.MaxPooling2D(pool_size=(2, 2)),\n",
        "        layers.Conv2D(160, kernel_size=(3, 3), activation=\"relu\", padding=\"same\", strides=1),\n",
        "        layers.MaxPooling2D(pool_size=(2, 2)),\n",
        "        \n",
        "        \n",
        "        layers.Flatten(),\n",
        "        layers.Dropout(0.5),\n",
        "        layers.Dense(10, activation=\"softmax\"),\n",
        "    ]\n",
        ")\n",
        "\n",
        "model1.summary()"
      ]
    },
    {
      "cell_type": "code",
      "execution_count": 6,
      "metadata": {
        "colab": {
          "base_uri": "https://localhost:8080/"
        },
        "id": "zTujBiSuMS6w",
        "outputId": "84264db2-d022-4de5-ecfe-4a1e586d91fc"
      },
      "outputs": [
        {
          "output_type": "stream",
          "name": "stdout",
          "text": [
            "Model: \"sequential_1\"\n",
            "_________________________________________________________________\n",
            " Layer (type)                Output Shape              Param #   \n",
            "=================================================================\n",
            " conv2d_11 (Conv2D)          (None, 28, 28, 160)       1600      \n",
            "                                                                 \n",
            " conv2d_12 (Conv2D)          (None, 28, 28, 144)       207504    \n",
            "                                                                 \n",
            " conv2d_13 (Conv2D)          (None, 28, 28, 128)       166016    \n",
            "                                                                 \n",
            " conv2d_14 (Conv2D)          (None, 28, 28, 112)       129136    \n",
            "                                                                 \n",
            " conv2d_15 (Conv2D)          (None, 28, 28, 96)        96864     \n",
            "                                                                 \n",
            " conv2d_16 (Conv2D)          (None, 28, 28, 80)        69200     \n",
            "                                                                 \n",
            " conv2d_17 (Conv2D)          (None, 28, 28, 64)        46144     \n",
            "                                                                 \n",
            " conv2d_18 (Conv2D)          (None, 28, 28, 48)        27696     \n",
            "                                                                 \n",
            " conv2d_19 (Conv2D)          (None, 28, 28, 32)        13856     \n",
            "                                                                 \n",
            " max_pooling2d_3 (MaxPooling  (None, 14, 14, 32)       0         \n",
            " 2D)                                                             \n",
            "                                                                 \n",
            " conv2d_20 (Conv2D)          (None, 14, 14, 16)        4624      \n",
            "                                                                 \n",
            " max_pooling2d_4 (MaxPooling  (None, 7, 7, 16)         0         \n",
            " 2D)                                                             \n",
            "                                                                 \n",
            " conv2d_21 (Conv2D)          (None, 7, 7, 8)           1160      \n",
            "                                                                 \n",
            " max_pooling2d_5 (MaxPooling  (None, 3, 3, 8)          0         \n",
            " 2D)                                                             \n",
            "                                                                 \n",
            " flatten_1 (Flatten)         (None, 72)                0         \n",
            "                                                                 \n",
            " dropout_1 (Dropout)         (None, 72)                0         \n",
            "                                                                 \n",
            " dense_1 (Dense)             (None, 10)                730       \n",
            "                                                                 \n",
            "=================================================================\n",
            "Total params: 764,530\n",
            "Trainable params: 764,530\n",
            "Non-trainable params: 0\n",
            "_________________________________________________________________\n"
          ]
        }
      ],
      "source": [
        "model2 = keras.Sequential(\n",
        "    [\n",
        "        keras.Input(shape=input_shape),\n",
        "\n",
        "        layers.Conv2D(160, kernel_size=(3, 3), activation=\"relu\", padding=\"same\", strides=1),\n",
        "        layers.Conv2D(144, kernel_size=(3, 3), activation=\"relu\", padding=\"same\", strides=1),\n",
        "        layers.Conv2D(128, kernel_size=(3, 3), activation=\"relu\", padding=\"same\", strides=1),\n",
        "        layers.Conv2D(112, kernel_size=(3, 3), activation=\"relu\", padding=\"same\", strides=1),\n",
        "        layers.Conv2D(96, kernel_size=(3, 3), activation=\"relu\", padding=\"same\", strides=1),\n",
        "        layers.Conv2D(80, kernel_size=(3, 3), activation=\"relu\", padding=\"same\", strides=1),\n",
        "        layers.Conv2D(64, kernel_size=(3, 3), activation=\"relu\", padding=\"same\", strides=1),\n",
        "        layers.Conv2D(48, kernel_size=(3, 3), activation=\"relu\", padding=\"same\", strides=1),\n",
        "        layers.Conv2D(32, kernel_size=(3, 3), activation=\"relu\", padding=\"same\", strides=1),\n",
        "        layers.MaxPooling2D(pool_size=(2, 2)),\n",
        "        layers.Conv2D(16, kernel_size=(3, 3), activation=\"relu\", padding=\"same\", strides=1),\n",
        "        layers.MaxPooling2D(pool_size=(2, 2)),\n",
        "        layers.Conv2D(8, kernel_size=(3, 3), activation=\"relu\", padding=\"same\", strides=1),\n",
        "        layers.MaxPooling2D(pool_size=(2, 2)),\n",
        "        \n",
        "        \n",
        "        layers.Flatten(),\n",
        "        layers.Dropout(0.5),\n",
        "        layers.Dense(10, activation=\"softmax\"),\n",
        "    ]\n",
        ")\n",
        "\n",
        "model2.summary()"
      ]
    },
    {
      "cell_type": "code",
      "execution_count": 7,
      "metadata": {
        "colab": {
          "base_uri": "https://localhost:8080/"
        },
        "id": "pbXsxtCgMS6x",
        "outputId": "f10783d7-237e-4866-c920-9c899bc02e6c"
      },
      "outputs": [
        {
          "output_type": "stream",
          "name": "stdout",
          "text": [
            "Model: \"sequential_2\"\n",
            "_________________________________________________________________\n",
            " Layer (type)                Output Shape              Param #   \n",
            "=================================================================\n",
            " conv2d_22 (Conv2D)          (None, 28, 28, 8)         80        \n",
            "                                                                 \n",
            " conv2d_23 (Conv2D)          (None, 28, 28, 16)        1168      \n",
            "                                                                 \n",
            " conv2d_24 (Conv2D)          (None, 28, 28, 32)        4640      \n",
            "                                                                 \n",
            " conv2d_25 (Conv2D)          (None, 28, 28, 48)        13872     \n",
            "                                                                 \n",
            " conv2d_26 (Conv2D)          (None, 28, 28, 64)        27712     \n",
            "                                                                 \n",
            " conv2d_27 (Conv2D)          (None, 28, 28, 80)        46160     \n",
            "                                                                 \n",
            " conv2d_28 (Conv2D)          (None, 28, 28, 128)       92288     \n",
            "                                                                 \n",
            " conv2d_29 (Conv2D)          (None, 28, 28, 80)        92240     \n",
            "                                                                 \n",
            " conv2d_30 (Conv2D)          (None, 28, 28, 64)        46144     \n",
            "                                                                 \n",
            " conv2d_31 (Conv2D)          (None, 28, 28, 48)        27696     \n",
            "                                                                 \n",
            " conv2d_32 (Conv2D)          (None, 28, 28, 32)        13856     \n",
            "                                                                 \n",
            " max_pooling2d_6 (MaxPooling  (None, 14, 14, 32)       0         \n",
            " 2D)                                                             \n",
            "                                                                 \n",
            " conv2d_33 (Conv2D)          (None, 14, 14, 16)        4624      \n",
            "                                                                 \n",
            " max_pooling2d_7 (MaxPooling  (None, 7, 7, 16)         0         \n",
            " 2D)                                                             \n",
            "                                                                 \n",
            " conv2d_34 (Conv2D)          (None, 7, 7, 8)           1160      \n",
            "                                                                 \n",
            " max_pooling2d_8 (MaxPooling  (None, 3, 3, 8)          0         \n",
            " 2D)                                                             \n",
            "                                                                 \n",
            " flatten_2 (Flatten)         (None, 72)                0         \n",
            "                                                                 \n",
            " dropout_2 (Dropout)         (None, 72)                0         \n",
            "                                                                 \n",
            " dense_2 (Dense)             (None, 10)                730       \n",
            "                                                                 \n",
            "=================================================================\n",
            "Total params: 372,370\n",
            "Trainable params: 372,370\n",
            "Non-trainable params: 0\n",
            "_________________________________________________________________\n"
          ]
        }
      ],
      "source": [
        "model3 = keras.Sequential(\n",
        "    [\n",
        "        keras.Input(shape=input_shape),\n",
        "        layers.Conv2D(8, kernel_size=(3, 3), activation=\"relu\", padding=\"same\", strides=1),\n",
        "        layers.Conv2D(16, kernel_size=(3, 3), activation=\"relu\", padding=\"same\", strides=1),\n",
        "        layers.Conv2D(32, kernel_size=(3, 3), activation=\"relu\", padding=\"same\", strides=1),\n",
        "        layers.Conv2D(48, kernel_size=(3, 3), activation=\"relu\", padding=\"same\", strides=1),\n",
        "        layers.Conv2D(64, kernel_size=(3, 3), activation=\"relu\", padding=\"same\", strides=1),\n",
        "        layers.Conv2D(80, kernel_size=(3, 3), activation=\"relu\", padding=\"same\", strides=1),\n",
        "        layers.Conv2D(128, kernel_size=(3, 3), activation=\"relu\", padding=\"same\", strides=1),\n",
        "        layers.Conv2D(80, kernel_size=(3, 3), activation=\"relu\", padding=\"same\", strides=1),\n",
        "        layers.Conv2D(64, kernel_size=(3, 3), activation=\"relu\", padding=\"same\", strides=1),\n",
        "        layers.Conv2D(48, kernel_size=(3, 3), activation=\"relu\", padding=\"same\", strides=1),\n",
        "        layers.Conv2D(32, kernel_size=(3, 3), activation=\"relu\", padding=\"same\", strides=1),\n",
        "        layers.MaxPooling2D(pool_size=(2, 2)),\n",
        "        layers.Conv2D(16, kernel_size=(3, 3), activation=\"relu\", padding=\"same\", strides=1),\n",
        "        layers.MaxPooling2D(pool_size=(2, 2)),\n",
        "        layers.Conv2D(8, kernel_size=(3, 3), activation=\"relu\", padding=\"same\", strides=1),\n",
        "        layers.MaxPooling2D(pool_size=(2, 2)),\n",
        "        \n",
        "        \n",
        "        layers.Flatten(),\n",
        "        layers.Dropout(0.5),\n",
        "        layers.Dense(10, activation=\"softmax\"),\n",
        "    ]\n",
        ")\n",
        "\n",
        "model3.summary()"
      ]
    },
    {
      "cell_type": "code",
      "execution_count": 8,
      "metadata": {
        "scrolled": false,
        "colab": {
          "base_uri": "https://localhost:8080/"
        },
        "id": "bBWGjfkqMS6y",
        "outputId": "ea7ec8c3-a2f3-4ba0-acab-ebb85b9cc5be"
      },
      "outputs": [
        {
          "output_type": "stream",
          "name": "stdout",
          "text": [
            "Tryng adam optimizier\n",
            "Model 1:\n",
            "Epoch 1/2\n",
            "1072/1072 [==============================] - 46s 33ms/step - loss: 0.1791 - accuracy: 0.9439 - val_loss: 0.0440 - val_accuracy: 0.9885\n",
            "Epoch 2/2\n",
            "1072/1072 [==============================] - 35s 33ms/step - loss: 0.0584 - accuracy: 0.9821 - val_loss: 0.0326 - val_accuracy: 0.9886\n",
            "Model 2:\n",
            "Epoch 1/2\n",
            "1072/1072 [==============================] - 51s 46ms/step - loss: 0.5742 - accuracy: 0.8164 - val_loss: 0.0947 - val_accuracy: 0.9713\n",
            "Epoch 2/2\n",
            "1072/1072 [==============================] - 48s 45ms/step - loss: 0.2049 - accuracy: 0.9413 - val_loss: 0.0664 - val_accuracy: 0.9792\n",
            "Model 3:\n",
            "Epoch 1/2\n",
            "1072/1072 [==============================] - 36s 32ms/step - loss: 0.5831 - accuracy: 0.8138 - val_loss: 0.0758 - val_accuracy: 0.9763\n",
            "Epoch 2/2\n",
            "1072/1072 [==============================] - 33s 31ms/step - loss: 0.1962 - accuracy: 0.9448 - val_loss: 0.0514 - val_accuracy: 0.9840\n",
            "Tryng SGD optimizier\n",
            "Model 1:\n",
            "Epoch 1/2\n",
            "1072/1072 [==============================] - 35s 33ms/step - loss: 0.0299 - accuracy: 0.9909 - val_loss: 0.0200 - val_accuracy: 0.9933\n",
            "Epoch 2/2\n",
            "1072/1072 [==============================] - 35s 32ms/step - loss: 0.0259 - accuracy: 0.9918 - val_loss: 0.0186 - val_accuracy: 0.9932\n",
            "Model 2:\n",
            "Epoch 1/2\n",
            "1072/1072 [==============================] - 51s 47ms/step - loss: 0.1237 - accuracy: 0.9640 - val_loss: 0.0404 - val_accuracy: 0.9868\n",
            "Epoch 2/2\n",
            "1072/1072 [==============================] - 51s 47ms/step - loss: 0.1076 - accuracy: 0.9677 - val_loss: 0.0343 - val_accuracy: 0.9890\n",
            "Model 3:\n",
            "Epoch 1/2\n",
            "1072/1072 [==============================] - 34s 31ms/step - loss: 0.1138 - accuracy: 0.9669 - val_loss: 0.0346 - val_accuracy: 0.9893\n",
            "Epoch 2/2\n",
            "1072/1072 [==============================] - 33s 31ms/step - loss: 0.1007 - accuracy: 0.9704 - val_loss: 0.0434 - val_accuracy: 0.9868\n",
            "Tryng RMSProp optimizier\n",
            "Model 1:\n",
            "Epoch 1/2\n",
            "1072/1072 [==============================] - 37s 33ms/step - loss: 0.0483 - accuracy: 0.9862 - val_loss: 0.0219 - val_accuracy: 0.9924\n",
            "Epoch 2/2\n",
            "1072/1072 [==============================] - 36s 33ms/step - loss: 0.0395 - accuracy: 0.9882 - val_loss: 0.0213 - val_accuracy: 0.9929\n",
            "Model 2:\n",
            "Epoch 1/2\n",
            "1072/1072 [==============================] - 51s 46ms/step - loss: 0.1506 - accuracy: 0.9571 - val_loss: 0.1361 - val_accuracy: 0.9544\n",
            "Epoch 2/2\n",
            "1072/1072 [==============================] - 51s 48ms/step - loss: 0.1269 - accuracy: 0.9648 - val_loss: 0.0417 - val_accuracy: 0.9878\n",
            "Model 3:\n",
            "Epoch 1/2\n",
            "1072/1072 [==============================] - 37s 32ms/step - loss: 0.1471 - accuracy: 0.9578 - val_loss: 0.0842 - val_accuracy: 0.9751\n",
            "Epoch 2/2\n",
            "1072/1072 [==============================] - 34s 32ms/step - loss: 0.1214 - accuracy: 0.9657 - val_loss: 0.0363 - val_accuracy: 0.9889\n"
          ]
        }
      ],
      "source": [
        "batch_size = 56\n",
        "epochs = 2\n",
        "optimizers = [\"adam\", \"SGD\", \"RMSProp\"]\n",
        "for opt in optimizers:\n",
        "    print(f'Tryng {opt} optimizier')\n",
        "    print(f'Model 1:')\n",
        "    model1.compile(loss=\"categorical_crossentropy\", optimizer=opt, metrics=[\"accuracy\"])\n",
        "    model1.fit(x_train, y_train, batch_size=batch_size, epochs=epochs, validation_data=(x_test, y_test))\n",
        "    print(f'Model 2:')\n",
        "    model2.compile(loss=\"categorical_crossentropy\", optimizer=opt, metrics=[\"accuracy\"])\n",
        "    model2.fit(x_train, y_train, batch_size=batch_size, epochs=epochs, validation_data=(x_test, y_test))\n",
        "    print(f'Model 3:')\n",
        "    model3.compile(loss=\"categorical_crossentropy\", optimizer=opt, metrics=[\"accuracy\"])\n",
        "    model3.fit(x_train, y_train, batch_size=batch_size, epochs=epochs, validation_data=(x_test, y_test))\n"
      ]
    },
    {
      "cell_type": "code",
      "execution_count": 9,
      "metadata": {
        "colab": {
          "base_uri": "https://localhost:8080/"
        },
        "id": "5lt0FyntMS6y",
        "outputId": "68317884-83a0-436a-b159-8824bf5469fb"
      },
      "outputs": [
        {
          "output_type": "stream",
          "name": "stdout",
          "text": [
            "Tryng batch size=32.\n",
            "Model 1:\n",
            "Epoch 1/2\n",
            "1875/1875 - 33s - loss: 0.0201 - accuracy: 0.9936 - val_loss: 0.0141 - val_accuracy: 0.9947 - 33s/epoch - 18ms/step\n",
            "Epoch 2/2\n",
            "1875/1875 - 32s - loss: 0.0169 - accuracy: 0.9951 - val_loss: 0.0136 - val_accuracy: 0.9951 - 32s/epoch - 17ms/step\n",
            "Model 2:\n",
            "Epoch 1/2\n",
            "1875/1875 - 46s - loss: 0.0794 - accuracy: 0.9775 - val_loss: 0.0286 - val_accuracy: 0.9896 - 46s/epoch - 25ms/step\n",
            "Epoch 2/2\n",
            "1875/1875 - 45s - loss: 0.0689 - accuracy: 0.9807 - val_loss: 0.0267 - val_accuracy: 0.9914 - 45s/epoch - 24ms/step\n",
            "Model 3:\n",
            "Epoch 1/2\n",
            "1875/1875 - 35s - loss: 0.1255 - accuracy: 0.9654 - val_loss: 0.0487 - val_accuracy: 0.9870 - 35s/epoch - 18ms/step\n",
            "Epoch 2/2\n",
            "1875/1875 - 33s - loss: 0.1191 - accuracy: 0.9675 - val_loss: 0.0484 - val_accuracy: 0.9851 - 33s/epoch - 18ms/step\n",
            "Tryng batch size=64.\n",
            "Model 1:\n",
            "Epoch 1/2\n",
            "938/938 - 32s - loss: 0.0159 - accuracy: 0.9952 - val_loss: 0.0137 - val_accuracy: 0.9950 - 32s/epoch - 34ms/step\n",
            "Epoch 2/2\n",
            "938/938 - 31s - loss: 0.0153 - accuracy: 0.9955 - val_loss: 0.0133 - val_accuracy: 0.9951 - 31s/epoch - 33ms/step\n",
            "Model 2:\n",
            "Epoch 1/2\n",
            "938/938 - 45s - loss: 0.0605 - accuracy: 0.9817 - val_loss: 0.0235 - val_accuracy: 0.9925 - 45s/epoch - 48ms/step\n",
            "Epoch 2/2\n",
            "938/938 - 44s - loss: 0.0591 - accuracy: 0.9826 - val_loss: 0.0241 - val_accuracy: 0.9923 - 44s/epoch - 46ms/step\n",
            "Model 3:\n",
            "Epoch 1/2\n",
            "938/938 - 32s - loss: 0.0966 - accuracy: 0.9734 - val_loss: 0.0604 - val_accuracy: 0.9819 - 32s/epoch - 34ms/step\n",
            "Epoch 2/2\n",
            "938/938 - 30s - loss: 0.0933 - accuracy: 0.9748 - val_loss: 0.0485 - val_accuracy: 0.9848 - 30s/epoch - 32ms/step\n",
            "Tryng batch size=128.\n",
            "Model 1:\n",
            "Epoch 1/2\n",
            "469/469 - 31s - loss: 0.0144 - accuracy: 0.9957 - val_loss: 0.0131 - val_accuracy: 0.9955 - 31s/epoch - 67ms/step\n",
            "Epoch 2/2\n",
            "469/469 - 29s - loss: 0.0149 - accuracy: 0.9955 - val_loss: 0.0136 - val_accuracy: 0.9955 - 29s/epoch - 62ms/step\n",
            "Model 2:\n",
            "Epoch 1/2\n",
            "469/469 - 46s - loss: 0.0549 - accuracy: 0.9843 - val_loss: 0.0228 - val_accuracy: 0.9922 - 46s/epoch - 98ms/step\n",
            "Epoch 2/2\n",
            "469/469 - 43s - loss: 0.0548 - accuracy: 0.9842 - val_loss: 0.0231 - val_accuracy: 0.9918 - 43s/epoch - 91ms/step\n",
            "Model 3:\n",
            "Epoch 1/2\n",
            "469/469 - 28s - loss: 0.0738 - accuracy: 0.9800 - val_loss: 0.0304 - val_accuracy: 0.9899 - 28s/epoch - 60ms/step\n",
            "Epoch 2/2\n",
            "469/469 - 28s - loss: 0.0683 - accuracy: 0.9812 - val_loss: 0.0279 - val_accuracy: 0.9913 - 28s/epoch - 59ms/step\n",
            "Tryng batch size=256.\n",
            "Model 1:\n",
            "Epoch 1/2\n",
            "235/235 - 30s - loss: 0.0143 - accuracy: 0.9957 - val_loss: 0.0133 - val_accuracy: 0.9954 - 30s/epoch - 128ms/step\n",
            "Epoch 2/2\n",
            "235/235 - 28s - loss: 0.0132 - accuracy: 0.9959 - val_loss: 0.0132 - val_accuracy: 0.9953 - 28s/epoch - 121ms/step\n",
            "Model 2:\n",
            "Epoch 1/2\n",
            "235/235 - 44s - loss: 0.0525 - accuracy: 0.9842 - val_loss: 0.0223 - val_accuracy: 0.9924 - 44s/epoch - 189ms/step\n",
            "Epoch 2/2\n",
            "235/235 - 42s - loss: 0.0517 - accuracy: 0.9854 - val_loss: 0.0216 - val_accuracy: 0.9926 - 42s/epoch - 178ms/step\n",
            "Model 3:\n",
            "Epoch 1/2\n",
            "235/235 - 27s - loss: 0.0555 - accuracy: 0.9842 - val_loss: 0.0305 - val_accuracy: 0.9911 - 27s/epoch - 116ms/step\n",
            "Epoch 2/2\n",
            "235/235 - 27s - loss: 0.0524 - accuracy: 0.9847 - val_loss: 0.0282 - val_accuracy: 0.9920 - 27s/epoch - 113ms/step\n"
          ]
        }
      ],
      "source": [
        "model1.compile(loss=\"categorical_crossentropy\", optimizer=\"SGD\", metrics=[\"accuracy\"])\n",
        "model2.compile(loss=\"categorical_crossentropy\", optimizer=\"SGD\", metrics=[\"accuracy\"])\n",
        "model3.compile(loss=\"categorical_crossentropy\", optimizer=\"RMSProp\", metrics=[\"accuracy\"])\n",
        "\n",
        "batch_sizes = [32,64,128,256]\n",
        "for b in batch_sizes:\n",
        "    print(f'Tryng batch size={b}.')\n",
        "    print(f'Model 1:')\n",
        "    model1.fit(x_train, y_train, batch_size=b, epochs=epochs, validation_data=(x_test, y_test), verbose=2)\n",
        "    print(f'Model 2:')\n",
        "    model2.fit(x_train, y_train, batch_size=b, epochs=epochs, validation_data=(x_test, y_test), verbose=2)\n",
        "    print(f'Model 3:')\n",
        "    model3.fit(x_train, y_train, batch_size=b, epochs=epochs, validation_data=(x_test, y_test), verbose=2)"
      ]
    }
  ],
  "metadata": {
    "colab": {
      "collapsed_sections": [],
      "name": "A03_task.ipynb",
      "provenance": [],
      "include_colab_link": true
    },
    "kernelspec": {
      "display_name": "Python 3 (ipykernel)",
      "language": "python",
      "name": "python3"
    },
    "language_info": {
      "codemirror_mode": {
        "name": "ipython",
        "version": 3
      },
      "file_extension": ".py",
      "mimetype": "text/x-python",
      "name": "python",
      "nbconvert_exporter": "python",
      "pygments_lexer": "ipython3",
      "version": "3.9.13"
    },
    "accelerator": "GPU",
    "gpuClass": "standard"
  },
  "nbformat": 4,
  "nbformat_minor": 0
}