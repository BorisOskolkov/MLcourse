{
  "cells": [
    {
      "cell_type": "markdown",
      "metadata": {
        "id": "view-in-github",
        "colab_type": "text"
      },
      "source": [
        "<a href=\"https://colab.research.google.com/github/BorisOskolkov/MLcourse/blob/main/asng03/A03_task.ipynb\" target=\"_parent\"><img src=\"https://colab.research.google.com/assets/colab-badge.svg\" alt=\"Open In Colab\"/></a>"
      ]
    },
    {
      "cell_type": "markdown",
      "metadata": {
        "id": "btdR6_VJxLlY"
      },
      "source": [
        "\n",
        "Made by Boris Oskolkov for Assignment03 (CS5783)"
      ]
    },
    {
      "cell_type": "code",
      "source": [
        "!pip install google\n",
        "!pip install tensorflow"
      ],
      "metadata": {
        "id": "rZWz2cd7x0WM"
      },
      "execution_count": null,
      "outputs": []
    },
    {
      "cell_type": "code",
      "execution_count": 1,
      "metadata": {
        "id": "U5bDAG8aMS6s"
      },
      "outputs": [],
      "source": [
        "import tensorflow as tf\n",
        "import numpy as np\n",
        "from tensorflow import keras\n",
        "from tensorflow.keras import optimizers\n",
        "from tensorflow.keras.datasets import mnist\n",
        "from tensorflow.keras import layers\n",
        "from sklearn.metrics import accuracy_score\n",
        "import matplotlib.pyplot as plt\n",
        "import pandas as pd \n",
        "pd.options.mode.chained_assignment = None"
      ]
    },
    {
      "cell_type": "markdown",
      "source": [
        "------start first problem------"
      ],
      "metadata": {
        "id": "hB5n7tv92w9w"
      }
    },
    {
      "cell_type": "markdown",
      "source": [
        "First, we will load MNIST dataset and prepare it."
      ],
      "metadata": {
        "id": "GvCaZekVoe0s"
      }
    },
    {
      "cell_type": "code",
      "execution_count": null,
      "metadata": {
        "id": "IoKQTDXmMS6u",
        "colab": {
          "base_uri": "https://localhost:8080/"
        },
        "outputId": "2d6d4a9f-dd60-488c-bac3-905c4a961f59"
      },
      "outputs": [
        {
          "output_type": "stream",
          "name": "stdout",
          "text": [
            "Downloading data from https://storage.googleapis.com/tensorflow/tf-keras-datasets/mnist.npz\n",
            "11490434/11490434 [==============================] - 1s 0us/step\n"
          ]
        }
      ],
      "source": [
        "# Load the data and split it between train and test sets\n",
        "(x_train, y_train), (x_test, y_test) = mnist.load_data()\n",
        "# Scale images to the [0, 1] range\n",
        "x_train, x_test = x_train / 255.0, x_test / 255.0\n",
        "\n",
        "# Make sure images have shape (28, 28, 1)\n",
        "x_train = np.expand_dims(x_train, -1)\n",
        "x_test = np.expand_dims(x_test, -1)\n"
      ]
    },
    {
      "cell_type": "code",
      "execution_count": null,
      "metadata": {
        "id": "VnvUc_ijMS6v"
      },
      "outputs": [],
      "source": [
        "y_train=tf.keras.utils.to_categorical(y_train,10)\n",
        "y_test=tf.keras.utils.to_categorical(y_test,10)"
      ]
    },
    {
      "cell_type": "code",
      "execution_count": null,
      "metadata": {
        "id": "tkUT9W5wMS6v"
      },
      "outputs": [],
      "source": [
        "input_shape = (28, 28, 1)"
      ]
    },
    {
      "cell_type": "markdown",
      "source": [
        "Model0 - number of filters ascending with every layer."
      ],
      "metadata": {
        "id": "uHuIQe1Zomzm"
      }
    },
    {
      "cell_type": "code",
      "execution_count": null,
      "metadata": {
        "colab": {
          "base_uri": "https://localhost:8080/"
        },
        "id": "nAJF5VvqMS6v",
        "outputId": "f63f8259-c612-49c7-b07c-4e4463a4c1da"
      },
      "outputs": [
        {
          "output_type": "stream",
          "name": "stdout",
          "text": [
            "Model: \"sequential\"\n",
            "_________________________________________________________________\n",
            " Layer (type)                Output Shape              Param #   \n",
            "=================================================================\n",
            " conv2d (Conv2D)             (None, 28, 28, 8)         80        \n",
            "                                                                 \n",
            " conv2d_1 (Conv2D)           (None, 28, 28, 16)        1168      \n",
            "                                                                 \n",
            " conv2d_2 (Conv2D)           (None, 28, 28, 32)        4640      \n",
            "                                                                 \n",
            " conv2d_3 (Conv2D)           (None, 28, 28, 48)        13872     \n",
            "                                                                 \n",
            " conv2d_4 (Conv2D)           (None, 28, 28, 64)        27712     \n",
            "                                                                 \n",
            " conv2d_5 (Conv2D)           (None, 28, 28, 80)        46160     \n",
            "                                                                 \n",
            " conv2d_6 (Conv2D)           (None, 28, 28, 96)        69216     \n",
            "                                                                 \n",
            " conv2d_7 (Conv2D)           (None, 28, 28, 112)       96880     \n",
            "                                                                 \n",
            " conv2d_8 (Conv2D)           (None, 28, 28, 128)       129152    \n",
            "                                                                 \n",
            " max_pooling2d (MaxPooling2D  (None, 14, 14, 128)      0         \n",
            " )                                                               \n",
            "                                                                 \n",
            " conv2d_9 (Conv2D)           (None, 14, 14, 144)       166032    \n",
            "                                                                 \n",
            " max_pooling2d_1 (MaxPooling  (None, 7, 7, 144)        0         \n",
            " 2D)                                                             \n",
            "                                                                 \n",
            " conv2d_10 (Conv2D)          (None, 7, 7, 160)         207520    \n",
            "                                                                 \n",
            " max_pooling2d_2 (MaxPooling  (None, 3, 3, 160)        0         \n",
            " 2D)                                                             \n",
            "                                                                 \n",
            " flatten (Flatten)           (None, 1440)              0         \n",
            "                                                                 \n",
            " dropout (Dropout)           (None, 1440)              0         \n",
            "                                                                 \n",
            " dense (Dense)               (None, 10)                14410     \n",
            "                                                                 \n",
            "=================================================================\n",
            "Total params: 776,842\n",
            "Trainable params: 776,842\n",
            "Non-trainable params: 0\n",
            "_________________________________________________________________\n"
          ]
        }
      ],
      "source": [
        "model0 = keras.Sequential(\n",
        "    [\n",
        "        keras.Input(shape=input_shape),\n",
        "\n",
        "        layers.Conv2D(8, kernel_size=(3, 3), activation=\"relu\", padding=\"same\", strides=1),\n",
        "        layers.Conv2D(16, kernel_size=(3, 3), activation=\"relu\", padding=\"same\", strides=1),\n",
        "        layers.Conv2D(32, kernel_size=(3, 3), activation=\"relu\", padding=\"same\", strides=1),\n",
        "        layers.Conv2D(48, kernel_size=(3, 3), activation=\"relu\", padding=\"same\", strides=1),\n",
        "        layers.Conv2D(64, kernel_size=(3, 3), activation=\"relu\", padding=\"same\", strides=1),\n",
        "        layers.Conv2D(80, kernel_size=(3, 3), activation=\"relu\", padding=\"same\", strides=1),\n",
        "        layers.Conv2D(96, kernel_size=(3, 3), activation=\"relu\", padding=\"same\", strides=1),\n",
        "        layers.Conv2D(112, kernel_size=(3, 3), activation=\"relu\", padding=\"same\", strides=1),\n",
        "        layers.Conv2D(128, kernel_size=(3, 3), activation=\"relu\", padding=\"same\", strides=1),\n",
        "        layers.MaxPooling2D(pool_size=(2, 2)),\n",
        "        layers.Conv2D(144, kernel_size=(3, 3), activation=\"relu\", padding=\"same\", strides=1),\n",
        "        layers.MaxPooling2D(pool_size=(2, 2)),\n",
        "        layers.Conv2D(160, kernel_size=(3, 3), activation=\"relu\", padding=\"same\", strides=1),\n",
        "        layers.MaxPooling2D(pool_size=(2, 2)),\n",
        "        \n",
        "        \n",
        "        layers.Flatten(),\n",
        "        layers.Dropout(0.5),\n",
        "        layers.Dense(10, activation=\"softmax\"),\n",
        "    ]\n",
        ")\n",
        "\n",
        "model0.summary()"
      ]
    },
    {
      "cell_type": "markdown",
      "source": [
        "Model1 - number of filters descending with every layer."
      ],
      "metadata": {
        "id": "FcvXmwZjsWFH"
      }
    },
    {
      "cell_type": "code",
      "execution_count": null,
      "metadata": {
        "colab": {
          "base_uri": "https://localhost:8080/"
        },
        "id": "zTujBiSuMS6w",
        "outputId": "8ddd6ce7-6f6e-4b19-d7df-c6c1d4a826e4"
      },
      "outputs": [
        {
          "output_type": "stream",
          "name": "stdout",
          "text": [
            "Model: \"sequential_1\"\n",
            "_________________________________________________________________\n",
            " Layer (type)                Output Shape              Param #   \n",
            "=================================================================\n",
            " conv2d_11 (Conv2D)          (None, 28, 28, 160)       1600      \n",
            "                                                                 \n",
            " conv2d_12 (Conv2D)          (None, 28, 28, 144)       207504    \n",
            "                                                                 \n",
            " conv2d_13 (Conv2D)          (None, 28, 28, 128)       166016    \n",
            "                                                                 \n",
            " conv2d_14 (Conv2D)          (None, 28, 28, 112)       129136    \n",
            "                                                                 \n",
            " conv2d_15 (Conv2D)          (None, 28, 28, 96)        96864     \n",
            "                                                                 \n",
            " conv2d_16 (Conv2D)          (None, 28, 28, 80)        69200     \n",
            "                                                                 \n",
            " conv2d_17 (Conv2D)          (None, 28, 28, 64)        46144     \n",
            "                                                                 \n",
            " conv2d_18 (Conv2D)          (None, 28, 28, 48)        27696     \n",
            "                                                                 \n",
            " conv2d_19 (Conv2D)          (None, 28, 28, 32)        13856     \n",
            "                                                                 \n",
            " max_pooling2d_3 (MaxPooling  (None, 14, 14, 32)       0         \n",
            " 2D)                                                             \n",
            "                                                                 \n",
            " conv2d_20 (Conv2D)          (None, 14, 14, 16)        4624      \n",
            "                                                                 \n",
            " max_pooling2d_4 (MaxPooling  (None, 7, 7, 16)         0         \n",
            " 2D)                                                             \n",
            "                                                                 \n",
            " conv2d_21 (Conv2D)          (None, 7, 7, 8)           1160      \n",
            "                                                                 \n",
            " max_pooling2d_5 (MaxPooling  (None, 3, 3, 8)          0         \n",
            " 2D)                                                             \n",
            "                                                                 \n",
            " flatten_1 (Flatten)         (None, 72)                0         \n",
            "                                                                 \n",
            " dropout_1 (Dropout)         (None, 72)                0         \n",
            "                                                                 \n",
            " dense_1 (Dense)             (None, 10)                730       \n",
            "                                                                 \n",
            "=================================================================\n",
            "Total params: 764,530\n",
            "Trainable params: 764,530\n",
            "Non-trainable params: 0\n",
            "_________________________________________________________________\n"
          ]
        }
      ],
      "source": [
        "model1 = keras.Sequential(\n",
        "    [\n",
        "        keras.Input(shape=input_shape),\n",
        "\n",
        "        layers.Conv2D(160, kernel_size=(3, 3), activation=\"relu\", padding=\"same\", strides=1),\n",
        "        layers.Conv2D(144, kernel_size=(3, 3), activation=\"relu\", padding=\"same\", strides=1),\n",
        "        layers.Conv2D(128, kernel_size=(3, 3), activation=\"relu\", padding=\"same\", strides=1),\n",
        "        layers.Conv2D(112, kernel_size=(3, 3), activation=\"relu\", padding=\"same\", strides=1),\n",
        "        layers.Conv2D(96, kernel_size=(3, 3), activation=\"relu\", padding=\"same\", strides=1),\n",
        "        layers.Conv2D(80, kernel_size=(3, 3), activation=\"relu\", padding=\"same\", strides=1),\n",
        "        layers.Conv2D(64, kernel_size=(3, 3), activation=\"relu\", padding=\"same\", strides=1),\n",
        "        layers.Conv2D(48, kernel_size=(3, 3), activation=\"relu\", padding=\"same\", strides=1),\n",
        "        layers.Conv2D(32, kernel_size=(3, 3), activation=\"relu\", padding=\"same\", strides=1),\n",
        "        layers.MaxPooling2D(pool_size=(2, 2)),\n",
        "        layers.Conv2D(16, kernel_size=(3, 3), activation=\"relu\", padding=\"same\", strides=1),\n",
        "        layers.MaxPooling2D(pool_size=(2, 2)),\n",
        "        layers.Conv2D(8, kernel_size=(3, 3), activation=\"relu\", padding=\"same\", strides=1),\n",
        "        layers.MaxPooling2D(pool_size=(2, 2)),\n",
        "        \n",
        "        \n",
        "        layers.Flatten(),\n",
        "        layers.Dropout(0.5),\n",
        "        layers.Dense(10, activation=\"softmax\"),\n",
        "    ]\n",
        ")\n",
        "\n",
        "model1.summary()"
      ]
    },
    {
      "cell_type": "markdown",
      "source": [
        "Model2 - number of filters ascending until midpart and descending therefore."
      ],
      "metadata": {
        "id": "1w96h-_qvRYn"
      }
    },
    {
      "cell_type": "code",
      "execution_count": null,
      "metadata": {
        "colab": {
          "base_uri": "https://localhost:8080/"
        },
        "id": "pbXsxtCgMS6x",
        "outputId": "63e8d284-ea84-441c-eb48-0da8c18e6411"
      },
      "outputs": [
        {
          "output_type": "stream",
          "name": "stdout",
          "text": [
            "Model: \"sequential_2\"\n",
            "_________________________________________________________________\n",
            " Layer (type)                Output Shape              Param #   \n",
            "=================================================================\n",
            " conv2d_22 (Conv2D)          (None, 28, 28, 8)         80        \n",
            "                                                                 \n",
            " conv2d_23 (Conv2D)          (None, 28, 28, 16)        1168      \n",
            "                                                                 \n",
            " conv2d_24 (Conv2D)          (None, 28, 28, 32)        4640      \n",
            "                                                                 \n",
            " conv2d_25 (Conv2D)          (None, 28, 28, 48)        13872     \n",
            "                                                                 \n",
            " conv2d_26 (Conv2D)          (None, 28, 28, 64)        27712     \n",
            "                                                                 \n",
            " conv2d_27 (Conv2D)          (None, 28, 28, 80)        46160     \n",
            "                                                                 \n",
            " conv2d_28 (Conv2D)          (None, 28, 28, 128)       92288     \n",
            "                                                                 \n",
            " conv2d_29 (Conv2D)          (None, 28, 28, 80)        92240     \n",
            "                                                                 \n",
            " conv2d_30 (Conv2D)          (None, 28, 28, 64)        46144     \n",
            "                                                                 \n",
            " conv2d_31 (Conv2D)          (None, 28, 28, 48)        27696     \n",
            "                                                                 \n",
            " conv2d_32 (Conv2D)          (None, 28, 28, 32)        13856     \n",
            "                                                                 \n",
            " max_pooling2d_6 (MaxPooling  (None, 14, 14, 32)       0         \n",
            " 2D)                                                             \n",
            "                                                                 \n",
            " conv2d_33 (Conv2D)          (None, 14, 14, 16)        4624      \n",
            "                                                                 \n",
            " max_pooling2d_7 (MaxPooling  (None, 7, 7, 16)         0         \n",
            " 2D)                                                             \n",
            "                                                                 \n",
            " conv2d_34 (Conv2D)          (None, 7, 7, 8)           1160      \n",
            "                                                                 \n",
            " max_pooling2d_8 (MaxPooling  (None, 3, 3, 8)          0         \n",
            " 2D)                                                             \n",
            "                                                                 \n",
            " flatten_2 (Flatten)         (None, 72)                0         \n",
            "                                                                 \n",
            " dropout_2 (Dropout)         (None, 72)                0         \n",
            "                                                                 \n",
            " dense_2 (Dense)             (None, 10)                730       \n",
            "                                                                 \n",
            "=================================================================\n",
            "Total params: 372,370\n",
            "Trainable params: 372,370\n",
            "Non-trainable params: 0\n",
            "_________________________________________________________________\n"
          ]
        }
      ],
      "source": [
        "model2 = keras.Sequential(\n",
        "    [\n",
        "        keras.Input(shape=input_shape),\n",
        "        layers.Conv2D(8, kernel_size=(3, 3), activation=\"relu\", padding=\"same\", strides=1),\n",
        "        layers.Conv2D(16, kernel_size=(3, 3), activation=\"relu\", padding=\"same\", strides=1),\n",
        "        layers.Conv2D(32, kernel_size=(3, 3), activation=\"relu\", padding=\"same\", strides=1),\n",
        "        layers.Conv2D(48, kernel_size=(3, 3), activation=\"relu\", padding=\"same\", strides=1),\n",
        "        layers.Conv2D(64, kernel_size=(3, 3), activation=\"relu\", padding=\"same\", strides=1),\n",
        "        layers.Conv2D(80, kernel_size=(3, 3), activation=\"relu\", padding=\"same\", strides=1),\n",
        "        layers.Conv2D(128, kernel_size=(3, 3), activation=\"relu\", padding=\"same\", strides=1),\n",
        "        layers.Conv2D(80, kernel_size=(3, 3), activation=\"relu\", padding=\"same\", strides=1),\n",
        "        layers.Conv2D(64, kernel_size=(3, 3), activation=\"relu\", padding=\"same\", strides=1),\n",
        "        layers.Conv2D(48, kernel_size=(3, 3), activation=\"relu\", padding=\"same\", strides=1),\n",
        "        layers.Conv2D(32, kernel_size=(3, 3), activation=\"relu\", padding=\"same\", strides=1),\n",
        "        layers.MaxPooling2D(pool_size=(2, 2)),\n",
        "        layers.Conv2D(16, kernel_size=(3, 3), activation=\"relu\", padding=\"same\", strides=1),\n",
        "        layers.MaxPooling2D(pool_size=(2, 2)),\n",
        "        layers.Conv2D(8, kernel_size=(3, 3), activation=\"relu\", padding=\"same\", strides=1),\n",
        "        layers.MaxPooling2D(pool_size=(2, 2)),\n",
        "        \n",
        "        \n",
        "        layers.Flatten(),\n",
        "        layers.Dropout(0.5),\n",
        "        layers.Dense(10, activation=\"softmax\"),\n",
        "    ]\n",
        ")\n",
        "\n",
        "model2.summary()"
      ]
    },
    {
      "cell_type": "markdown",
      "source": [
        "I will try different optimizers and will choose best one for every model."
      ],
      "metadata": {
        "id": "JphVbg8fvevp"
      }
    },
    {
      "cell_type": "code",
      "execution_count": null,
      "metadata": {
        "scrolled": false,
        "colab": {
          "base_uri": "https://localhost:8080/"
        },
        "id": "bBWGjfkqMS6y",
        "outputId": "b3977ac9-3f1b-45f3-fda9-8b26ef482789"
      },
      "outputs": [
        {
          "output_type": "stream",
          "name": "stdout",
          "text": [
            "Tryng adam optimizier\n",
            "Model 0: working...\n",
            "Model 1: working...\n",
            "Model 2: working...\n",
            "Tryng SGD optimizier\n",
            "Model 0: working...\n",
            "Model 1: working...\n",
            "Model 2: working...\n",
            "Tryng RMSProp optimizier\n",
            "Model 0: working...\n",
            "Model 1: working...\n",
            "Model 2: working...\n",
            "Done!\n"
          ]
        }
      ],
      "source": [
        "batch_size = 64\n",
        "epochs = 3\n",
        "optimizers = [\"adam\", \"SGD\", \"RMSProp\"]\n",
        "i=0\n",
        "opt_comp_tbl = pd.DataFrame(np.zeros((3, len(optimizers))), columns=optimizers, dtype = float)\n",
        "for opt in optimizers:\n",
        "    print(f'Tryng {opt} optimizier')\n",
        "    print(f'Model 0: working...')\n",
        "    model0.compile(loss=\"categorical_crossentropy\", optimizer=opt, metrics=[\"accuracy\"])\n",
        "    opt_comp_tbl[opt][i]=model0.fit(x_train, y_train, batch_size=batch_size, epochs=epochs, validation_data=(x_test, y_test), verbose=0)\n",
        "    print(f'Model 1: working...')\n",
        "    model1.compile(loss=\"categorical_crossentropy\", optimizer=opt, metrics=[\"accuracy\"])\n",
        "    opt_comp_tbl[opt][i+1]=model1.fit(x_train, y_train, batch_size=batch_size, epochs=epochs, validation_data=(x_test, y_test), verbose=0)\n",
        "    print(f'Model 2: working...')\n",
        "    model2.compile(loss=\"categorical_crossentropy\", optimizer=opt, metrics=[\"accuracy\"])\n",
        "    opt_comp_tbl[opt][i+2]=model2.fit(x_train, y_train, batch_size=batch_size, epochs=epochs, validation_data=(x_test, y_test), verbose=0)\n",
        "    for j in range(3):\n",
        "      opt_comp_tbl[opt][j] = opt_comp_tbl[opt][j].history.get('val_accuracy')[-1]\n",
        "print(\"Done!\")"
      ]
    },
    {
      "cell_type": "code",
      "source": [
        "print(\"Validation accuracy between several optimizers:\")\n",
        "print(opt_comp_tbl)"
      ],
      "metadata": {
        "colab": {
          "base_uri": "https://localhost:8080/"
        },
        "id": "WGO8YKk60Dis",
        "outputId": "269c1706-542b-4a04-db1e-8e8836bdf88b"
      },
      "execution_count": null,
      "outputs": [
        {
          "output_type": "stream",
          "name": "stdout",
          "text": [
            "Validation accuracy between several optimizers:\n",
            "     adam     SGD RMSProp\n",
            "0  0.9898  0.9937  0.9895\n",
            "1  0.9857  0.9923  0.9899\n",
            "2  0.9838  0.9881  0.9809\n"
          ]
        }
      ]
    },
    {
      "cell_type": "markdown",
      "source": [
        "Best perfomance showed SGD optimizer. Let's adjust batch size."
      ],
      "metadata": {
        "id": "fGCDruZZAu9b"
      }
    },
    {
      "cell_type": "code",
      "execution_count": null,
      "metadata": {
        "colab": {
          "base_uri": "https://localhost:8080/"
        },
        "id": "5lt0FyntMS6y",
        "outputId": "2b61ffb2-a36a-47f6-a25e-c4b950ed56d4"
      },
      "outputs": [
        {
          "output_type": "stream",
          "name": "stdout",
          "text": [
            "Tryng batch size=32.\n",
            "Model 0: working...\n",
            "Model 1: working...\n",
            "Model 2: working...\n",
            "Tryng batch size=64.\n",
            "Model 0: working...\n",
            "Model 1: working...\n",
            "Model 2: working...\n",
            "Tryng batch size=128.\n",
            "Model 0: working...\n",
            "Model 1: working...\n",
            "Model 2: working...\n",
            "Tryng batch size=256.\n",
            "Model 0: working...\n",
            "Model 1: working...\n",
            "Model 2: working...\n"
          ]
        }
      ],
      "source": [
        "model0.compile(loss=\"categorical_crossentropy\", optimizer=\"SGD\", metrics=[\"accuracy\"])\n",
        "model1.compile(loss=\"categorical_crossentropy\", optimizer=\"SGD\", metrics=[\"accuracy\"])\n",
        "model2.compile(loss=\"categorical_crossentropy\", optimizer=\"SGD\", metrics=[\"accuracy\"])\n",
        "\n",
        "batch_sizes = [32,64,128,256]\n",
        "batch_comp_tbl = pd.DataFrame(np.zeros((3, len(batch_sizes))), columns=batch_sizes, dtype = float)\n",
        "for b in batch_sizes:\n",
        "    print(f'Tryng batch size={b}.')\n",
        "    print(f'Model 0: working...')\n",
        "    batch_comp_tbl[b][i]=model0.fit(x_train, y_train, batch_size=b, epochs=epochs, validation_data=(x_test, y_test), verbose=0)\n",
        "    print(f'Model 1: working...')\n",
        "    batch_comp_tbl[b][i+1]=model1.fit(x_train, y_train, batch_size=b, epochs=epochs, validation_data=(x_test, y_test), verbose=0)\n",
        "    print(f'Model 2: working...')\n",
        "    batch_comp_tbl[b][i+2]=model2.fit(x_train, y_train, batch_size=b, epochs=epochs, validation_data=(x_test, y_test), verbose=0)\n",
        "    for j in range(3):\n",
        "      batch_comp_tbl[b][j] = batch_comp_tbl[b][j].history.get('val_accuracy')[-1]"
      ]
    },
    {
      "cell_type": "code",
      "source": [
        "print(\"Validation accuracy between several batch sizes\")\n",
        "print(batch_comp_tbl)"
      ],
      "metadata": {
        "colab": {
          "base_uri": "https://localhost:8080/"
        },
        "id": "NqeANcBYFmcm",
        "outputId": "3d876964-28fb-4453-8681-21406e4af1c1"
      },
      "execution_count": null,
      "outputs": [
        {
          "output_type": "stream",
          "name": "stdout",
          "text": [
            "Validation accuracy between several batch sizes\n",
            "      32      64      128     256\n",
            "0  0.9945  0.9945  0.9955  0.9953\n",
            "1  0.9939  0.9942  0.9945  0.9944\n",
            "2  0.9922  0.9929  0.9937  0.9936\n"
          ]
        }
      ]
    },
    {
      "cell_type": "markdown",
      "source": [
        "Best perfomance showed 128, 256, 256 batch size for model 0, 1, 2 correspondingly. Let's adjust learning rate."
      ],
      "metadata": {
        "id": "-ntN9BfCF2un"
      }
    },
    {
      "cell_type": "code",
      "source": [
        "custom_opt=tf.keras.optimizers.SGD(\n",
        "    learning_rate=0.01,\n",
        "    momentum=0.0,\n",
        "    nesterov=False\n",
        ")\n",
        "learning_rates = [0.05,0.01,0.005,0.001]\n",
        "lr_comp_tbl = pd.DataFrame(np.zeros((3, len(learning_rates))), columns=learning_rates, dtype = float)\n",
        "for lr in learning_rates:\n",
        "    print(f'Trying learning rate={lr}.')\n",
        "    custom_opt=tf.keras.optimizers.SGD(learning_rate=lr)\n",
        "    model0.compile(loss=\"categorical_crossentropy\", optimizer=custom_opt, metrics=[\"accuracy\"])\n",
        "    model1.compile(loss=\"categorical_crossentropy\", optimizer=custom_opt, metrics=[\"accuracy\"])\n",
        "    model2.compile(loss=\"categorical_crossentropy\", optimizer=custom_opt, metrics=[\"accuracy\"])\n",
        "    print(f'Model 0: working...')\n",
        "    lr_comp_tbl[lr][i]=model0.fit(x_train, y_train, batch_size=128, epochs=epochs, validation_data=(x_test, y_test), verbose=0)\n",
        "    print(f'Model 1: working...')\n",
        "    lr_comp_tbl[lr][i+1]=model1.fit(x_train, y_train, batch_size=256, epochs=epochs, validation_data=(x_test, y_test), verbose=0)\n",
        "    print(f'Model 2: working...')\n",
        "    lr_comp_tbl[lr][i+2]=model2.fit(x_train, y_train, batch_size=256, epochs=epochs, validation_data=(x_test, y_test), verbose=0)\n",
        "    for j in range(3):\n",
        "      lr_comp_tbl[lr][j] = lr_comp_tbl[lr][j].history.get('val_accuracy')[-1]"
      ],
      "metadata": {
        "colab": {
          "base_uri": "https://localhost:8080/"
        },
        "id": "cheBxyvRGWq1",
        "outputId": "a74f1536-0cf7-4c03-f4f7-7de7cb5d9fad"
      },
      "execution_count": null,
      "outputs": [
        {
          "output_type": "stream",
          "name": "stdout",
          "text": [
            "Trying learning rate=0.05.\n",
            "Model 0: working...\n",
            "Model 1: working...\n",
            "Model 2: working...\n",
            "Trying learning rate=0.01.\n",
            "Model 0: working...\n",
            "Model 1: working...\n",
            "Model 2: working...\n",
            "Trying learning rate=0.005.\n",
            "Model 0: working...\n",
            "Model 1: working...\n",
            "Model 2: working...\n",
            "Trying learning rate=0.001.\n",
            "Model 0: working...\n",
            "Model 1: working...\n",
            "Model 2: working...\n"
          ]
        }
      ]
    },
    {
      "cell_type": "code",
      "source": [
        "print(\"Validation accuracy between several learning rates:\")\n",
        "print(lr_comp_tbl)"
      ],
      "metadata": {
        "colab": {
          "base_uri": "https://localhost:8080/"
        },
        "id": "dI_QKe9nGWlN",
        "outputId": "9e526087-b099-4aa3-d754-5271bcfc4a49"
      },
      "execution_count": null,
      "outputs": [
        {
          "output_type": "stream",
          "name": "stdout",
          "text": [
            "Validation accuracy between several learning rates:\n",
            "    0.050   0.010   0.005   0.001\n",
            "0  0.9943   0.995  0.9948  0.9949\n",
            "1  0.9938  0.9943  0.9941  0.9945\n",
            "2  0.9933  0.9938  0.9939  0.9938\n"
          ]
        }
      ]
    },
    {
      "cell_type": "markdown",
      "source": [
        "So, I believe that 0.005 learning rate is showing best here, since there is no significant improvement lessen it."
      ],
      "metadata": {
        "id": "s84pq864r1bH"
      }
    },
    {
      "cell_type": "markdown",
      "source": [
        "Now, I can claim that following model will show best perfomance:\n",
        "\n",
        "Model with **ascending** numbers of filters in every consecutive layer.\n",
        "\n",
        "Optimizer: SGD\n",
        "\n",
        "Batch_size: 128\n",
        "\n",
        "Learning rate: 0.005\n",
        "\n",
        "Model with **descending** numbers of filters in every consecutive layer.\n",
        "\n",
        "Optimizer: SGD\n",
        "\n",
        "Batch_size: 256\n",
        "\n",
        "Learning rate: 0.005\n",
        "\n",
        "Model with **hour-glassed** numbers of filters.\n",
        "\n",
        "Optimizer: SGD\n",
        "\n",
        "Batch_size: 256\n",
        "\n",
        "Learning rate: 0.005\n"
      ],
      "metadata": {
        "id": "5nZ_hA9HsQLA"
      }
    },
    {
      "cell_type": "markdown",
      "source": [
        "I think we see such results, since first model have more parameters which are connceted with their \"neighboorhood\". In the second and third models with lower parameters numbers, their accuracy going down too relatively."
      ],
      "metadata": {
        "id": "lb2O-_qJ1qli"
      }
    },
    {
      "cell_type": "markdown",
      "source": [
        "------end of a first problem------"
      ],
      "metadata": {
        "id": "CCEvMkLF21on"
      }
    },
    {
      "cell_type": "markdown",
      "source": [
        "------start second problem------"
      ],
      "metadata": {
        "id": "WAdhigaPlz2t"
      }
    },
    {
      "cell_type": "code",
      "source": [
        "# Load the data and split it between train and test sets\n",
        "(x_train, y_train), (x_test, y_test) = tf.keras.datasets.cifar10.load_data()\n",
        "# Scale images to the [0, 1] range\n",
        "x_train, x_test = x_train / 255.0, x_test / 255.0\n",
        "\n",
        "# # Make sure images have shape (28, 28, 1)\n",
        "# x_train = np.expand_dims(x_train, -1)\n",
        "# x_test = np.expand_dims(x_test, -1)"
      ],
      "metadata": {
        "id": "6YCUyMcboWKF"
      },
      "execution_count": 13,
      "outputs": []
    },
    {
      "cell_type": "code",
      "source": [
        "y_train=tf.keras.utils.to_categorical(y_train,10)\n",
        "y_test=tf.keras.utils.to_categorical(y_test,10)"
      ],
      "metadata": {
        "id": "mYoXjPYlLmBq"
      },
      "execution_count": 20,
      "outputs": []
    },
    {
      "cell_type": "code",
      "source": [
        "x_train.shape"
      ],
      "metadata": {
        "id": "ryVaNPnRotDK",
        "outputId": "ce263364-447a-4bc0-d2c7-5cdab6528a16",
        "colab": {
          "base_uri": "https://localhost:8080/"
        }
      },
      "execution_count": 4,
      "outputs": [
        {
          "output_type": "execute_result",
          "data": {
            "text/plain": [
              "(50000, 32, 32, 3)"
            ]
          },
          "metadata": {},
          "execution_count": 4
        }
      ]
    },
    {
      "cell_type": "code",
      "source": [
        "input_shape = (32, 32, 3)"
      ],
      "metadata": {
        "id": "DbP1KRJemZCe"
      },
      "execution_count": 14,
      "outputs": []
    },
    {
      "cell_type": "markdown",
      "source": [
        "Let's engineer LeNet network as asked."
      ],
      "metadata": {
        "id": "yHc15ZSq338b"
      }
    },
    {
      "cell_type": "code",
      "source": [
        "model_lenet = keras.Sequential(\n",
        "    [\n",
        "        keras.Input(shape=input_shape),\n",
        "\n",
        "        layers.Conv2D(6, kernel_size=(5, 5), activation=\"relu\", padding='same', strides=1),\n",
        "        layers.MaxPooling2D(pool_size=(2, 2), strides = 2),  \n",
        "        layers.Conv2D(16, kernel_size=(5, 5), activation=\"relu\", padding='same', strides=1),\n",
        "        layers.MaxPooling2D(pool_size=(2, 2), strides = 2),\n",
        "        layers.Conv2D(120, kernel_size=(5, 5), activation=\"relu\", padding='same'),\n",
        "        layers.Flatten(),\n",
        "        layers.Dense(84, activation=\"relu\"),\n",
        "        layers.Dense(10, activation=\"softmax\"),\n",
        "    ]\n",
        ")\n",
        "\n",
        "model_lenet.summary()"
      ],
      "metadata": {
        "id": "6oGc7NelmKGe",
        "outputId": "04307426-6424-48a6-9af9-106c4a5246da",
        "colab": {
          "base_uri": "https://localhost:8080/"
        }
      },
      "execution_count": 19,
      "outputs": [
        {
          "output_type": "stream",
          "name": "stdout",
          "text": [
            "Model: \"sequential_3\"\n",
            "_________________________________________________________________\n",
            " Layer (type)                Output Shape              Param #   \n",
            "=================================================================\n",
            " conv2d_9 (Conv2D)           (None, 32, 32, 6)         456       \n",
            "                                                                 \n",
            " max_pooling2d_6 (MaxPooling  (None, 16, 16, 6)        0         \n",
            " 2D)                                                             \n",
            "                                                                 \n",
            " conv2d_10 (Conv2D)          (None, 16, 16, 16)        2416      \n",
            "                                                                 \n",
            " max_pooling2d_7 (MaxPooling  (None, 8, 8, 16)         0         \n",
            " 2D)                                                             \n",
            "                                                                 \n",
            " conv2d_11 (Conv2D)          (None, 8, 8, 120)         48120     \n",
            "                                                                 \n",
            " flatten_3 (Flatten)         (None, 7680)              0         \n",
            "                                                                 \n",
            " dense_6 (Dense)             (None, 84)                645204    \n",
            "                                                                 \n",
            " dense_7 (Dense)             (None, 10)                850       \n",
            "                                                                 \n",
            "=================================================================\n",
            "Total params: 697,046\n",
            "Trainable params: 697,046\n",
            "Non-trainable params: 0\n",
            "_________________________________________________________________\n"
          ]
        }
      ]
    },
    {
      "cell_type": "markdown",
      "source": [
        "**Answer to part 1:**\n",
        "Let's find out learning rate effect on the model."
      ],
      "metadata": {
        "id": "Lr4YjHgp4Ejv"
      }
    },
    {
      "cell_type": "code",
      "source": [
        "learning_rates = [0.1,0.05,0.01,0.005,0.001,0.0003]\n",
        "\n",
        "lr_comp_tbl = pd.DataFrame(np.zeros((1, len(learning_rates))), columns=learning_rates, dtype = float)\n",
        "for lr in learning_rates:\n",
        "    print(f'Trying learning rate={lr}.')\n",
        "    custom_opt=tf.keras.optimizers.Adam(learning_rate=lr)\n",
        "    model_lenet.compile(loss=\"binary_focal_crossentropy\", optimizer=\"Adam\", metrics=[\"accuracy\"])\n",
        "    lr_comp_tbl[lr][0]=model_lenet.fit(x_train, y_train, batch_size=128, epochs=25, validation_data=(x_test, y_test), verbose=0)\n",
        "    lr_comp_tbl[lr][0] = lr_comp_tbl[lr][0].history.get('val_accuracy')"
      ],
      "metadata": {
        "id": "PbmF-9_g4V3e",
        "outputId": "d43c5b63-f1ff-4107-d658-7ebf9d8688df",
        "colab": {
          "base_uri": "https://localhost:8080/"
        }
      },
      "execution_count": 29,
      "outputs": [
        {
          "output_type": "stream",
          "name": "stdout",
          "text": [
            "Trying learning rate=0.1.\n",
            "Trying learning rate=0.05.\n",
            "Trying learning rate=0.01.\n",
            "Trying learning rate=0.005.\n",
            "Trying learning rate=0.001.\n",
            "Trying learning rate=0.0003.\n"
          ]
        }
      ]
    },
    {
      "cell_type": "code",
      "source": [
        "print(\"Validation accuracy between several learning rates:\")\n",
        "for lr in learning_rates:\n",
        "  for i in range(25):  \n",
        "    print(lr_comp_tbl[lr][i])"
      ],
      "metadata": {
        "id": "8oJJzoUKt4eK"
      },
      "execution_count": null,
      "outputs": []
    },
    {
      "cell_type": "markdown",
      "source": [
        "**Answer to part 2:**\n",
        "Let's find out batch size effect on the model."
      ],
      "metadata": {
        "id": "BWORA0RE9wF8"
      }
    },
    {
      "cell_type": "code",
      "source": [
        "batch_sizes = [16,32,64,128,256]\n",
        "batch_comp_tbl = pd.DataFrame(np.zeros((1, len(batch_sizes))), columns=batch_sizes, dtype = float)\n",
        "for b in batch_sizes:\n",
        "    print(f'Trying batch size={b}.')\n",
        "    batch_comp_tbl[b][0]=model_lenet.fit(x_train, y_train, batch_size=b, epochs=128, validation_data=(x_test, y_test), verbose=0)\n",
        "    batch_comp_tbl[b][0] = batch_comp_tbl[b][0].history.get('val_accuracy')[-1]"
      ],
      "metadata": {
        "id": "7zlAs4tj5Val"
      },
      "execution_count": null,
      "outputs": []
    },
    {
      "cell_type": "markdown",
      "source": [
        "**Answer to part 3:**\n",
        "\n",
        "I will adjust beta_1 and beta_2 paramters, since others are fixed already."
      ],
      "metadata": {
        "id": "_Tmy5Ul798Cm"
      }
    },
    {
      "cell_type": "code",
      "source": [
        "custom_opt=tf.keras.optimizers.Adam(\n",
        "    learning_rate=0.001,\n",
        "    beta_1=0.9,\n",
        "    beta_2=0.999,\n",
        "    epsilon=1e-07\n",
        ")\n",
        "\n",
        "model_lenet.compile(loss=\"sparse_categorical_crossentropy\", optimizer=custom_opt, metrics=[\"accuracy\"])\n",
        "model_lenet.fit(x_train, y_train, batch_size=128, epochs=25, validation_data=(x_test, y_test), verbose=2)"
      ],
      "metadata": {
        "id": "agWh86NApGyw"
      },
      "execution_count": null,
      "outputs": []
    },
    {
      "cell_type": "markdown",
      "source": [
        "**Answer to part 4:**\n",
        "\n",
        "I will engineer feed forward model as following."
      ],
      "metadata": {
        "id": "2aldW90M-MOf"
      }
    },
    {
      "cell_type": "code",
      "source": [
        "model_ff = keras.Sequential(\n",
        "    [\n",
        "        keras.Input(shape=input_shape),\n",
        "        layers.Dense(6, activation=\"relu\"),\n",
        "        layers.Dense(16, activation=\"relu\"), \n",
        "        layers.Dense(120, activation=\"relu\"),\n",
        "        layers.Flatten(),\n",
        "        layers.Dense(84, activation=\"relu\"),\n",
        "        layers.Dense(10, activation=\"softmax\"),\n",
        "    ]\n",
        ")\n",
        "\n",
        "model_ff.summary()"
      ],
      "metadata": {
        "id": "WAe3pfPy2OYH"
      },
      "execution_count": null,
      "outputs": []
    },
    {
      "cell_type": "code",
      "source": [
        "custom_opt=tf.keras.optimizers.Adam(\n",
        "    learning_rate=0.001,\n",
        "    beta_1=0.9,\n",
        "    beta_2=0.999,\n",
        "    epsilon=1e-07\n",
        ")\n",
        "\n",
        "model_ff.compile(loss=\"sparse_categorical_crossentropy\", optimizer=custom_opt, metrics=[\"accuracy\"])\n",
        "model_ff.fit(x_train, y_train, batch_size=128, epochs=25, validation_data=(x_test, y_test), verbose=2)"
      ],
      "metadata": {
        "id": "W_9q3zTV3cB5"
      },
      "execution_count": null,
      "outputs": []
    },
    {
      "cell_type": "markdown",
      "source": [
        "**Answer to part 4a:**\n",
        "\n",
        "Its performance worse than the LeNet one, since it doesn't convolve any layer\n",
        "\n",
        "**Answer to part 4b:**\n",
        "\n",
        "Whereas this model has way more parameters, it doesn't benefit. "
      ],
      "metadata": {
        "id": "I5Y2PRpr-cmL"
      }
    },
    {
      "cell_type": "code",
      "source": [],
      "metadata": {
        "id": "Nnu9x9Uq3i_8"
      },
      "execution_count": null,
      "outputs": []
    },
    {
      "cell_type": "markdown",
      "source": [
        "-------start of Question 3-------\n",
        "\n",
        "\n",
        "Let's hardcode given matrices"
      ],
      "metadata": {
        "id": "eKvte9Vb3kqd"
      }
    },
    {
      "cell_type": "code",
      "source": [
        "# input\n",
        "X = np.array([[7,5,0,0,3,2],\n",
        "              [6,4,5,1,4,8],\n",
        "              [9,0,2,2,5,4],\n",
        "              [6,3,4,7,9,8],\n",
        "              [5,7,5,6,9,0],\n",
        "              [7,9,0,8,2,3]])\n",
        "# convolutional kernel\n",
        "f = np.array([[1,0,-1],\n",
        "              [2,0,-2],\n",
        "              [1,0,-1]])"
      ],
      "metadata": {
        "id": "nktNFx0f4Ast"
      },
      "execution_count": null,
      "outputs": []
    },
    {
      "cell_type": "markdown",
      "source": [
        "**Answer to part 1:**\n",
        "\n",
        "Dimensions of the input and the kernel are:"
      ],
      "metadata": {
        "id": "tGyOEEOZ3pDJ"
      }
    },
    {
      "cell_type": "code",
      "source": [
        "X.shape"
      ],
      "metadata": {
        "id": "0e_OUaqB5lKA"
      },
      "execution_count": null,
      "outputs": []
    },
    {
      "cell_type": "code",
      "source": [
        "f.shape"
      ],
      "metadata": {
        "id": "WsbfUmUG5sg1"
      },
      "execution_count": null,
      "outputs": []
    },
    {
      "cell_type": "markdown",
      "source": [
        "So, kernel have 3x3=9 parameters.\n",
        "\n",
        "\n",
        "**Answer to part 2:**\n",
        "\n",
        "Thus, activation map will have the following output:\n",
        "(6-3)/1+1=4 or 4x4\n"
      ],
      "metadata": {
        "id": "qEuU0SiT573Z"
      }
    },
    {
      "cell_type": "code",
      "source": [
        "#Assuming that stride = 1\n",
        "s = 1\n",
        "input_sz,_= X.shape\n",
        "kernel_sz,_ = f.shape\n",
        "\n",
        "# calculate output dimensions\n",
        "act_sz = int((input_sz - kernel_sz)/s)+1 \n",
        "# init activation map\n",
        "act = np.zeros((act_sz,act_sz)) \n",
        "\n",
        "# next loop working only with stride = 1\n",
        "i_o = 0\n",
        "for i in range(input_sz-kernel_sz+1):\n",
        "  j_o = 0\n",
        "  for j in range(input_sz-kernel_sz+1):\n",
        "    act[i_o, j_o] = np.sum(f * X[i:i+kernel_sz, j:j+kernel_sz])\n",
        "    j_o += 1\n",
        "  i_o += 1\n"
      ],
      "metadata": {
        "id": "dtEII2edovkn"
      },
      "execution_count": null,
      "outputs": []
    },
    {
      "cell_type": "markdown",
      "source": [
        "Now let's print out the result:"
      ],
      "metadata": {
        "id": "GZcZmt9ys-Gn"
      }
    },
    {
      "cell_type": "code",
      "source": [
        "print(act)"
      ],
      "metadata": {
        "id": "bieRziFitDlf"
      },
      "execution_count": null,
      "outputs": []
    },
    {
      "cell_type": "markdown",
      "source": [
        "**Answer to part 3:**\n",
        "\n",
        "I will use 2x2 max-pooling for my implementation"
      ],
      "metadata": {
        "id": "rJ7uPrEEvYFQ"
      }
    },
    {
      "cell_type": "code",
      "source": [
        "max_kernel_sz = 2\n",
        "out_sz = int((act_sz - max_kernel_sz)/s)+1 # calculate output dimensions\n",
        "out = np.zeros((out_sz,out_sz)) # init output layer\n",
        "\n",
        "# next loop working only with stride = 1\n",
        "i_o = 0\n",
        "for i in range(act_sz-max_kernel_sz+1):\n",
        "  j_o = 0\n",
        "  for j in range(act_sz-max_kernel_sz+1):\n",
        "    out[i_o, j_o] = np.max(act[i:i+max_kernel_sz, j:j+max_kernel_sz])\n",
        "    j_o += 1\n",
        "  i_o += 1\n"
      ],
      "metadata": {
        "id": "uYpss7M8vic3"
      },
      "execution_count": null,
      "outputs": []
    },
    {
      "cell_type": "code",
      "source": [
        "print(out)"
      ],
      "metadata": {
        "id": "KrWHmOSVwdQl"
      },
      "execution_count": null,
      "outputs": []
    }
  ],
  "metadata": {
    "colab": {
      "collapsed_sections": [],
      "name": "A03_task.ipynb",
      "provenance": [],
      "include_colab_link": true
    },
    "kernelspec": {
      "display_name": "Python 3 (ipykernel)",
      "language": "python",
      "name": "python3"
    },
    "language_info": {
      "codemirror_mode": {
        "name": "ipython",
        "version": 3
      },
      "file_extension": ".py",
      "mimetype": "text/x-python",
      "name": "python",
      "nbconvert_exporter": "python",
      "pygments_lexer": "ipython3",
      "version": "3.9.13"
    },
    "gpuClass": "standard",
    "accelerator": "GPU"
  },
  "nbformat": 4,
  "nbformat_minor": 0
}