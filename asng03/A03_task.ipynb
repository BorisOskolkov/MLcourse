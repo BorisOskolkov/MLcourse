{
 "cells": [
  {
   "cell_type": "markdown",
   "metadata": {
    "colab_type": "text",
    "id": "view-in-github"
   },
   "source": [
    "<a href=\"https://colab.research.google.com/github/BorisOskolkov/MLcourse/blob/main/asng03/A03_task.ipynb\" target=\"_parent\"><img src=\"https://colab.research.google.com/assets/colab-badge.svg\" alt=\"Open In Colab\"/></a>"
   ]
  },
  {
   "cell_type": "markdown",
   "metadata": {
    "id": "btdR6_VJxLlY"
   },
   "source": [
    "\n",
    "Made by Boris Oskolkov for Assignment03 (CS5783)"
   ]
  },
  {
   "cell_type": "code",
   "execution_count": 1,
   "metadata": {},
   "outputs": [],
   "source": [
    "import tensorflow as tf\n",
    "import numpy as np\n",
    "from tensorflow import keras\n",
    "from tensorflow.keras import optimizers\n",
    "from tensorflow.keras.datasets import mnist\n",
    "from tensorflow.keras import layers\n",
    "from sklearn.metrics import accuracy_score\n",
    "import matplotlib.pyplot as plt"
   ]
  },
  {
   "cell_type": "code",
   "execution_count": 2,
   "metadata": {},
   "outputs": [],
   "source": [
    "# Load the data and split it between train and test sets\n",
    "(x_train, y_train), (x_test, y_test) = mnist.load_data()\n",
    "# Scale images to the [0, 1] range\n",
    "x_train, x_test = x_train / 255.0, x_test / 255.0\n",
    "\n",
    "# Make sure images have shape (28, 28, 1)\n",
    "x_train = np.expand_dims(x_train, -1)\n",
    "x_test = np.expand_dims(x_test, -1)\n"
   ]
  },
  {
   "cell_type": "code",
   "execution_count": 3,
   "metadata": {},
   "outputs": [],
   "source": [
    "y_train=tf.keras.utils.to_categorical(y_train,10)\n",
    "y_test=tf.keras.utils.to_categorical(y_test,10)"
   ]
  },
  {
   "cell_type": "code",
   "execution_count": 4,
   "metadata": {},
   "outputs": [],
   "source": [
    "input_shape = (28, 28, 1)"
   ]
  },
  {
   "cell_type": "code",
   "execution_count": 5,
   "metadata": {},
   "outputs": [
    {
     "name": "stdout",
     "output_type": "stream",
     "text": [
      "Model: \"sequential\"\n",
      "_________________________________________________________________\n",
      " Layer (type)                Output Shape              Param #   \n",
      "=================================================================\n",
      " conv2d (Conv2D)             (None, 28, 28, 8)         80        \n",
      "                                                                 \n",
      " conv2d_1 (Conv2D)           (None, 28, 28, 16)        1168      \n",
      "                                                                 \n",
      " conv2d_2 (Conv2D)           (None, 28, 28, 32)        4640      \n",
      "                                                                 \n",
      " conv2d_3 (Conv2D)           (None, 28, 28, 48)        13872     \n",
      "                                                                 \n",
      " conv2d_4 (Conv2D)           (None, 28, 28, 64)        27712     \n",
      "                                                                 \n",
      " conv2d_5 (Conv2D)           (None, 28, 28, 80)        46160     \n",
      "                                                                 \n",
      " conv2d_6 (Conv2D)           (None, 28, 28, 96)        69216     \n",
      "                                                                 \n",
      " conv2d_7 (Conv2D)           (None, 28, 28, 112)       96880     \n",
      "                                                                 \n",
      " conv2d_8 (Conv2D)           (None, 28, 28, 128)       129152    \n",
      "                                                                 \n",
      " max_pooling2d (MaxPooling2D  (None, 14, 14, 128)      0         \n",
      " )                                                               \n",
      "                                                                 \n",
      " conv2d_9 (Conv2D)           (None, 14, 14, 144)       166032    \n",
      "                                                                 \n",
      " max_pooling2d_1 (MaxPooling  (None, 7, 7, 144)        0         \n",
      " 2D)                                                             \n",
      "                                                                 \n",
      " conv2d_10 (Conv2D)          (None, 7, 7, 160)         207520    \n",
      "                                                                 \n",
      " max_pooling2d_2 (MaxPooling  (None, 3, 3, 160)        0         \n",
      " 2D)                                                             \n",
      "                                                                 \n",
      " flatten (Flatten)           (None, 1440)              0         \n",
      "                                                                 \n",
      " dropout (Dropout)           (None, 1440)              0         \n",
      "                                                                 \n",
      " dense (Dense)               (None, 10)                14410     \n",
      "                                                                 \n",
      "=================================================================\n",
      "Total params: 776,842\n",
      "Trainable params: 776,842\n",
      "Non-trainable params: 0\n",
      "_________________________________________________________________\n"
     ]
    }
   ],
   "source": [
    "model1 = keras.Sequential(\n",
    "    [\n",
    "        keras.Input(shape=input_shape),\n",
    "\n",
    "        layers.Conv2D(8, kernel_size=(3, 3), activation=\"relu\", padding=\"same\", strides=1),\n",
    "        layers.Conv2D(16, kernel_size=(3, 3), activation=\"relu\", padding=\"same\", strides=1),\n",
    "        layers.Conv2D(32, kernel_size=(3, 3), activation=\"relu\", padding=\"same\", strides=1),\n",
    "        layers.Conv2D(48, kernel_size=(3, 3), activation=\"relu\", padding=\"same\", strides=1),\n",
    "        layers.Conv2D(64, kernel_size=(3, 3), activation=\"relu\", padding=\"same\", strides=1),\n",
    "        layers.Conv2D(80, kernel_size=(3, 3), activation=\"relu\", padding=\"same\", strides=1),\n",
    "        layers.Conv2D(96, kernel_size=(3, 3), activation=\"relu\", padding=\"same\", strides=1),\n",
    "        layers.Conv2D(112, kernel_size=(3, 3), activation=\"relu\", padding=\"same\", strides=1),\n",
    "        layers.Conv2D(128, kernel_size=(3, 3), activation=\"relu\", padding=\"same\", strides=1),\n",
    "        layers.MaxPooling2D(pool_size=(2, 2)),\n",
    "        layers.Conv2D(144, kernel_size=(3, 3), activation=\"relu\", padding=\"same\", strides=1),\n",
    "        layers.MaxPooling2D(pool_size=(2, 2)),\n",
    "        layers.Conv2D(160, kernel_size=(3, 3), activation=\"relu\", padding=\"same\", strides=1),\n",
    "        layers.MaxPooling2D(pool_size=(2, 2)),\n",
    "        \n",
    "        \n",
    "        layers.Flatten(),\n",
    "        layers.Dropout(0.5),\n",
    "        layers.Dense(10, activation=\"softmax\"),\n",
    "    ]\n",
    ")\n",
    "\n",
    "model1.summary()"
   ]
  },
  {
   "cell_type": "code",
   "execution_count": 6,
   "metadata": {},
   "outputs": [
    {
     "name": "stdout",
     "output_type": "stream",
     "text": [
      "Model: \"sequential_1\"\n",
      "_________________________________________________________________\n",
      " Layer (type)                Output Shape              Param #   \n",
      "=================================================================\n",
      " conv2d_11 (Conv2D)          (None, 28, 28, 160)       1600      \n",
      "                                                                 \n",
      " conv2d_12 (Conv2D)          (None, 28, 28, 144)       207504    \n",
      "                                                                 \n",
      " conv2d_13 (Conv2D)          (None, 28, 28, 128)       166016    \n",
      "                                                                 \n",
      " conv2d_14 (Conv2D)          (None, 28, 28, 112)       129136    \n",
      "                                                                 \n",
      " conv2d_15 (Conv2D)          (None, 28, 28, 96)        96864     \n",
      "                                                                 \n",
      " conv2d_16 (Conv2D)          (None, 28, 28, 80)        69200     \n",
      "                                                                 \n",
      " conv2d_17 (Conv2D)          (None, 28, 28, 64)        46144     \n",
      "                                                                 \n",
      " conv2d_18 (Conv2D)          (None, 28, 28, 48)        27696     \n",
      "                                                                 \n",
      " conv2d_19 (Conv2D)          (None, 28, 28, 32)        13856     \n",
      "                                                                 \n",
      " max_pooling2d_3 (MaxPooling  (None, 14, 14, 32)       0         \n",
      " 2D)                                                             \n",
      "                                                                 \n",
      " conv2d_20 (Conv2D)          (None, 14, 14, 16)        4624      \n",
      "                                                                 \n",
      " max_pooling2d_4 (MaxPooling  (None, 7, 7, 16)         0         \n",
      " 2D)                                                             \n",
      "                                                                 \n",
      " conv2d_21 (Conv2D)          (None, 7, 7, 8)           1160      \n",
      "                                                                 \n",
      " max_pooling2d_5 (MaxPooling  (None, 3, 3, 8)          0         \n",
      " 2D)                                                             \n",
      "                                                                 \n",
      " flatten_1 (Flatten)         (None, 72)                0         \n",
      "                                                                 \n",
      " dropout_1 (Dropout)         (None, 72)                0         \n",
      "                                                                 \n",
      " dense_1 (Dense)             (None, 10)                730       \n",
      "                                                                 \n",
      "=================================================================\n",
      "Total params: 764,530\n",
      "Trainable params: 764,530\n",
      "Non-trainable params: 0\n",
      "_________________________________________________________________\n"
     ]
    }
   ],
   "source": [
    "model2 = keras.Sequential(\n",
    "    [\n",
    "        keras.Input(shape=input_shape),\n",
    "\n",
    "        layers.Conv2D(160, kernel_size=(3, 3), activation=\"relu\", padding=\"same\", strides=1),\n",
    "        layers.Conv2D(144, kernel_size=(3, 3), activation=\"relu\", padding=\"same\", strides=1),\n",
    "        layers.Conv2D(128, kernel_size=(3, 3), activation=\"relu\", padding=\"same\", strides=1),\n",
    "        layers.Conv2D(112, kernel_size=(3, 3), activation=\"relu\", padding=\"same\", strides=1),\n",
    "        layers.Conv2D(96, kernel_size=(3, 3), activation=\"relu\", padding=\"same\", strides=1),\n",
    "        layers.Conv2D(80, kernel_size=(3, 3), activation=\"relu\", padding=\"same\", strides=1),\n",
    "        layers.Conv2D(64, kernel_size=(3, 3), activation=\"relu\", padding=\"same\", strides=1),\n",
    "        layers.Conv2D(48, kernel_size=(3, 3), activation=\"relu\", padding=\"same\", strides=1),\n",
    "        layers.Conv2D(32, kernel_size=(3, 3), activation=\"relu\", padding=\"same\", strides=1),\n",
    "        layers.MaxPooling2D(pool_size=(2, 2)),\n",
    "        layers.Conv2D(16, kernel_size=(3, 3), activation=\"relu\", padding=\"same\", strides=1),\n",
    "        layers.MaxPooling2D(pool_size=(2, 2)),\n",
    "        layers.Conv2D(8, kernel_size=(3, 3), activation=\"relu\", padding=\"same\", strides=1),\n",
    "        layers.MaxPooling2D(pool_size=(2, 2)),\n",
    "        \n",
    "        \n",
    "        layers.Flatten(),\n",
    "        layers.Dropout(0.5),\n",
    "        layers.Dense(10, activation=\"softmax\"),\n",
    "    ]\n",
    ")\n",
    "\n",
    "model2.summary()"
   ]
  },
  {
   "cell_type": "code",
   "execution_count": 10,
   "metadata": {},
   "outputs": [
    {
     "name": "stdout",
     "output_type": "stream",
     "text": [
      "Model: \"sequential_5\"\n",
      "_________________________________________________________________\n",
      " Layer (type)                Output Shape              Param #   \n",
      "=================================================================\n",
      " conv2d_58 (Conv2D)          (None, 28, 28, 8)         80        \n",
      "                                                                 \n",
      " conv2d_59 (Conv2D)          (None, 28, 28, 16)        1168      \n",
      "                                                                 \n",
      " conv2d_60 (Conv2D)          (None, 28, 28, 32)        4640      \n",
      "                                                                 \n",
      " conv2d_61 (Conv2D)          (None, 28, 28, 48)        13872     \n",
      "                                                                 \n",
      " conv2d_62 (Conv2D)          (None, 28, 28, 64)        27712     \n",
      "                                                                 \n",
      " conv2d_63 (Conv2D)          (None, 28, 28, 80)        46160     \n",
      "                                                                 \n",
      " conv2d_64 (Conv2D)          (None, 28, 28, 128)       92288     \n",
      "                                                                 \n",
      " conv2d_65 (Conv2D)          (None, 28, 28, 80)        92240     \n",
      "                                                                 \n",
      " conv2d_66 (Conv2D)          (None, 28, 28, 64)        46144     \n",
      "                                                                 \n",
      " conv2d_67 (Conv2D)          (None, 28, 28, 48)        27696     \n",
      "                                                                 \n",
      " conv2d_68 (Conv2D)          (None, 28, 28, 32)        13856     \n",
      "                                                                 \n",
      " max_pooling2d_24 (MaxPoolin  (None, 14, 14, 32)       0         \n",
      " g2D)                                                            \n",
      "                                                                 \n",
      " conv2d_69 (Conv2D)          (None, 14, 14, 16)        4624      \n",
      "                                                                 \n",
      " max_pooling2d_25 (MaxPoolin  (None, 7, 7, 16)         0         \n",
      " g2D)                                                            \n",
      "                                                                 \n",
      " conv2d_70 (Conv2D)          (None, 7, 7, 8)           1160      \n",
      "                                                                 \n",
      " max_pooling2d_26 (MaxPoolin  (None, 3, 3, 8)          0         \n",
      " g2D)                                                            \n",
      "                                                                 \n",
      " flatten_5 (Flatten)         (None, 72)                0         \n",
      "                                                                 \n",
      " dropout_5 (Dropout)         (None, 72)                0         \n",
      "                                                                 \n",
      " dense_5 (Dense)             (None, 10)                730       \n",
      "                                                                 \n",
      "=================================================================\n",
      "Total params: 372,370\n",
      "Trainable params: 372,370\n",
      "Non-trainable params: 0\n",
      "_________________________________________________________________\n"
     ]
    }
   ],
   "source": [
    "model3 = keras.Sequential(\n",
    "    [\n",
    "        keras.Input(shape=input_shape),\n",
    "        layers.Conv2D(8, kernel_size=(3, 3), activation=\"relu\", padding=\"same\", strides=1),\n",
    "        layers.Conv2D(16, kernel_size=(3, 3), activation=\"relu\", padding=\"same\", strides=1),\n",
    "        layers.Conv2D(32, kernel_size=(3, 3), activation=\"relu\", padding=\"same\", strides=1),\n",
    "        layers.Conv2D(48, kernel_size=(3, 3), activation=\"relu\", padding=\"same\", strides=1),\n",
    "        layers.Conv2D(64, kernel_size=(3, 3), activation=\"relu\", padding=\"same\", strides=1),\n",
    "        layers.Conv2D(80, kernel_size=(3, 3), activation=\"relu\", padding=\"same\", strides=1),\n",
    "        layers.Conv2D(128, kernel_size=(3, 3), activation=\"relu\", padding=\"same\", strides=1),\n",
    "        layers.Conv2D(80, kernel_size=(3, 3), activation=\"relu\", padding=\"same\", strides=1),\n",
    "        layers.Conv2D(64, kernel_size=(3, 3), activation=\"relu\", padding=\"same\", strides=1),\n",
    "        layers.Conv2D(48, kernel_size=(3, 3), activation=\"relu\", padding=\"same\", strides=1),\n",
    "        layers.Conv2D(32, kernel_size=(3, 3), activation=\"relu\", padding=\"same\", strides=1),\n",
    "        layers.MaxPooling2D(pool_size=(2, 2)),\n",
    "        layers.Conv2D(16, kernel_size=(3, 3), activation=\"relu\", padding=\"same\", strides=1),\n",
    "        layers.MaxPooling2D(pool_size=(2, 2)),\n",
    "        layers.Conv2D(8, kernel_size=(3, 3), activation=\"relu\", padding=\"same\", strides=1),\n",
    "        layers.MaxPooling2D(pool_size=(2, 2)),\n",
    "        \n",
    "        \n",
    "        layers.Flatten(),\n",
    "        layers.Dropout(0.5),\n",
    "        layers.Dense(10, activation=\"softmax\"),\n",
    "    ]\n",
    ")\n",
    "\n",
    "model3.summary()"
   ]
  },
  {
   "cell_type": "code",
   "execution_count": 1,
   "metadata": {
    "scrolled": true
   },
   "outputs": [
    {
     "ename": "SyntaxError",
     "evalue": "invalid syntax (871076491.py, line 3)",
     "output_type": "error",
     "traceback": [
      "\u001b[1;36m  Input \u001b[1;32mIn [1]\u001b[1;36m\u001b[0m\n\u001b[1;33m    fit_settings=(x_train, y_train, batch_size=batch_size, epochs=epochs, validation_data=(x_test, y_test))\u001b[0m\n\u001b[1;37m                                              ^\u001b[0m\n\u001b[1;31mSyntaxError\u001b[0m\u001b[1;31m:\u001b[0m invalid syntax\n"
     ]
    }
   ],
   "source": [
    "batch_size = 56\n",
    "epochs = 2\n",
    "\n",
    "model1.compile(loss=\"categorical_crossentropy\", optimizer=\"adam\", metrics=[\"accuracy\"])\n",
    "model2.compile(loss=\"categorical_crossentropy\", optimizer=\"adam\", metrics=[\"accuracy\"])\n",
    "model3.compile(loss=\"categorical_crossentropy\", optimizer=\"adam\", metrics=[\"accuracy\"])\n",
    "model1.fit(x_train, y_train, batch_size=batch_size, epochs=epochs, validation_data=(x_test, y_test))\n",
    "model2.fit(x_train, y_train, batch_size=batch_size, epochs=epochs, validation_data=(x_test, y_test))\n",
    "model3.fit(x_train, y_train, batch_size=batch_size, epochs=epochs, validation_data=(x_test, y_test))"
   ]
  },
  {
   "cell_type": "code",
   "execution_count": null,
   "metadata": {},
   "outputs": [],
   "source": []
  }
 ],
 "metadata": {
  "colab": {
   "collapsed_sections": [],
   "include_colab_link": true,
   "name": "A03_task.ipynb",
   "provenance": []
  },
  "kernelspec": {
   "display_name": "Python 3 (ipykernel)",
   "language": "python",
   "name": "python3"
  },
  "language_info": {
   "codemirror_mode": {
    "name": "ipython",
    "version": 3
   },
   "file_extension": ".py",
   "mimetype": "text/x-python",
   "name": "python",
   "nbconvert_exporter": "python",
   "pygments_lexer": "ipython3",
   "version": "3.9.12"
  }
 },
 "nbformat": 4,
 "nbformat_minor": 1
}
