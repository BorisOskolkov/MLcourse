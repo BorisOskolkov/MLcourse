{
  "cells": [
    {
      "cell_type": "markdown",
      "metadata": {
        "id": "view-in-github",
        "colab_type": "text"
      },
      "source": [
        "<a href=\"https://colab.research.google.com/github/BorisOskolkov/MLcourse/blob/main/asng03/A03_task.ipynb\" target=\"_parent\"><img src=\"https://colab.research.google.com/assets/colab-badge.svg\" alt=\"Open In Colab\"/></a>"
      ]
    },
    {
      "cell_type": "markdown",
      "metadata": {
        "id": "btdR6_VJxLlY"
      },
      "source": [
        "\n",
        "Made by Boris Oskolkov for Assignment03 (CS5783)"
      ]
    },
    {
      "cell_type": "code",
      "execution_count": 3,
      "metadata": {
        "id": "U5bDAG8aMS6s"
      },
      "outputs": [],
      "source": [
        "import tensorflow as tf\n",
        "import numpy as np\n",
        "from tensorflow import keras\n",
        "from tensorflow.keras import optimizers\n",
        "from tensorflow.keras.datasets import mnist\n",
        "from tensorflow.keras import layers\n",
        "from sklearn.metrics import accuracy_score\n",
        "import matplotlib.pyplot as plt"
      ]
    },
    {
      "cell_type": "code",
      "execution_count": null,
      "metadata": {
        "id": "IoKQTDXmMS6u"
      },
      "outputs": [],
      "source": [
        "# Load the data and split it between train and test sets\n",
        "(x_train, y_train), (x_test, y_test) = mnist.load_data()\n",
        "# Scale images to the [0, 1] range\n",
        "x_train, x_test = x_train / 255.0, x_test / 255.0\n",
        "\n",
        "# Make sure images have shape (28, 28, 1)\n",
        "x_train = np.expand_dims(x_train, -1)\n",
        "x_test = np.expand_dims(x_test, -1)\n"
      ]
    },
    {
      "cell_type": "code",
      "execution_count": null,
      "metadata": {
        "id": "VnvUc_ijMS6v"
      },
      "outputs": [],
      "source": [
        "y_train=tf.keras.utils.to_categorical(y_train,10)\n",
        "y_test=tf.keras.utils.to_categorical(y_test,10)"
      ]
    },
    {
      "cell_type": "code",
      "execution_count": null,
      "metadata": {
        "id": "tkUT9W5wMS6v"
      },
      "outputs": [],
      "source": [
        "input_shape = (28, 28, 1)"
      ]
    },
    {
      "cell_type": "code",
      "execution_count": null,
      "metadata": {
        "colab": {
          "base_uri": "https://localhost:8080/"
        },
        "id": "nAJF5VvqMS6v",
        "outputId": "6df9cf23-8653-4d1b-9384-fc8d53bf78ad"
      },
      "outputs": [
        {
          "output_type": "stream",
          "name": "stdout",
          "text": [
            "Model: \"sequential\"\n",
            "_________________________________________________________________\n",
            " Layer (type)                Output Shape              Param #   \n",
            "=================================================================\n",
            " conv2d (Conv2D)             (None, 28, 28, 8)         80        \n",
            "                                                                 \n",
            " conv2d_1 (Conv2D)           (None, 28, 28, 16)        1168      \n",
            "                                                                 \n",
            " conv2d_2 (Conv2D)           (None, 28, 28, 32)        4640      \n",
            "                                                                 \n",
            " conv2d_3 (Conv2D)           (None, 28, 28, 48)        13872     \n",
            "                                                                 \n",
            " conv2d_4 (Conv2D)           (None, 28, 28, 64)        27712     \n",
            "                                                                 \n",
            " conv2d_5 (Conv2D)           (None, 28, 28, 80)        46160     \n",
            "                                                                 \n",
            " conv2d_6 (Conv2D)           (None, 28, 28, 96)        69216     \n",
            "                                                                 \n",
            " conv2d_7 (Conv2D)           (None, 28, 28, 112)       96880     \n",
            "                                                                 \n",
            " conv2d_8 (Conv2D)           (None, 28, 28, 128)       129152    \n",
            "                                                                 \n",
            " max_pooling2d (MaxPooling2D  (None, 14, 14, 128)      0         \n",
            " )                                                               \n",
            "                                                                 \n",
            " conv2d_9 (Conv2D)           (None, 14, 14, 144)       166032    \n",
            "                                                                 \n",
            " max_pooling2d_1 (MaxPooling  (None, 7, 7, 144)        0         \n",
            " 2D)                                                             \n",
            "                                                                 \n",
            " conv2d_10 (Conv2D)          (None, 7, 7, 160)         207520    \n",
            "                                                                 \n",
            " max_pooling2d_2 (MaxPooling  (None, 3, 3, 160)        0         \n",
            " 2D)                                                             \n",
            "                                                                 \n",
            " flatten (Flatten)           (None, 1440)              0         \n",
            "                                                                 \n",
            " dropout (Dropout)           (None, 1440)              0         \n",
            "                                                                 \n",
            " dense (Dense)               (None, 10)                14410     \n",
            "                                                                 \n",
            "=================================================================\n",
            "Total params: 776,842\n",
            "Trainable params: 776,842\n",
            "Non-trainable params: 0\n",
            "_________________________________________________________________\n"
          ]
        }
      ],
      "source": [
        "model1 = keras.Sequential(\n",
        "    [\n",
        "        keras.Input(shape=input_shape),\n",
        "\n",
        "        layers.Conv2D(8, kernel_size=(3, 3), activation=\"relu\", padding=\"same\", strides=1),\n",
        "        layers.Conv2D(16, kernel_size=(3, 3), activation=\"relu\", padding=\"same\", strides=1),\n",
        "        layers.Conv2D(32, kernel_size=(3, 3), activation=\"relu\", padding=\"same\", strides=1),\n",
        "        layers.Conv2D(48, kernel_size=(3, 3), activation=\"relu\", padding=\"same\", strides=1),\n",
        "        layers.Conv2D(64, kernel_size=(3, 3), activation=\"relu\", padding=\"same\", strides=1),\n",
        "        layers.Conv2D(80, kernel_size=(3, 3), activation=\"relu\", padding=\"same\", strides=1),\n",
        "        layers.Conv2D(96, kernel_size=(3, 3), activation=\"relu\", padding=\"same\", strides=1),\n",
        "        layers.Conv2D(112, kernel_size=(3, 3), activation=\"relu\", padding=\"same\", strides=1),\n",
        "        layers.Conv2D(128, kernel_size=(3, 3), activation=\"relu\", padding=\"same\", strides=1),\n",
        "        layers.MaxPooling2D(pool_size=(2, 2)),\n",
        "        layers.Conv2D(144, kernel_size=(3, 3), activation=\"relu\", padding=\"same\", strides=1),\n",
        "        layers.MaxPooling2D(pool_size=(2, 2)),\n",
        "        layers.Conv2D(160, kernel_size=(3, 3), activation=\"relu\", padding=\"same\", strides=1),\n",
        "        layers.MaxPooling2D(pool_size=(2, 2)),\n",
        "        \n",
        "        \n",
        "        layers.Flatten(),\n",
        "        layers.Dropout(0.5),\n",
        "        layers.Dense(10, activation=\"softmax\"),\n",
        "    ]\n",
        ")\n",
        "\n",
        "model1.summary()"
      ]
    },
    {
      "cell_type": "code",
      "execution_count": null,
      "metadata": {
        "colab": {
          "base_uri": "https://localhost:8080/"
        },
        "id": "zTujBiSuMS6w",
        "outputId": "d92be3ba-785d-4e62-8d73-efffcc395231"
      },
      "outputs": [
        {
          "output_type": "stream",
          "name": "stdout",
          "text": [
            "Model: \"sequential_1\"\n",
            "_________________________________________________________________\n",
            " Layer (type)                Output Shape              Param #   \n",
            "=================================================================\n",
            " conv2d_11 (Conv2D)          (None, 28, 28, 160)       1600      \n",
            "                                                                 \n",
            " conv2d_12 (Conv2D)          (None, 28, 28, 144)       207504    \n",
            "                                                                 \n",
            " conv2d_13 (Conv2D)          (None, 28, 28, 128)       166016    \n",
            "                                                                 \n",
            " conv2d_14 (Conv2D)          (None, 28, 28, 112)       129136    \n",
            "                                                                 \n",
            " conv2d_15 (Conv2D)          (None, 28, 28, 96)        96864     \n",
            "                                                                 \n",
            " conv2d_16 (Conv2D)          (None, 28, 28, 80)        69200     \n",
            "                                                                 \n",
            " conv2d_17 (Conv2D)          (None, 28, 28, 64)        46144     \n",
            "                                                                 \n",
            " conv2d_18 (Conv2D)          (None, 28, 28, 48)        27696     \n",
            "                                                                 \n",
            " conv2d_19 (Conv2D)          (None, 28, 28, 32)        13856     \n",
            "                                                                 \n",
            " max_pooling2d_3 (MaxPooling  (None, 14, 14, 32)       0         \n",
            " 2D)                                                             \n",
            "                                                                 \n",
            " conv2d_20 (Conv2D)          (None, 14, 14, 16)        4624      \n",
            "                                                                 \n",
            " max_pooling2d_4 (MaxPooling  (None, 7, 7, 16)         0         \n",
            " 2D)                                                             \n",
            "                                                                 \n",
            " conv2d_21 (Conv2D)          (None, 7, 7, 8)           1160      \n",
            "                                                                 \n",
            " max_pooling2d_5 (MaxPooling  (None, 3, 3, 8)          0         \n",
            " 2D)                                                             \n",
            "                                                                 \n",
            " flatten_1 (Flatten)         (None, 72)                0         \n",
            "                                                                 \n",
            " dropout_1 (Dropout)         (None, 72)                0         \n",
            "                                                                 \n",
            " dense_1 (Dense)             (None, 10)                730       \n",
            "                                                                 \n",
            "=================================================================\n",
            "Total params: 764,530\n",
            "Trainable params: 764,530\n",
            "Non-trainable params: 0\n",
            "_________________________________________________________________\n"
          ]
        }
      ],
      "source": [
        "model2 = keras.Sequential(\n",
        "    [\n",
        "        keras.Input(shape=input_shape),\n",
        "\n",
        "        layers.Conv2D(160, kernel_size=(3, 3), activation=\"relu\", padding=\"same\", strides=1),\n",
        "        layers.Conv2D(144, kernel_size=(3, 3), activation=\"relu\", padding=\"same\", strides=1),\n",
        "        layers.Conv2D(128, kernel_size=(3, 3), activation=\"relu\", padding=\"same\", strides=1),\n",
        "        layers.Conv2D(112, kernel_size=(3, 3), activation=\"relu\", padding=\"same\", strides=1),\n",
        "        layers.Conv2D(96, kernel_size=(3, 3), activation=\"relu\", padding=\"same\", strides=1),\n",
        "        layers.Conv2D(80, kernel_size=(3, 3), activation=\"relu\", padding=\"same\", strides=1),\n",
        "        layers.Conv2D(64, kernel_size=(3, 3), activation=\"relu\", padding=\"same\", strides=1),\n",
        "        layers.Conv2D(48, kernel_size=(3, 3), activation=\"relu\", padding=\"same\", strides=1),\n",
        "        layers.Conv2D(32, kernel_size=(3, 3), activation=\"relu\", padding=\"same\", strides=1),\n",
        "        layers.MaxPooling2D(pool_size=(2, 2)),\n",
        "        layers.Conv2D(16, kernel_size=(3, 3), activation=\"relu\", padding=\"same\", strides=1),\n",
        "        layers.MaxPooling2D(pool_size=(2, 2)),\n",
        "        layers.Conv2D(8, kernel_size=(3, 3), activation=\"relu\", padding=\"same\", strides=1),\n",
        "        layers.MaxPooling2D(pool_size=(2, 2)),\n",
        "        \n",
        "        \n",
        "        layers.Flatten(),\n",
        "        layers.Dropout(0.5),\n",
        "        layers.Dense(10, activation=\"softmax\"),\n",
        "    ]\n",
        ")\n",
        "\n",
        "model2.summary()"
      ]
    },
    {
      "cell_type": "code",
      "execution_count": null,
      "metadata": {
        "colab": {
          "base_uri": "https://localhost:8080/"
        },
        "id": "pbXsxtCgMS6x",
        "outputId": "18d32510-fea0-44a4-e247-e47bb5e58745"
      },
      "outputs": [
        {
          "output_type": "stream",
          "name": "stdout",
          "text": [
            "Model: \"sequential_2\"\n",
            "_________________________________________________________________\n",
            " Layer (type)                Output Shape              Param #   \n",
            "=================================================================\n",
            " conv2d_22 (Conv2D)          (None, 28, 28, 8)         80        \n",
            "                                                                 \n",
            " conv2d_23 (Conv2D)          (None, 28, 28, 16)        1168      \n",
            "                                                                 \n",
            " conv2d_24 (Conv2D)          (None, 28, 28, 32)        4640      \n",
            "                                                                 \n",
            " conv2d_25 (Conv2D)          (None, 28, 28, 48)        13872     \n",
            "                                                                 \n",
            " conv2d_26 (Conv2D)          (None, 28, 28, 64)        27712     \n",
            "                                                                 \n",
            " conv2d_27 (Conv2D)          (None, 28, 28, 80)        46160     \n",
            "                                                                 \n",
            " conv2d_28 (Conv2D)          (None, 28, 28, 128)       92288     \n",
            "                                                                 \n",
            " conv2d_29 (Conv2D)          (None, 28, 28, 80)        92240     \n",
            "                                                                 \n",
            " conv2d_30 (Conv2D)          (None, 28, 28, 64)        46144     \n",
            "                                                                 \n",
            " conv2d_31 (Conv2D)          (None, 28, 28, 48)        27696     \n",
            "                                                                 \n",
            " conv2d_32 (Conv2D)          (None, 28, 28, 32)        13856     \n",
            "                                                                 \n",
            " max_pooling2d_6 (MaxPooling  (None, 14, 14, 32)       0         \n",
            " 2D)                                                             \n",
            "                                                                 \n",
            " conv2d_33 (Conv2D)          (None, 14, 14, 16)        4624      \n",
            "                                                                 \n",
            " max_pooling2d_7 (MaxPooling  (None, 7, 7, 16)         0         \n",
            " 2D)                                                             \n",
            "                                                                 \n",
            " conv2d_34 (Conv2D)          (None, 7, 7, 8)           1160      \n",
            "                                                                 \n",
            " max_pooling2d_8 (MaxPooling  (None, 3, 3, 8)          0         \n",
            " 2D)                                                             \n",
            "                                                                 \n",
            " flatten_2 (Flatten)         (None, 72)                0         \n",
            "                                                                 \n",
            " dropout_2 (Dropout)         (None, 72)                0         \n",
            "                                                                 \n",
            " dense_2 (Dense)             (None, 10)                730       \n",
            "                                                                 \n",
            "=================================================================\n",
            "Total params: 372,370\n",
            "Trainable params: 372,370\n",
            "Non-trainable params: 0\n",
            "_________________________________________________________________\n"
          ]
        }
      ],
      "source": [
        "model3 = keras.Sequential(\n",
        "    [\n",
        "        keras.Input(shape=input_shape),\n",
        "        layers.Conv2D(8, kernel_size=(3, 3), activation=\"relu\", padding=\"same\", strides=1),\n",
        "        layers.Conv2D(16, kernel_size=(3, 3), activation=\"relu\", padding=\"same\", strides=1),\n",
        "        layers.Conv2D(32, kernel_size=(3, 3), activation=\"relu\", padding=\"same\", strides=1),\n",
        "        layers.Conv2D(48, kernel_size=(3, 3), activation=\"relu\", padding=\"same\", strides=1),\n",
        "        layers.Conv2D(64, kernel_size=(3, 3), activation=\"relu\", padding=\"same\", strides=1),\n",
        "        layers.Conv2D(80, kernel_size=(3, 3), activation=\"relu\", padding=\"same\", strides=1),\n",
        "        layers.Conv2D(128, kernel_size=(3, 3), activation=\"relu\", padding=\"same\", strides=1),\n",
        "        layers.Conv2D(80, kernel_size=(3, 3), activation=\"relu\", padding=\"same\", strides=1),\n",
        "        layers.Conv2D(64, kernel_size=(3, 3), activation=\"relu\", padding=\"same\", strides=1),\n",
        "        layers.Conv2D(48, kernel_size=(3, 3), activation=\"relu\", padding=\"same\", strides=1),\n",
        "        layers.Conv2D(32, kernel_size=(3, 3), activation=\"relu\", padding=\"same\", strides=1),\n",
        "        layers.MaxPooling2D(pool_size=(2, 2)),\n",
        "        layers.Conv2D(16, kernel_size=(3, 3), activation=\"relu\", padding=\"same\", strides=1),\n",
        "        layers.MaxPooling2D(pool_size=(2, 2)),\n",
        "        layers.Conv2D(8, kernel_size=(3, 3), activation=\"relu\", padding=\"same\", strides=1),\n",
        "        layers.MaxPooling2D(pool_size=(2, 2)),\n",
        "        \n",
        "        \n",
        "        layers.Flatten(),\n",
        "        layers.Dropout(0.5),\n",
        "        layers.Dense(10, activation=\"softmax\"),\n",
        "    ]\n",
        ")\n",
        "\n",
        "model3.summary()"
      ]
    },
    {
      "cell_type": "code",
      "execution_count": null,
      "metadata": {
        "scrolled": false,
        "colab": {
          "base_uri": "https://localhost:8080/"
        },
        "id": "bBWGjfkqMS6y",
        "outputId": "ea7ec8c3-a2f3-4ba0-acab-ebb85b9cc5be"
      },
      "outputs": [
        {
          "output_type": "stream",
          "name": "stdout",
          "text": [
            "Tryng adam optimizier\n",
            "Model 1:\n",
            "Epoch 1/2\n",
            "1072/1072 [==============================] - 46s 33ms/step - loss: 0.1791 - accuracy: 0.9439 - val_loss: 0.0440 - val_accuracy: 0.9885\n",
            "Epoch 2/2\n",
            "1072/1072 [==============================] - 35s 33ms/step - loss: 0.0584 - accuracy: 0.9821 - val_loss: 0.0326 - val_accuracy: 0.9886\n",
            "Model 2:\n",
            "Epoch 1/2\n",
            "1072/1072 [==============================] - 51s 46ms/step - loss: 0.5742 - accuracy: 0.8164 - val_loss: 0.0947 - val_accuracy: 0.9713\n",
            "Epoch 2/2\n",
            "1072/1072 [==============================] - 48s 45ms/step - loss: 0.2049 - accuracy: 0.9413 - val_loss: 0.0664 - val_accuracy: 0.9792\n",
            "Model 3:\n",
            "Epoch 1/2\n",
            "1072/1072 [==============================] - 36s 32ms/step - loss: 0.5831 - accuracy: 0.8138 - val_loss: 0.0758 - val_accuracy: 0.9763\n",
            "Epoch 2/2\n",
            "1072/1072 [==============================] - 33s 31ms/step - loss: 0.1962 - accuracy: 0.9448 - val_loss: 0.0514 - val_accuracy: 0.9840\n",
            "Tryng SGD optimizier\n",
            "Model 1:\n",
            "Epoch 1/2\n",
            "1072/1072 [==============================] - 35s 33ms/step - loss: 0.0299 - accuracy: 0.9909 - val_loss: 0.0200 - val_accuracy: 0.9933\n",
            "Epoch 2/2\n",
            "1072/1072 [==============================] - 35s 32ms/step - loss: 0.0259 - accuracy: 0.9918 - val_loss: 0.0186 - val_accuracy: 0.9932\n",
            "Model 2:\n",
            "Epoch 1/2\n",
            "1072/1072 [==============================] - 51s 47ms/step - loss: 0.1237 - accuracy: 0.9640 - val_loss: 0.0404 - val_accuracy: 0.9868\n",
            "Epoch 2/2\n",
            "1072/1072 [==============================] - 51s 47ms/step - loss: 0.1076 - accuracy: 0.9677 - val_loss: 0.0343 - val_accuracy: 0.9890\n",
            "Model 3:\n",
            "Epoch 1/2\n",
            "1072/1072 [==============================] - 34s 31ms/step - loss: 0.1138 - accuracy: 0.9669 - val_loss: 0.0346 - val_accuracy: 0.9893\n",
            "Epoch 2/2\n",
            "1072/1072 [==============================] - 33s 31ms/step - loss: 0.1007 - accuracy: 0.9704 - val_loss: 0.0434 - val_accuracy: 0.9868\n",
            "Tryng RMSProp optimizier\n",
            "Model 1:\n",
            "Epoch 1/2\n",
            "1072/1072 [==============================] - 37s 33ms/step - loss: 0.0483 - accuracy: 0.9862 - val_loss: 0.0219 - val_accuracy: 0.9924\n",
            "Epoch 2/2\n",
            "1072/1072 [==============================] - 36s 33ms/step - loss: 0.0395 - accuracy: 0.9882 - val_loss: 0.0213 - val_accuracy: 0.9929\n",
            "Model 2:\n",
            "Epoch 1/2\n",
            "1072/1072 [==============================] - 51s 46ms/step - loss: 0.1506 - accuracy: 0.9571 - val_loss: 0.1361 - val_accuracy: 0.9544\n",
            "Epoch 2/2\n",
            "1072/1072 [==============================] - 51s 48ms/step - loss: 0.1269 - accuracy: 0.9648 - val_loss: 0.0417 - val_accuracy: 0.9878\n",
            "Model 3:\n",
            "Epoch 1/2\n",
            "1072/1072 [==============================] - 37s 32ms/step - loss: 0.1471 - accuracy: 0.9578 - val_loss: 0.0842 - val_accuracy: 0.9751\n",
            "Epoch 2/2\n",
            "1072/1072 [==============================] - 34s 32ms/step - loss: 0.1214 - accuracy: 0.9657 - val_loss: 0.0363 - val_accuracy: 0.9889\n"
          ]
        }
      ],
      "source": [
        "batch_size = 56\n",
        "epochs = 2\n",
        "optimizers = [\"adam\", \"SGD\", \"RMSProp\"]\n",
        "for opt in optimizers:\n",
        "    print(f'Tryng {opt} optimizier')\n",
        "    print(f'Model 1:')\n",
        "    model1.compile(loss=\"categorical_crossentropy\", optimizer=opt, metrics=[\"accuracy\"])\n",
        "    model1.fit(x_train, y_train, batch_size=batch_size, epochs=epochs, validation_data=(x_test, y_test))\n",
        "    print(f'Model 2:')\n",
        "    model2.compile(loss=\"categorical_crossentropy\", optimizer=opt, metrics=[\"accuracy\"])\n",
        "    model2.fit(x_train, y_train, batch_size=batch_size, epochs=epochs, validation_data=(x_test, y_test))\n",
        "    print(f'Model 3:')\n",
        "    model3.compile(loss=\"categorical_crossentropy\", optimizer=opt, metrics=[\"accuracy\"])\n",
        "    model3.fit(x_train, y_train, batch_size=batch_size, epochs=epochs, validation_data=(x_test, y_test))\n"
      ]
    },
    {
      "cell_type": "code",
      "execution_count": null,
      "metadata": {
        "colab": {
          "base_uri": "https://localhost:8080/"
        },
        "id": "5lt0FyntMS6y",
        "outputId": "68317884-83a0-436a-b159-8824bf5469fb"
      },
      "outputs": [
        {
          "output_type": "stream",
          "name": "stdout",
          "text": [
            "Tryng batch size=32.\n",
            "Model 1:\n",
            "Epoch 1/2\n",
            "1875/1875 - 33s - loss: 0.0201 - accuracy: 0.9936 - val_loss: 0.0141 - val_accuracy: 0.9947 - 33s/epoch - 18ms/step\n",
            "Epoch 2/2\n",
            "1875/1875 - 32s - loss: 0.0169 - accuracy: 0.9951 - val_loss: 0.0136 - val_accuracy: 0.9951 - 32s/epoch - 17ms/step\n",
            "Model 2:\n",
            "Epoch 1/2\n",
            "1875/1875 - 46s - loss: 0.0794 - accuracy: 0.9775 - val_loss: 0.0286 - val_accuracy: 0.9896 - 46s/epoch - 25ms/step\n",
            "Epoch 2/2\n",
            "1875/1875 - 45s - loss: 0.0689 - accuracy: 0.9807 - val_loss: 0.0267 - val_accuracy: 0.9914 - 45s/epoch - 24ms/step\n",
            "Model 3:\n",
            "Epoch 1/2\n",
            "1875/1875 - 35s - loss: 0.1255 - accuracy: 0.9654 - val_loss: 0.0487 - val_accuracy: 0.9870 - 35s/epoch - 18ms/step\n",
            "Epoch 2/2\n",
            "1875/1875 - 33s - loss: 0.1191 - accuracy: 0.9675 - val_loss: 0.0484 - val_accuracy: 0.9851 - 33s/epoch - 18ms/step\n",
            "Tryng batch size=64.\n",
            "Model 1:\n",
            "Epoch 1/2\n",
            "938/938 - 32s - loss: 0.0159 - accuracy: 0.9952 - val_loss: 0.0137 - val_accuracy: 0.9950 - 32s/epoch - 34ms/step\n",
            "Epoch 2/2\n",
            "938/938 - 31s - loss: 0.0153 - accuracy: 0.9955 - val_loss: 0.0133 - val_accuracy: 0.9951 - 31s/epoch - 33ms/step\n",
            "Model 2:\n",
            "Epoch 1/2\n",
            "938/938 - 45s - loss: 0.0605 - accuracy: 0.9817 - val_loss: 0.0235 - val_accuracy: 0.9925 - 45s/epoch - 48ms/step\n",
            "Epoch 2/2\n",
            "938/938 - 44s - loss: 0.0591 - accuracy: 0.9826 - val_loss: 0.0241 - val_accuracy: 0.9923 - 44s/epoch - 46ms/step\n",
            "Model 3:\n",
            "Epoch 1/2\n",
            "938/938 - 32s - loss: 0.0966 - accuracy: 0.9734 - val_loss: 0.0604 - val_accuracy: 0.9819 - 32s/epoch - 34ms/step\n",
            "Epoch 2/2\n",
            "938/938 - 30s - loss: 0.0933 - accuracy: 0.9748 - val_loss: 0.0485 - val_accuracy: 0.9848 - 30s/epoch - 32ms/step\n",
            "Tryng batch size=128.\n",
            "Model 1:\n",
            "Epoch 1/2\n",
            "469/469 - 31s - loss: 0.0144 - accuracy: 0.9957 - val_loss: 0.0131 - val_accuracy: 0.9955 - 31s/epoch - 67ms/step\n",
            "Epoch 2/2\n",
            "469/469 - 29s - loss: 0.0149 - accuracy: 0.9955 - val_loss: 0.0136 - val_accuracy: 0.9955 - 29s/epoch - 62ms/step\n",
            "Model 2:\n",
            "Epoch 1/2\n",
            "469/469 - 46s - loss: 0.0549 - accuracy: 0.9843 - val_loss: 0.0228 - val_accuracy: 0.9922 - 46s/epoch - 98ms/step\n",
            "Epoch 2/2\n",
            "469/469 - 43s - loss: 0.0548 - accuracy: 0.9842 - val_loss: 0.0231 - val_accuracy: 0.9918 - 43s/epoch - 91ms/step\n",
            "Model 3:\n",
            "Epoch 1/2\n",
            "469/469 - 28s - loss: 0.0738 - accuracy: 0.9800 - val_loss: 0.0304 - val_accuracy: 0.9899 - 28s/epoch - 60ms/step\n",
            "Epoch 2/2\n",
            "469/469 - 28s - loss: 0.0683 - accuracy: 0.9812 - val_loss: 0.0279 - val_accuracy: 0.9913 - 28s/epoch - 59ms/step\n",
            "Tryng batch size=256.\n",
            "Model 1:\n",
            "Epoch 1/2\n",
            "235/235 - 30s - loss: 0.0143 - accuracy: 0.9957 - val_loss: 0.0133 - val_accuracy: 0.9954 - 30s/epoch - 128ms/step\n",
            "Epoch 2/2\n",
            "235/235 - 28s - loss: 0.0132 - accuracy: 0.9959 - val_loss: 0.0132 - val_accuracy: 0.9953 - 28s/epoch - 121ms/step\n",
            "Model 2:\n",
            "Epoch 1/2\n",
            "235/235 - 44s - loss: 0.0525 - accuracy: 0.9842 - val_loss: 0.0223 - val_accuracy: 0.9924 - 44s/epoch - 189ms/step\n",
            "Epoch 2/2\n",
            "235/235 - 42s - loss: 0.0517 - accuracy: 0.9854 - val_loss: 0.0216 - val_accuracy: 0.9926 - 42s/epoch - 178ms/step\n",
            "Model 3:\n",
            "Epoch 1/2\n",
            "235/235 - 27s - loss: 0.0555 - accuracy: 0.9842 - val_loss: 0.0305 - val_accuracy: 0.9911 - 27s/epoch - 116ms/step\n",
            "Epoch 2/2\n",
            "235/235 - 27s - loss: 0.0524 - accuracy: 0.9847 - val_loss: 0.0282 - val_accuracy: 0.9920 - 27s/epoch - 113ms/step\n"
          ]
        }
      ],
      "source": [
        "model1.compile(loss=\"categorical_crossentropy\", optimizer=\"SGD\", metrics=[\"accuracy\"])\n",
        "model2.compile(loss=\"categorical_crossentropy\", optimizer=\"SGD\", metrics=[\"accuracy\"])\n",
        "model3.compile(loss=\"categorical_crossentropy\", optimizer=\"RMSProp\", metrics=[\"accuracy\"])\n",
        "\n",
        "batch_sizes = [32,64,128,256]\n",
        "for b in batch_sizes:\n",
        "    print(f'Tryng batch size={b}.')\n",
        "    print(f'Model 1:')\n",
        "    model1.fit(x_train, y_train, batch_size=b, epochs=epochs, validation_data=(x_test, y_test), verbose=2)\n",
        "    print(f'Model 2:')\n",
        "    model2.fit(x_train, y_train, batch_size=b, epochs=epochs, validation_data=(x_test, y_test), verbose=2)\n",
        "    print(f'Model 3:')\n",
        "    model3.fit(x_train, y_train, batch_size=b, epochs=epochs, validation_data=(x_test, y_test), verbose=2)"
      ]
    },
    {
      "cell_type": "code",
      "source": [
        "!pip install visualkeras\n",
        "import visualkeras"
      ],
      "metadata": {
        "id": "ezj_Gl1ovgmp",
        "outputId": "59a85775-c2c0-4d68-ca01-aed3584ae1ab",
        "colab": {
          "base_uri": "https://localhost:8080/"
        }
      },
      "execution_count": null,
      "outputs": [
        {
          "output_type": "stream",
          "name": "stdout",
          "text": [
            "Looking in indexes: https://pypi.org/simple, https://us-python.pkg.dev/colab-wheels/public/simple/\n",
            "Collecting visualkeras\n",
            "  Downloading visualkeras-0.0.2-py3-none-any.whl (12 kB)\n",
            "Requirement already satisfied: numpy>=1.18.1 in /usr/local/lib/python3.7/dist-packages (from visualkeras) (1.21.6)\n",
            "Collecting aggdraw>=1.3.11\n",
            "  Downloading aggdraw-1.3.15-cp37-cp37m-manylinux_2_17_x86_64.manylinux2014_x86_64.whl (989 kB)\n",
            "\u001b[K     |████████████████████████████████| 989 kB 30.3 MB/s \n",
            "\u001b[?25hRequirement already satisfied: pillow>=6.2.0 in /usr/local/lib/python3.7/dist-packages (from visualkeras) (7.1.2)\n",
            "Installing collected packages: aggdraw, visualkeras\n",
            "Successfully installed aggdraw-1.3.15 visualkeras-0.0.2\n"
          ]
        }
      ]
    },
    {
      "cell_type": "code",
      "source": [
        "\n",
        "visualkeras.layered_view(model1)\n"
      ],
      "metadata": {
        "id": "0z5tg9PIvbdr",
        "outputId": "009ed242-c3b9-428c-d6a2-d5fb00a41859",
        "colab": {
          "base_uri": "https://localhost:8080/",
          "height": 167
        }
      },
      "execution_count": null,
      "outputs": [
        {
          "output_type": "execute_result",
          "data": {
            "text/plain": [
              "<PIL.Image.Image image mode=RGBA size=790x150 at 0x7FE67098D590>"
            ],
            "image/png": "[encoded data removed]"
          },
          "metadata": {},
          "execution_count": 21
        }
      ]
    },
    {
      "cell_type": "code",
      "source": [
        "visualkeras.layered_view(model2)\n"
      ],
      "metadata": {
        "id": "0hn2hmMTOW1M",
        "outputId": "05a527d6-a0ae-4bb6-ff73-4b01f2a2f5d2",
        "colab": {
          "base_uri": "https://localhost:8080/",
          "height": 167
        }
      },
      "execution_count": null,
      "outputs": [
        {
          "output_type": "execute_result",
          "data": {
            "text/plain": [
              "<PIL.Image.Image image mode=RGBA size=542x150 at 0x7FE67098BC90>"
            ],
            "image/png": "[encoded data removed]"
          },
          "metadata": {},
          "execution_count": 19
        }
      ]
    },
    {
      "cell_type": "code",
      "source": [
        "visualkeras.layered_view(model3)"
      ],
      "metadata": {
        "id": "785V9fcsOXqR",
        "outputId": "3b8acba2-d7c7-47cd-a80e-6626f6196f56",
        "colab": {
          "base_uri": "https://localhost:8080/",
          "height": 167
        }
      },
      "execution_count": null,
      "outputs": [
        {
          "output_type": "execute_result",
          "data": {
            "text/plain": [
              "<PIL.Image.Image image mode=RGBA size=602x150 at 0x7FE670991F90>"
            ],
            "image/png": "[encoded data removed]"
          },
          "metadata": {},
          "execution_count": 20
        }
      ]
    },
    {
      "cell_type": "code",
      "source": [],
      "metadata": {
        "id": "zmQau5qmlw4X"
      },
      "execution_count": null,
      "outputs": []
    },
    {
      "cell_type": "markdown",
      "source": [
        "------start second problem------"
      ],
      "metadata": {
        "id": "WAdhigaPlz2t"
      }
    },
    {
      "cell_type": "code",
      "source": [
        "# Load the data and split it between train and test sets\n",
        "(x_train, y_train), (x_test, y_test) = tf.keras.datasets.cifar10.load_data()\n",
        "# Scale images to the [0, 1] range\n",
        "x_train, x_test = x_train / 255.0, x_test / 255.0\n",
        "\n",
        "# # Make sure images have shape (28, 28, 1)\n",
        "# x_train = np.expand_dims(x_train, -1)\n",
        "# x_test = np.expand_dims(x_test, -1)"
      ],
      "metadata": {
        "id": "6YCUyMcboWKF",
        "outputId": "5227a430-a968-43f7-cbea-23bb30c342fc",
        "colab": {
          "base_uri": "https://localhost:8080/"
        }
      },
      "execution_count": null,
      "outputs": [
        {
          "output_type": "stream",
          "name": "stdout",
          "text": [
            "Downloading data from https://www.cs.toronto.edu/~kriz/cifar-10-python.tar.gz\n",
            "170498071/170498071 [==============================] - 16s 0us/step\n"
          ]
        }
      ]
    },
    {
      "cell_type": "code",
      "source": [
        "x_train.shape\n"
      ],
      "metadata": {
        "id": "ryVaNPnRotDK",
        "outputId": "87cb1ed1-6aba-482e-a6c8-8203caeba6ea",
        "colab": {
          "base_uri": "https://localhost:8080/"
        }
      },
      "execution_count": null,
      "outputs": [
        {
          "output_type": "execute_result",
          "data": {
            "text/plain": [
              "(50000, 32, 32, 3)"
            ]
          },
          "metadata": {},
          "execution_count": 50
        }
      ]
    },
    {
      "cell_type": "code",
      "source": [
        "input_shape = (32, 32, 3)"
      ],
      "metadata": {
        "id": "DbP1KRJemZCe"
      },
      "execution_count": null,
      "outputs": []
    },
    {
      "cell_type": "code",
      "source": [
        "model_lenet = keras.Sequential(\n",
        "    [\n",
        "        keras.Input(shape=input_shape),\n",
        "\n",
        "        layers.Conv2D(6, kernel_size=(5, 5), activation=\"relu\", strides=1),\n",
        "        layers.MaxPooling2D(pool_size=(2, 2)),  \n",
        "        layers.Conv2D(16, kernel_size=(5, 5), activation=\"relu\", strides=1),\n",
        "        layers.MaxPooling2D(pool_size=(2, 2)),\n",
        "        layers.Conv2D(120, kernel_size=(5, 5), activation=\"relu\"),\n",
        "        layers.Flatten(),\n",
        "        layers.Dense(84, input_dim=4, activation=\"relu\"),\n",
        "        layers.Dense(10, activation=\"softmax\"),\n",
        "    ]\n",
        ")\n",
        "\n",
        "model_lenet.summary()\n",
        "visualkeras.layered_view(model_lenet)"
      ],
      "metadata": {
        "id": "6oGc7NelmKGe",
        "outputId": "e31f286b-2086-4fd5-cb60-3e6a8689f8f8",
        "colab": {
          "base_uri": "https://localhost:8080/",
          "height": 635
        }
      },
      "execution_count": null,
      "outputs": [
        {
          "output_type": "stream",
          "name": "stdout",
          "text": [
            "Model: \"sequential_11\"\n",
            "_________________________________________________________________\n",
            " Layer (type)                Output Shape              Param #   \n",
            "=================================================================\n",
            " conv2d_33 (Conv2D)          (None, 28, 28, 6)         456       \n",
            "                                                                 \n",
            " max_pooling2d_22 (MaxPoolin  (None, 14, 14, 6)        0         \n",
            " g2D)                                                            \n",
            "                                                                 \n",
            " conv2d_34 (Conv2D)          (None, 10, 10, 16)        2416      \n",
            "                                                                 \n",
            " max_pooling2d_23 (MaxPoolin  (None, 5, 5, 16)         0         \n",
            " g2D)                                                            \n",
            "                                                                 \n",
            " conv2d_35 (Conv2D)          (None, 1, 1, 120)         48120     \n",
            "                                                                 \n",
            " flatten_5 (Flatten)         (None, 120)               0         \n",
            "                                                                 \n",
            " dense_22 (Dense)            (None, 84)                10164     \n",
            "                                                                 \n",
            " dense_23 (Dense)            (None, 10)                850       \n",
            "                                                                 \n",
            "=================================================================\n",
            "Total params: 62,006\n",
            "Trainable params: 62,006\n",
            "Non-trainable params: 0\n",
            "_________________________________________________________________\n"
          ]
        },
        {
          "output_type": "execute_result",
          "data": {
            "text/plain": [
              "<PIL.Image.Image image mode=RGBA size=272x150 at 0x7F2550032C90>"
            ],
            "image/png": "[encoded data removed]"
          },
          "metadata": {},
          "execution_count": 53
        }
      ]
    },
    {
      "cell_type": "code",
      "source": [
        "custom_opt=tf.keras.optimizers.Adam(\n",
        "    learning_rate=0.001,\n",
        "    beta_1=0.9,\n",
        "    beta_2=0.999,\n",
        "    epsilon=1e-07\n",
        ")\n",
        "\n",
        "model_lenet.compile(loss=\"sparse_categorical_crossentropy\", optimizer=custom_opt, metrics=[\"accuracy\"])\n",
        "model_lenet.fit(x_train, y_train, batch_size=128, epochs=25, validation_data=(x_test, y_test), verbose=2)"
      ],
      "metadata": {
        "id": "agWh86NApGyw",
        "outputId": "a0bd744a-3fb2-4081-e15c-6f230def6d2d",
        "colab": {
          "base_uri": "https://localhost:8080/"
        }
      },
      "execution_count": null,
      "outputs": [
        {
          "output_type": "stream",
          "name": "stdout",
          "text": [
            "Epoch 1/25\n",
            "391/391 - 3s - loss: 1.7204 - accuracy: 0.3786 - val_loss: 1.5174 - val_accuracy: 0.4499 - 3s/epoch - 7ms/step\n",
            "Epoch 2/25\n",
            "391/391 - 2s - loss: 1.4368 - accuracy: 0.4833 - val_loss: 1.3591 - val_accuracy: 0.5153 - 2s/epoch - 5ms/step\n",
            "Epoch 3/25\n",
            "391/391 - 2s - loss: 1.3260 - accuracy: 0.5255 - val_loss: 1.2932 - val_accuracy: 0.5343 - 2s/epoch - 5ms/step\n",
            "Epoch 4/25\n",
            "391/391 - 2s - loss: 1.2482 - accuracy: 0.5539 - val_loss: 1.2691 - val_accuracy: 0.5430 - 2s/epoch - 5ms/step\n",
            "Epoch 5/25\n",
            "391/391 - 2s - loss: 1.1917 - accuracy: 0.5763 - val_loss: 1.2191 - val_accuracy: 0.5650 - 2s/epoch - 5ms/step\n",
            "Epoch 6/25\n",
            "391/391 - 2s - loss: 1.1526 - accuracy: 0.5907 - val_loss: 1.2654 - val_accuracy: 0.5565 - 2s/epoch - 5ms/step\n",
            "Epoch 7/25\n",
            "391/391 - 2s - loss: 1.1129 - accuracy: 0.6046 - val_loss: 1.1494 - val_accuracy: 0.5908 - 2s/epoch - 5ms/step\n",
            "Epoch 8/25\n",
            "391/391 - 2s - loss: 1.0791 - accuracy: 0.6165 - val_loss: 1.1467 - val_accuracy: 0.5940 - 2s/epoch - 5ms/step\n",
            "Epoch 9/25\n",
            "391/391 - 2s - loss: 1.0537 - accuracy: 0.6276 - val_loss: 1.2030 - val_accuracy: 0.5798 - 2s/epoch - 5ms/step\n",
            "Epoch 10/25\n",
            "391/391 - 2s - loss: 1.0216 - accuracy: 0.6384 - val_loss: 1.1279 - val_accuracy: 0.5991 - 2s/epoch - 5ms/step\n",
            "Epoch 11/25\n",
            "391/391 - 2s - loss: 0.9944 - accuracy: 0.6462 - val_loss: 1.1099 - val_accuracy: 0.6090 - 2s/epoch - 5ms/step\n",
            "Epoch 12/25\n",
            "391/391 - 2s - loss: 0.9749 - accuracy: 0.6564 - val_loss: 1.1124 - val_accuracy: 0.6067 - 2s/epoch - 5ms/step\n",
            "Epoch 13/25\n",
            "391/391 - 2s - loss: 0.9491 - accuracy: 0.6665 - val_loss: 1.0910 - val_accuracy: 0.6173 - 2s/epoch - 5ms/step\n",
            "Epoch 14/25\n",
            "391/391 - 2s - loss: 0.9288 - accuracy: 0.6727 - val_loss: 1.1006 - val_accuracy: 0.6164 - 2s/epoch - 4ms/step\n",
            "Epoch 15/25\n",
            "391/391 - 2s - loss: 0.9187 - accuracy: 0.6771 - val_loss: 1.1181 - val_accuracy: 0.6113 - 2s/epoch - 5ms/step\n",
            "Epoch 16/25\n",
            "391/391 - 3s - loss: 0.8928 - accuracy: 0.6856 - val_loss: 1.0970 - val_accuracy: 0.6186 - 3s/epoch - 6ms/step\n",
            "Epoch 17/25\n",
            "391/391 - 2s - loss: 0.8758 - accuracy: 0.6903 - val_loss: 1.1199 - val_accuracy: 0.6111 - 2s/epoch - 6ms/step\n",
            "Epoch 18/25\n",
            "391/391 - 2s - loss: 0.8593 - accuracy: 0.6969 - val_loss: 1.0860 - val_accuracy: 0.6204 - 2s/epoch - 5ms/step\n",
            "Epoch 19/25\n",
            "391/391 - 2s - loss: 0.8437 - accuracy: 0.7017 - val_loss: 1.0812 - val_accuracy: 0.6224 - 2s/epoch - 5ms/step\n",
            "Epoch 20/25\n",
            "391/391 - 2s - loss: 0.8291 - accuracy: 0.7074 - val_loss: 1.0842 - val_accuracy: 0.6312 - 2s/epoch - 5ms/step\n",
            "Epoch 21/25\n",
            "391/391 - 2s - loss: 0.8161 - accuracy: 0.7124 - val_loss: 1.0937 - val_accuracy: 0.6277 - 2s/epoch - 4ms/step\n",
            "Epoch 22/25\n",
            "391/391 - 2s - loss: 0.8068 - accuracy: 0.7142 - val_loss: 1.0811 - val_accuracy: 0.6304 - 2s/epoch - 4ms/step\n",
            "Epoch 23/25\n",
            "391/391 - 2s - loss: 0.7925 - accuracy: 0.7200 - val_loss: 1.0987 - val_accuracy: 0.6231 - 2s/epoch - 5ms/step\n",
            "Epoch 24/25\n",
            "391/391 - 2s - loss: 0.7732 - accuracy: 0.7264 - val_loss: 1.1184 - val_accuracy: 0.6296 - 2s/epoch - 5ms/step\n",
            "Epoch 25/25\n",
            "391/391 - 2s - loss: 0.7665 - accuracy: 0.7298 - val_loss: 1.0979 - val_accuracy: 0.6266 - 2s/epoch - 5ms/step\n"
          ]
        },
        {
          "output_type": "execute_result",
          "data": {
            "text/plain": [
              "<keras.callbacks.History at 0x7f245b7bc090>"
            ]
          },
          "metadata": {},
          "execution_count": 54
        }
      ]
    },
    {
      "cell_type": "code",
      "source": [
        "model_ff = keras.Sequential(\n",
        "    [\n",
        "        keras.Input(shape=input_shape),\n",
        "        layers.Dense(6, activation=\"relu\"),\n",
        "        layers.Dense(16, activation=\"relu\"), \n",
        "        layers.Dense(120, activation=\"relu\"),\n",
        "        layers.Flatten(),\n",
        "        layers.Dense(84, activation=\"relu\"),\n",
        "        layers.Dense(10, activation=\"softmax\"),\n",
        "    ]\n",
        ")\n",
        "\n",
        "model_ff.summary()\n",
        "visualkeras.layered_view(model_ff)"
      ],
      "metadata": {
        "id": "WAe3pfPy2OYH",
        "outputId": "ed12abdb-eede-441b-e859-df1423c62e4e",
        "colab": {
          "base_uri": "https://localhost:8080/",
          "height": 552
        }
      },
      "execution_count": null,
      "outputs": [
        {
          "output_type": "stream",
          "name": "stdout",
          "text": [
            "Model: \"sequential_6\"\n",
            "_________________________________________________________________\n",
            " Layer (type)                Output Shape              Param #   \n",
            "=================================================================\n",
            " dense_28 (Dense)            (None, 32, 32, 6)         24        \n",
            "                                                                 \n",
            " dense_29 (Dense)            (None, 32, 32, 16)        112       \n",
            "                                                                 \n",
            " dense_30 (Dense)            (None, 32, 32, 120)       2040      \n",
            "                                                                 \n",
            " dense_31 (Dense)            (None, 32, 32, 84)        10164     \n",
            "                                                                 \n",
            " flatten_3 (Flatten)         (None, 86016)             0         \n",
            "                                                                 \n",
            " dense_32 (Dense)            (None, 10)                860170    \n",
            "                                                                 \n",
            "=================================================================\n",
            "Total params: 872,510\n",
            "Trainable params: 872,510\n",
            "Non-trainable params: 0\n",
            "_________________________________________________________________\n"
          ]
        },
        {
          "output_type": "execute_result",
          "data": {
            "text/plain": [
              "<PIL.Image.Image image mode=RGBA size=595x171 at 0x7EFC2236F690>"
            ],
            "image/png": "[encoded data removed]"
          },
          "metadata": {},
          "execution_count": 21
        }
      ]
    },
    {
      "cell_type": "code",
      "source": [
        "custom_opt=tf.keras.optimizers.Adam(\n",
        "    learning_rate=0.001,\n",
        "    beta_1=0.9,\n",
        "    beta_2=0.999,\n",
        "    epsilon=1e-07\n",
        ")\n",
        "\n",
        "model_ff.compile(loss=\"sparse_categorical_crossentropy\", optimizer=custom_opt, metrics=[\"accuracy\"])\n",
        "model_ff.fit(x_train, y_train, batch_size=128, epochs=25, validation_data=(x_test, y_test), verbose=2)"
      ],
      "metadata": {
        "id": "W_9q3zTV3cB5",
        "outputId": "d0c10cc4-19e3-46f9-f5b0-c3e273a25933",
        "colab": {
          "base_uri": "https://localhost:8080/"
        }
      },
      "execution_count": null,
      "outputs": [
        {
          "output_type": "stream",
          "name": "stdout",
          "text": [
            "Epoch 1/25\n",
            "391/391 - 8s - loss: 1.9794 - accuracy: 0.2738 - val_loss: 1.7982 - val_accuracy: 0.3720 - 8s/epoch - 20ms/step\n",
            "Epoch 2/25\n",
            "391/391 - 7s - loss: 1.7114 - accuracy: 0.3982 - val_loss: 1.6783 - val_accuracy: 0.4159 - 7s/epoch - 18ms/step\n",
            "Epoch 3/25\n",
            "391/391 - 7s - loss: 1.6154 - accuracy: 0.4375 - val_loss: 1.5920 - val_accuracy: 0.4466 - 7s/epoch - 18ms/step\n",
            "Epoch 4/25\n",
            "391/391 - 7s - loss: 1.5622 - accuracy: 0.4548 - val_loss: 1.5639 - val_accuracy: 0.4595 - 7s/epoch - 18ms/step\n",
            "Epoch 5/25\n",
            "391/391 - 8s - loss: 1.5280 - accuracy: 0.4687 - val_loss: 1.5667 - val_accuracy: 0.4498 - 8s/epoch - 20ms/step\n",
            "Epoch 6/25\n",
            "391/391 - 7s - loss: 1.5009 - accuracy: 0.4795 - val_loss: 1.5578 - val_accuracy: 0.4551 - 7s/epoch - 18ms/step\n",
            "Epoch 7/25\n",
            "391/391 - 7s - loss: 1.4784 - accuracy: 0.4863 - val_loss: 1.5541 - val_accuracy: 0.4552 - 7s/epoch - 18ms/step\n",
            "Epoch 8/25\n",
            "391/391 - 7s - loss: 1.4551 - accuracy: 0.4950 - val_loss: 1.5512 - val_accuracy: 0.4547 - 7s/epoch - 18ms/step\n",
            "Epoch 9/25\n",
            "391/391 - 7s - loss: 1.4323 - accuracy: 0.5046 - val_loss: 1.5499 - val_accuracy: 0.4525 - 7s/epoch - 18ms/step\n",
            "Epoch 10/25\n",
            "391/391 - 7s - loss: 1.4055 - accuracy: 0.5142 - val_loss: 1.5670 - val_accuracy: 0.4501 - 7s/epoch - 19ms/step\n",
            "Epoch 11/25\n",
            "391/391 - 7s - loss: 1.3804 - accuracy: 0.5242 - val_loss: 1.5850 - val_accuracy: 0.4487 - 7s/epoch - 18ms/step\n",
            "Epoch 12/25\n",
            "391/391 - 7s - loss: 1.3500 - accuracy: 0.5342 - val_loss: 1.6032 - val_accuracy: 0.4430 - 7s/epoch - 18ms/step\n",
            "Epoch 13/25\n",
            "391/391 - 7s - loss: 1.3234 - accuracy: 0.5428 - val_loss: 1.6251 - val_accuracy: 0.4352 - 7s/epoch - 18ms/step\n",
            "Epoch 14/25\n",
            "391/391 - 7s - loss: 1.2940 - accuracy: 0.5558 - val_loss: 1.6281 - val_accuracy: 0.4387 - 7s/epoch - 18ms/step\n",
            "Epoch 15/25\n",
            "391/391 - 7s - loss: 1.2591 - accuracy: 0.5676 - val_loss: 1.6825 - val_accuracy: 0.4241 - 7s/epoch - 18ms/step\n",
            "Epoch 16/25\n",
            "391/391 - 7s - loss: 1.2277 - accuracy: 0.5780 - val_loss: 1.7128 - val_accuracy: 0.4249 - 7s/epoch - 18ms/step\n",
            "Epoch 17/25\n",
            "391/391 - 7s - loss: 1.1914 - accuracy: 0.5909 - val_loss: 1.7517 - val_accuracy: 0.4179 - 7s/epoch - 18ms/step\n",
            "Epoch 18/25\n",
            "391/391 - 7s - loss: 1.1528 - accuracy: 0.6072 - val_loss: 1.7774 - val_accuracy: 0.4199 - 7s/epoch - 18ms/step\n",
            "Epoch 19/25\n",
            "391/391 - 7s - loss: 1.1176 - accuracy: 0.6175 - val_loss: 1.8195 - val_accuracy: 0.4193 - 7s/epoch - 18ms/step\n",
            "Epoch 20/25\n",
            "391/391 - 7s - loss: 1.0802 - accuracy: 0.6313 - val_loss: 1.8563 - val_accuracy: 0.4145 - 7s/epoch - 18ms/step\n",
            "Epoch 21/25\n",
            "391/391 - 7s - loss: 1.0403 - accuracy: 0.6450 - val_loss: 1.9212 - val_accuracy: 0.4041 - 7s/epoch - 18ms/step\n",
            "Epoch 22/25\n",
            "391/391 - 7s - loss: 1.0015 - accuracy: 0.6610 - val_loss: 2.0049 - val_accuracy: 0.4025 - 7s/epoch - 18ms/step\n",
            "Epoch 23/25\n",
            "391/391 - 7s - loss: 0.9645 - accuracy: 0.6719 - val_loss: 2.0241 - val_accuracy: 0.4073 - 7s/epoch - 18ms/step\n",
            "Epoch 24/25\n",
            "391/391 - 7s - loss: 0.9245 - accuracy: 0.6861 - val_loss: 2.0998 - val_accuracy: 0.3897 - 7s/epoch - 18ms/step\n",
            "Epoch 25/25\n",
            "391/391 - 7s - loss: 0.8877 - accuracy: 0.6991 - val_loss: 2.2032 - val_accuracy: 0.3952 - 7s/epoch - 18ms/step\n"
          ]
        },
        {
          "output_type": "execute_result",
          "data": {
            "text/plain": [
              "<keras.callbacks.History at 0x7efc222d5f90>"
            ]
          },
          "metadata": {},
          "execution_count": 22
        }
      ]
    },
    {
      "cell_type": "code",
      "source": [],
      "metadata": {
        "id": "Nnu9x9Uq3i_8"
      },
      "execution_count": null,
      "outputs": []
    },
    {
      "cell_type": "markdown",
      "source": [
        "-------start of question 3-------\n",
        "\n",
        "\n",
        "Let's hardcode given matrices"
      ],
      "metadata": {
        "id": "eKvte9Vb3kqd"
      }
    },
    {
      "cell_type": "code",
      "source": [
        "# input\n",
        "X = np.array([[7,5,0,0,3,2],\n",
        "              [6,4,5,1,4,8],\n",
        "              [9,0,2,2,5,4],\n",
        "              [6,3,4,7,9,8],\n",
        "              [5,7,5,6,9,0],\n",
        "              [7,9,0,8,2,3]])\n",
        "# convolutional kernel\n",
        "f = np.array([[1,0,-1],\n",
        "              [2,0,-2],\n",
        "              [1,0,-1]])"
      ],
      "metadata": {
        "id": "nktNFx0f4Ast"
      },
      "execution_count": 5,
      "outputs": []
    },
    {
      "cell_type": "markdown",
      "source": [
        "**Answer to question 1:**\n",
        "\n",
        "Dimensions of the input and the kernel are:"
      ],
      "metadata": {
        "id": "tGyOEEOZ3pDJ"
      }
    },
    {
      "cell_type": "code",
      "source": [
        "X.shape"
      ],
      "metadata": {
        "id": "0e_OUaqB5lKA",
        "outputId": "dfc24c10-b8d3-4b16-ccb2-60649056e6ff",
        "colab": {
          "base_uri": "https://localhost:8080/"
        }
      },
      "execution_count": 6,
      "outputs": [
        {
          "output_type": "execute_result",
          "data": {
            "text/plain": [
              "(6, 6)"
            ]
          },
          "metadata": {},
          "execution_count": 6
        }
      ]
    },
    {
      "cell_type": "code",
      "source": [
        "f.shape"
      ],
      "metadata": {
        "id": "WsbfUmUG5sg1",
        "outputId": "58057275-5855-4335-f7f4-d256105b7287",
        "colab": {
          "base_uri": "https://localhost:8080/"
        }
      },
      "execution_count": 7,
      "outputs": [
        {
          "output_type": "execute_result",
          "data": {
            "text/plain": [
              "(3, 3)"
            ]
          },
          "metadata": {},
          "execution_count": 7
        }
      ]
    },
    {
      "cell_type": "markdown",
      "source": [
        "So, kernel have 3x3=9 parameters.\n",
        "\n",
        "\n",
        "**Answer to question 2:**\n",
        "\n",
        "Thus, activation map will have the following output:\n",
        "(6-3)/1+1=4 or 4x4\n"
      ],
      "metadata": {
        "id": "qEuU0SiT573Z"
      }
    },
    {
      "cell_type": "code",
      "source": [
        "#Assuming that stride = 1\n",
        "s = 1\n",
        "input_sz,_= X.shape\n",
        "kernel_sz,_ = f.shape\n",
        "\n",
        "act_sz = int((input_sz - kernel_sz)/s)+1 # calculate output dimensions\n",
        "act = np.zeros((act_sz,act_sz)) # init activation map\n",
        "\n",
        "# next loop working only with stride = 1\n",
        "i_o = 0\n",
        "for i in range(input_sz-kernel_sz+1):\n",
        "  j_o = 0\n",
        "  for j in range(input_sz-kernel_sz+1):\n",
        "    act[i_o, j_o] = np.sum(f * X[i:i+kernel_sz, j:j+kernel_sz])\n",
        "    j_o += 1\n",
        "  i_o += 1\n"
      ],
      "metadata": {
        "id": "dtEII2edovkn"
      },
      "execution_count": null,
      "outputs": []
    },
    {
      "cell_type": "markdown",
      "source": [
        "Now let's print out the result:"
      ],
      "metadata": {
        "id": "GZcZmt9ys-Gn"
      }
    },
    {
      "cell_type": "code",
      "source": [
        "print(act)"
      ],
      "metadata": {
        "id": "bieRziFitDlf",
        "outputId": "527dc442-dc05-41d7-9916-ba1c6fa94b87",
        "colab": {
          "base_uri": "https://localhost:8080/"
        }
      },
      "execution_count": 24,
      "outputs": [
        {
          "output_type": "stream",
          "name": "stdout",
          "text": [
            "[[ 16.   9.  -4. -18.]\n",
            " [ 17.  -5. -10. -12.]\n",
            " [ 11.  -9. -17.   2.]\n",
            " [  9.  -1. -15.  16.]]\n"
          ]
        }
      ]
    },
    {
      "cell_type": "markdown",
      "source": [
        "**Answer to question 3:**\n",
        "\n",
        "I will use 2x2 max-pooling for my implementation"
      ],
      "metadata": {
        "id": "rJ7uPrEEvYFQ"
      }
    },
    {
      "cell_type": "code",
      "source": [
        "max_kernel_sz = 2\n",
        "out_sz = int((act_sz - max_kernel_sz)/s)+1 # calculate output dimensions\n",
        "out = np.zeros((out_sz,out_sz)) # init output layer\n",
        "\n",
        "# next loop working only with stride = 1\n",
        "i_o = 0\n",
        "for i in range(act_sz-max_kernel_sz+1):\n",
        "  j_o = 0\n",
        "  for j in range(act_sz-max_kernel_sz+1):\n",
        "    out[i_o, j_o] = np.max(act[i:i+max_kernel_sz, j:j+max_kernel_sz])\n",
        "    j_o += 1\n",
        "  i_o += 1\n"
      ],
      "metadata": {
        "id": "uYpss7M8vic3"
      },
      "execution_count": 29,
      "outputs": []
    },
    {
      "cell_type": "code",
      "source": [
        "print(out)"
      ],
      "metadata": {
        "id": "KrWHmOSVwdQl",
        "outputId": "5ca3dde1-f848-4a53-e755-cfd693cae42c",
        "colab": {
          "base_uri": "https://localhost:8080/"
        }
      },
      "execution_count": 30,
      "outputs": [
        {
          "output_type": "stream",
          "name": "stdout",
          "text": [
            "[[17.  9. -4.]\n",
            " [17. -5.  2.]\n",
            " [11. -1. 16.]]\n"
          ]
        }
      ]
    }
  ],
  "metadata": {
    "colab": {
      "collapsed_sections": [],
      "name": "A03_task.ipynb",
      "provenance": [],
      "include_colab_link": true
    },
    "kernelspec": {
      "display_name": "Python 3 (ipykernel)",
      "language": "python",
      "name": "python3"
    },
    "language_info": {
      "codemirror_mode": {
        "name": "ipython",
        "version": 3
      },
      "file_extension": ".py",
      "mimetype": "text/x-python",
      "name": "python",
      "nbconvert_exporter": "python",
      "pygments_lexer": "ipython3",
      "version": "3.9.13"
    },
    "gpuClass": "standard"
  },
  "nbformat": 4,
  "nbformat_minor": 0
}