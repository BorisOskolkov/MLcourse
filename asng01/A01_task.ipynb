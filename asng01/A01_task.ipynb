{
  "nbformat": 4,
  "nbformat_minor": 0,
  "metadata": {
    "kernelspec": {
      "display_name": "Python 3",
      "language": "python",
      "name": "python3"
    },
    "language_info": {
      "codemirror_mode": {
        "name": "ipython",
        "version": 3
      },
      "file_extension": ".py",
      "mimetype": "text/x-python",
      "name": "python",
      "nbconvert_exporter": "python",
      "pygments_lexer": "ipython3",
      "version": "3.7.7"
    },
    "colab": {
      "name": "A00_task.ipynb",
      "provenance": [],
      "collapsed_sections": [],
      "include_colab_link": true
    }
  },
  "cells": [
    {
      "cell_type": "markdown",
      "metadata": {
        "id": "view-in-github",
        "colab_type": "text"
      },
      "source": [
        "<a href=\"https://colab.research.google.com/github/BorisOskolkov/MLcourse/blob/main/asng01/A01_task.ipynb\" target=\"_parent\"><img src=\"https://colab.research.google.com/assets/colab-badge.svg\" alt=\"Open In Colab\"/></a>"
      ]
    },
    {
      "cell_type": "markdown",
      "source": [
        "This Ipython script should be in the folder.\n",
        "\n",
        "\n",
        "Made by Boris Oskolkov for Assignment01 (CS5783)"
      ],
      "metadata": {
        "id": "btdR6_VJxLlY"
      }
    },
    {
      "cell_type": "code",
      "metadata": {
        "id": "zI8i4E-NhT3A"
      },
      "source": [
        "import numpy as np \n",
        "import matplotlib.pyplot as plt\n",
        "import string\n",
        "from IPython.display import Image"
      ],
      "execution_count": 2,
      "outputs": []
    },
    {
      "cell_type": "markdown",
      "source": [
        " --------- start of a first problem --------------"
      ],
      "metadata": {
        "id": "DWZT1m-ixr97"
      }
    },
    {
      "cell_type": "code",
      "source": [
        "#plot training data\n",
        "x_data=np.load('x_train.npy')\n",
        "y_data=np.load('y_train.npy')\n",
        "plt.plot(x_data, y_data, 'bo')"
      ],
      "metadata": {
        "id": "vRk7ldOKyVMd",
        "outputId": "6f2c857b-d376-4101-df86-03c609fa75c6",
        "colab": {
          "base_uri": "https://localhost:8080/",
          "height": 282
        }
      },
      "execution_count": 6,
      "outputs": [
        {
          "output_type": "execute_result",
          "data": {
            "text/plain": [
              "[<matplotlib.lines.Line2D at 0x7f1aee3def90>]"
            ]
          },
          "metadata": {},
          "execution_count": 6
        },
        {
          "output_type": "display_data",
          "data": {
            "text/plain": [
              "<Figure size 432x288 with 1 Axes>"
            ],
            "image/png": "[encoded data removed]"
          },
          "metadata": {
            "needs_background": "light"
          }
        }
      ]
    },
    {
      "cell_type": "code",
      "source": [
        "#plotting test data\n",
        "x_test=np.load('x_test.npy')\n",
        "y_test=np.load('y_test.npy')\n",
        "plt.plot(x_test, y_test, 'bo')"
      ],
      "metadata": {
        "id": "saT8R-suzc_D",
        "outputId": "f0b64f59-e8b7-4603-8423-c5a8d89f9464",
        "colab": {
          "base_uri": "https://localhost:8080/",
          "height": 282
        }
      },
      "execution_count": 7,
      "outputs": [
        {
          "output_type": "execute_result",
          "data": {
            "text/plain": [
              "[<matplotlib.lines.Line2D at 0x7f1aede9edd0>]"
            ]
          },
          "metadata": {},
          "execution_count": 7
        },
        {
          "output_type": "display_data",
          "data": {
            "text/plain": [
              "<Figure size 432x288 with 1 Axes>"
            ],
            "image/png": "[encoded data removed]"
          },
          "metadata": {
            "needs_background": "light"
          }
        }
      ]
    },
    {
      "cell_type": "markdown",
      "source": [
        "Answering to the first question, relationship between one variable and output is non-linear. We need to add some non-linearity to the model"
      ],
      "metadata": {
        "id": "pToHDUtgz8ev"
      }
    }
  ]
}