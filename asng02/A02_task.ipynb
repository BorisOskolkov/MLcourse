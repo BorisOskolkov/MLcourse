{
  "nbformat": 4,
  "nbformat_minor": 0,
  "metadata": {
    "kernelspec": {
      "display_name": "Python 3",
      "language": "python",
      "name": "python3"
    },
    "language_info": {
      "codemirror_mode": {
        "name": "ipython",
        "version": 3
      },
      "file_extension": ".py",
      "mimetype": "text/x-python",
      "name": "python",
      "nbconvert_exporter": "python",
      "pygments_lexer": "ipython3",
      "version": "3.7.7"
    },
    "colab": {
      "name": "A02_task.ipynb",
      "provenance": [],
      "collapsed_sections": [],
      "include_colab_link": true
    }
  },
  "cells": [
    {
      "cell_type": "markdown",
      "metadata": {
        "id": "view-in-github",
        "colab_type": "text"
      },
      "source": [
        "<a href=\"https://colab.research.google.com/github/BorisOskolkov/MLcourse/blob/main/asng02/A02_task.ipynb\" target=\"_parent\"><img src=\"https://colab.research.google.com/assets/colab-badge.svg\" alt=\"Open In Colab\"/></a>"
      ]
    },
    {
      "cell_type": "markdown",
      "source": [
        "\n",
        "Made by Boris Oskolkov for Assignment03 (CS5783)"
      ],
      "metadata": {
        "id": "btdR6_VJxLlY"
      }
    },
    {
      "cell_type": "code",
      "metadata": {
        "id": "zI8i4E-NhT3A"
      },
      "source": [
        "import numpy as np \n",
        "import matplotlib.pyplot as plt\n",
        "import string\n",
        "import pandas as pd\n",
        "from IPython.display import Image"
      ],
      "execution_count": null,
      "outputs": []
    },
    {
      "cell_type": "markdown",
      "source": [
        " --------- start of a first problem --------------"
      ],
      "metadata": {
        "id": "DWZT1m-ixr97"
      }
    },
    {
      "cell_type": "markdown",
      "source": [
        "--------- end of a first problem --------------"
      ],
      "metadata": {
        "id": "zg8mKgTn1nf0"
      }
    },
    {
      "cell_type": "markdown",
      "source": [
        "--------- start of a second problem --------------"
      ],
      "metadata": {
        "id": "42u38Qgv1sVm"
      }
    },
    {
      "cell_type": "markdown",
      "source": [
        "--------- end of a second problem --------------"
      ],
      "metadata": {
        "id": "zDLVUcmbqtwU"
      }
    }
  ]
}